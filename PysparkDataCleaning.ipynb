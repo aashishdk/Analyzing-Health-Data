{
 "cells": [
  {
   "cell_type": "markdown",
   "metadata": {
    "application/vnd.databricks.v1+cell": {
     "cellMetadata": {
      "byteLimit": 2048000,
      "rowLimit": 10000
     },
     "inputWidgets": {},
     "nuid": "47b32561-eef1-425d-be4b-d2c62562543f",
     "showTitle": false,
     "tableResultSettingsMap": {},
     "title": ""
    }
   },
   "source": [
    "**File Path**\n",
    "- dbfs:/FileStore/tables/Diagnosis_details-1.csv\n",
    "- dbfs:/FileStore/tables/Emergency_details-1.csv\n",
    "- dbfs:/FileStore/tables/Health_details-1.csv\n",
    "- dbfs:/FileStore/tables/Medical_details-1.csv\n",
    "- dbfs:/FileStore/tables/Member_details-1.csv\n",
    "- dbfs:/FileStore/tables/Procedure_details-1.csv\n"
   ]
  },
  {
   "cell_type": "code",
   "execution_count": 0,
   "metadata": {
    "application/vnd.databricks.v1+cell": {
     "cellMetadata": {
      "byteLimit": 2048000,
      "rowLimit": 10000
     },
     "inputWidgets": {},
     "nuid": "4756c71f-eb18-42a0-9216-9ce0b132d274",
     "showTitle": false,
     "tableResultSettingsMap": {},
     "title": ""
    }
   },
   "outputs": [],
   "source": [
    "#Importing all the necessary packages\n",
    "from pyspark.sql.types import *\n",
    "from pyspark.sql.functions import *\n"
   ]
  },
  {
   "cell_type": "code",
   "execution_count": 0,
   "metadata": {
    "application/vnd.databricks.v1+cell": {
     "cellMetadata": {
      "byteLimit": 2048000,
      "rowLimit": 10000
     },
     "inputWidgets": {},
     "nuid": "7159b2b6-d095-4f22-bf66-2bddc26b2bbb",
     "showTitle": false,
     "tableResultSettingsMap": {},
     "title": ""
    }
   },
   "outputs": [],
   "source": [
    "#Reading diagnosis_details file\n",
    "diagnosis_df = spark.read.format('csv')\\\n",
    "                            .option('inferschema',True)\\\n",
    "                            .option('header',True)\\\n",
    "                            .load('dbfs:/FileStore/tables/Diagnosis_details-1.csv')"
   ]
  },
  {
   "cell_type": "code",
   "execution_count": 0,
   "metadata": {
    "application/vnd.databricks.v1+cell": {
     "cellMetadata": {
      "byteLimit": 2048000,
      "rowLimit": 10000
     },
     "inputWidgets": {},
     "nuid": "7297bf02-3ed3-4f22-91b8-750cd95d3b9e",
     "showTitle": false,
     "tableResultSettingsMap": {},
     "title": ""
    }
   },
   "outputs": [
    {
     "output_type": "display_data",
     "data": {
      "text/html": [
       "<style scoped>\n",
       "  .table-result-container {\n",
       "    max-height: 300px;\n",
       "    overflow: auto;\n",
       "  }\n",
       "  table, th, td {\n",
       "    border: 1px solid black;\n",
       "    border-collapse: collapse;\n",
       "  }\n",
       "  th, td {\n",
       "    padding: 5px;\n",
       "  }\n",
       "  th {\n",
       "    text-align: left;\n",
       "  }\n",
       "</style><div class='table-result-container'><table class='table-result'><thead style='background-color: white'><tr><th>Diagnosis_code</th><th>Diagnosis_description</th></tr></thead><tbody><tr><td>N4601</td><td>Organic azoospermia</td></tr><tr><td>V828</td><td>Occupant of streetcar injured in other specified transport accidents</td></tr><tr><td>S63211D</td><td>Subluxation of metacarpophalangeal joint of left index finger, subsequent encounter</td></tr><tr><td>V0199</td><td>Pedestrian with other conveyance injured in collision with pedal cycle, unspecified whether traffic or nontraffic accident</td></tr><tr><td>S04039A</td><td>Injury of optic tract and pathways, unspecified eye, initial encounter</td></tr><tr><td>N602</td><td>Fibroadenosis of breast</td></tr><tr><td>S7811</td><td>null</td></tr><tr><td>M62159</td><td>Other rupture of muscle (nontraumatic), unspecified thigh</td></tr><tr><td>N99518</td><td>Other cystostomy complication</td></tr><tr><td>S43139</td><td>Dislocation of unspecified acromioclavicular joint, greater than 200% displacement</td></tr></tbody></table></div>"
      ]
     },
     "metadata": {
      "application/vnd.databricks.v1+output": {
       "addedWidgets": {},
       "aggData": [],
       "aggError": "",
       "aggOverflow": false,
       "aggSchema": [],
       "aggSeriesLimitReached": false,
       "aggType": "",
       "arguments": {},
       "columnCustomDisplayInfos": {},
       "data": [
        [
         "N4601",
         "Organic azoospermia"
        ],
        [
         "V828",
         "Occupant of streetcar injured in other specified transport accidents"
        ],
        [
         "S63211D",
         "Subluxation of metacarpophalangeal joint of left index finger, subsequent encounter"
        ],
        [
         "V0199",
         "Pedestrian with other conveyance injured in collision with pedal cycle, unspecified whether traffic or nontraffic accident"
        ],
        [
         "S04039A",
         "Injury of optic tract and pathways, unspecified eye, initial encounter"
        ],
        [
         "N602",
         "Fibroadenosis of breast"
        ],
        [
         "S7811",
         "null"
        ],
        [
         "M62159",
         "Other rupture of muscle (nontraumatic), unspecified thigh"
        ],
        [
         "N99518",
         "Other cystostomy complication"
        ],
        [
         "S43139",
         "Dislocation of unspecified acromioclavicular joint, greater than 200% displacement"
        ]
       ],
       "datasetInfos": [],
       "dbfsResultPath": null,
       "isJsonSchema": true,
       "metadata": {},
       "overflow": false,
       "plotOptions": {
        "customPlotOptions": {},
        "displayType": "table",
        "pivotAggregation": null,
        "pivotColumns": null,
        "xColumns": null,
        "yColumns": null
       },
       "removedWidgets": [],
       "schema": [
        {
         "metadata": "{}",
         "name": "Diagnosis_code",
         "type": "\"string\""
        },
        {
         "metadata": "{}",
         "name": "Diagnosis_description",
         "type": "\"string\""
        }
       ],
       "type": "table"
      }
     },
     "output_type": "display_data"
    }
   ],
   "source": [
    "display(diagnosis_df.limit(10))"
   ]
  },
  {
   "cell_type": "code",
   "execution_count": 0,
   "metadata": {
    "application/vnd.databricks.v1+cell": {
     "cellMetadata": {
      "byteLimit": 2048000,
      "rowLimit": 10000
     },
     "inputWidgets": {},
     "nuid": "dea9fa87-8bf5-48c7-8bff-06e785aea895",
     "showTitle": false,
     "tableResultSettingsMap": {},
     "title": ""
    }
   },
   "outputs": [],
   "source": [
    "#removing extra spaces using Trim function\n",
    "diagnosis_df = diagnosis_df.select([trim(col(c)).alias(c) for c in diagnosis_df.columns])"
   ]
  },
  {
   "cell_type": "code",
   "execution_count": 0,
   "metadata": {
    "application/vnd.databricks.v1+cell": {
     "cellMetadata": {
      "byteLimit": 2048000,
      "rowLimit": 10000
     },
     "inputWidgets": {},
     "nuid": "d7159d45-4e02-4f72-82e0-6bb57ad820cb",
     "showTitle": false,
     "tableResultSettingsMap": {},
     "title": ""
    }
   },
   "outputs": [
    {
     "output_type": "stream",
     "name": "stdout",
     "output_type": "stream",
     "text": [
      "Out[102]: DataFrame[Diagnosis_code: string, count: bigint]"
     ]
    }
   ],
   "source": [
    "# checking whether Diagnosis_code contains duplicate value or not\n",
    "diagnosis_df.groupBy('Diagnosis_code').count().orderBy('count',ascending = False)"
   ]
  },
  {
   "cell_type": "code",
   "execution_count": 0,
   "metadata": {
    "application/vnd.databricks.v1+cell": {
     "cellMetadata": {
      "byteLimit": 2048000,
      "rowLimit": 10000
     },
     "inputWidgets": {},
     "nuid": "465fae55-47b7-48b2-b633-fa8af0894442",
     "showTitle": false,
     "tableResultSettingsMap": {},
     "title": ""
    }
   },
   "outputs": [
    {
     "output_type": "display_data",
     "data": {
      "text/html": [
       "<style scoped>\n",
       "  .table-result-container {\n",
       "    max-height: 300px;\n",
       "    overflow: auto;\n",
       "  }\n",
       "  table, th, td {\n",
       "    border: 1px solid black;\n",
       "    border-collapse: collapse;\n",
       "  }\n",
       "  th, td {\n",
       "    padding: 5px;\n",
       "  }\n",
       "  th {\n",
       "    text-align: left;\n",
       "  }\n",
       "</style><div class='table-result-container'><table class='table-result'><thead style='background-color: white'><tr><th>Diagnosis_code</th><th>Diagnosis_description</th></tr></thead><tbody><tr><td>A1831</td><td>Tuberculous peritonitis</td></tr><tr><td>A378</td><td>Whooping cough due to other Bordetella species</td></tr><tr><td>A421</td><td>Abdominal actinomycosis</td></tr><tr><td>A5481</td><td>Gonococcal meningitis</td></tr><tr><td>A5602</td><td>Chlamydial vulvovaginitis</td></tr><tr><td>B0059</td><td>Other herpesviral disease of eye</td></tr><tr><td>B087</td><td>Yatapoxvirus infections</td></tr><tr><td>B189</td><td>Chronic viral hepatitis, unspecified</td></tr><tr><td>B2790</td><td>Infectious mononucleosis, unspecified without complication</td></tr><tr><td>B3784</td><td>Candidal otitis externa</td></tr></tbody></table></div>"
      ]
     },
     "metadata": {
      "application/vnd.databricks.v1+output": {
       "addedWidgets": {},
       "aggData": [],
       "aggError": "",
       "aggOverflow": false,
       "aggSchema": [],
       "aggSeriesLimitReached": false,
       "aggType": "",
       "arguments": {},
       "columnCustomDisplayInfos": {},
       "data": [
        [
         "A1831",
         "Tuberculous peritonitis"
        ],
        [
         "A378",
         "Whooping cough due to other Bordetella species"
        ],
        [
         "A421",
         "Abdominal actinomycosis"
        ],
        [
         "A5481",
         "Gonococcal meningitis"
        ],
        [
         "A5602",
         "Chlamydial vulvovaginitis"
        ],
        [
         "B0059",
         "Other herpesviral disease of eye"
        ],
        [
         "B087",
         "Yatapoxvirus infections"
        ],
        [
         "B189",
         "Chronic viral hepatitis, unspecified"
        ],
        [
         "B2790",
         "Infectious mononucleosis, unspecified without complication"
        ],
        [
         "B3784",
         "Candidal otitis externa"
        ]
       ],
       "datasetInfos": [],
       "dbfsResultPath": null,
       "isJsonSchema": true,
       "metadata": {},
       "overflow": false,
       "plotOptions": {
        "customPlotOptions": {},
        "displayType": "table",
        "pivotAggregation": null,
        "pivotColumns": null,
        "xColumns": null,
        "yColumns": null
       },
       "removedWidgets": [],
       "schema": [
        {
         "metadata": "{}",
         "name": "Diagnosis_code",
         "type": "\"string\""
        },
        {
         "metadata": "{}",
         "name": "Diagnosis_description",
         "type": "\"string\""
        }
       ],
       "type": "table"
      }
     },
     "output_type": "display_data"
    }
   ],
   "source": [
    "from pyspark.sql import Window\n",
    "# Define a window specification partitioned by Diagnosis_code and ordered by Diagnosis_description\n",
    "# Use asc_nulls_last() to prioritize non-null values\n",
    "window_spec = Window.partitionBy(\"Diagnosis_code\").orderBy(col(\"Diagnosis_description\").asc_nulls_last())\n",
    "\n",
    "# Add a row number column to each row within the window\n",
    "diagnosis_df_with_row_num = diagnosis_df.withColumn(\"row_num\", row_number().over(window_spec))\n",
    "\n",
    "# Filter to keep only the first row for each Diagnosis_code (non-null description takes priority)\n",
    "diagnosis_df = diagnosis_df_with_row_num.filter(col(\"row_num\") == 1).drop('row_num')\n",
    "\n",
    "# Show the resulting DataFrame\n",
    "display(diagnosis_df.limit(10))"
   ]
  },
  {
   "cell_type": "markdown",
   "metadata": {
    "application/vnd.databricks.v1+cell": {
     "cellMetadata": {
      "byteLimit": 2048000,
      "rowLimit": 10000
     },
     "inputWidgets": {},
     "nuid": "623a502e-a563-4e2d-969b-06d900b068ac",
     "showTitle": false,
     "tableResultSettingsMap": {},
     "title": ""
    }
   },
   "source": [
    "### Emergency DF"
   ]
  },
  {
   "cell_type": "code",
   "execution_count": 0,
   "metadata": {
    "application/vnd.databricks.v1+cell": {
     "cellMetadata": {
      "byteLimit": 2048000,
      "rowLimit": 10000
     },
     "inputWidgets": {},
     "nuid": "80acc12c-bd56-4ca7-a59d-263c44d9eede",
     "showTitle": false,
     "tableResultSettingsMap": {},
     "title": ""
    }
   },
   "outputs": [],
   "source": [
    "emergency_df = spark.read.format('csv')\\\n",
    "                       .option('inferschema',True)\\\n",
    "                        .option('header',True)\\\n",
    "                        .load('dbfs:/FileStore/tables/Emergency_details-1.csv')"
   ]
  },
  {
   "cell_type": "code",
   "execution_count": 0,
   "metadata": {
    "application/vnd.databricks.v1+cell": {
     "cellMetadata": {
      "byteLimit": 2048000,
      "rowLimit": 10000
     },
     "inputWidgets": {},
     "nuid": "29f8740b-a8d6-43a8-aa1d-3207edcf8790",
     "showTitle": false,
     "tableResultSettingsMap": {},
     "title": ""
    }
   },
   "outputs": [
    {
     "output_type": "display_data",
     "data": {
      "text/html": [
       "<style scoped>\n",
       "  .table-result-container {\n",
       "    max-height: 300px;\n",
       "    overflow: auto;\n",
       "  }\n",
       "  table, th, td {\n",
       "    border: 1px solid black;\n",
       "    border-collapse: collapse;\n",
       "  }\n",
       "  th, td {\n",
       "    padding: 5px;\n",
       "  }\n",
       "  th {\n",
       "    text-align: left;\n",
       "  }\n",
       "</style><div class='table-result-container'><table class='table-result'><thead style='background-color: white'><tr><th>Member_id</th><th>emergency_contact_name</th><th>emergency_contact_phone</th></tr></thead><tbody><tr><td>MiMi811108442</td><td>Millicent Sainte Paul</td><td>463-567-7558</td></tr><tr><td>TeNe599223180</td><td>Neila Bartoszinski</td><td>728-430-2481</td></tr><tr><td>MiBu217454145</td><td>Budd McKim</td><td>716-431-5374</td></tr><tr><td>MiMe455261897</td><td>Merilyn Boulder</td><td>137-917-0326</td></tr><tr><td>TeSu198272777</td><td>Sula Rackam</td><td>937-890-0233</td></tr><tr><td>GoCa876258307</td><td>Casey Gowans</td><td>763-436-5204</td></tr><tr><td>GoCa876258307</td><td>Casey Gowans</td><td>763-436-5204</td></tr><tr><td>MiJa710166731</td><td>Jayme Trude</td><td>278-467-4986</td></tr><tr><td>GoBr622338922</td><td>Brittni De Biasio</td><td>752-290-7933</td></tr><tr><td>ApAm559755808</td><td>Amelia Malone</td><td>331-488-0701</td></tr></tbody></table></div>"
      ]
     },
     "metadata": {
      "application/vnd.databricks.v1+output": {
       "addedWidgets": {},
       "aggData": [],
       "aggError": "",
       "aggOverflow": false,
       "aggSchema": [],
       "aggSeriesLimitReached": false,
       "aggType": "",
       "arguments": {},
       "columnCustomDisplayInfos": {},
       "data": [
        [
         "MiMi811108442",
         "Millicent Sainte Paul",
         "463-567-7558"
        ],
        [
         "TeNe599223180",
         "Neila Bartoszinski",
         "728-430-2481"
        ],
        [
         "MiBu217454145",
         "Budd McKim",
         "716-431-5374"
        ],
        [
         "MiMe455261897",
         "Merilyn Boulder",
         "137-917-0326"
        ],
        [
         "TeSu198272777",
         "Sula Rackam",
         "937-890-0233"
        ],
        [
         "GoCa876258307",
         "Casey Gowans",
         "763-436-5204"
        ],
        [
         "GoCa876258307",
         "Casey Gowans",
         "763-436-5204"
        ],
        [
         "MiJa710166731",
         "Jayme Trude",
         "278-467-4986"
        ],
        [
         "GoBr622338922",
         "Brittni De Biasio",
         "752-290-7933"
        ],
        [
         "ApAm559755808",
         "Amelia Malone",
         "331-488-0701"
        ]
       ],
       "datasetInfos": [],
       "dbfsResultPath": null,
       "isJsonSchema": true,
       "metadata": {},
       "overflow": false,
       "plotOptions": {
        "customPlotOptions": {},
        "displayType": "table",
        "pivotAggregation": null,
        "pivotColumns": null,
        "xColumns": null,
        "yColumns": null
       },
       "removedWidgets": [],
       "schema": [
        {
         "metadata": "{}",
         "name": "Member_id",
         "type": "\"string\""
        },
        {
         "metadata": "{}",
         "name": "emergency_contact_name",
         "type": "\"string\""
        },
        {
         "metadata": "{}",
         "name": "emergency_contact_phone",
         "type": "\"string\""
        }
       ],
       "type": "table"
      }
     },
     "output_type": "display_data"
    }
   ],
   "source": [
    "display(emergency_df.limit(10))"
   ]
  },
  {
   "cell_type": "code",
   "execution_count": 0,
   "metadata": {
    "application/vnd.databricks.v1+cell": {
     "cellMetadata": {
      "byteLimit": 2048000,
      "rowLimit": 10000
     },
     "inputWidgets": {},
     "nuid": "8ef6204b-1162-4ba0-9e1c-a9aa1c211ee8",
     "showTitle": false,
     "tableResultSettingsMap": {},
     "title": ""
    }
   },
   "outputs": [
    {
     "output_type": "stream",
     "name": "stdout",
     "output_type": "stream",
     "text": [
      "Out[106]: DataFrame[Member_id: string, count: bigint]"
     ]
    }
   ],
   "source": [
    "emergency_df.groupBy('Member_id').count().orderBy('count',ascending= False)"
   ]
  },
  {
   "cell_type": "code",
   "execution_count": 0,
   "metadata": {
    "application/vnd.databricks.v1+cell": {
     "cellMetadata": {
      "byteLimit": 2048000,
      "rowLimit": 10000
     },
     "inputWidgets": {},
     "nuid": "383c4fc4-8f72-44d4-8fb2-92aac7b8598e",
     "showTitle": false,
     "tableResultSettingsMap": {},
     "title": ""
    }
   },
   "outputs": [
    {
     "output_type": "display_data",
     "data": {
      "text/html": [
       "<style scoped>\n",
       "  .table-result-container {\n",
       "    max-height: 300px;\n",
       "    overflow: auto;\n",
       "  }\n",
       "  table, th, td {\n",
       "    border: 1px solid black;\n",
       "    border-collapse: collapse;\n",
       "  }\n",
       "  th, td {\n",
       "    padding: 5px;\n",
       "  }\n",
       "  th {\n",
       "    text-align: left;\n",
       "  }\n",
       "</style><div class='table-result-container'><table class='table-result'><thead style='background-color: white'><tr><th>Member_id</th><th>emergency_contact_name</th><th>emergency_contact_phone</th></tr></thead><tbody><tr><td>ApAb315922251</td><td>Abelard Yegorkin</td><td>354-913-8111</td></tr><tr><td>ApAb504391274</td><td>Abigale Popland</td><td>141-136-0623</td></tr><tr><td>ApAd639216428</td><td>Adolf Gyver</td><td>529-707-4967</td></tr><tr><td>ApAg300549833</td><td>Aggi Shoebotham</td><td>400-237-8367</td></tr><tr><td>ApAj677713792</td><td>Ajay Feares</td><td>602-196-2839</td></tr><tr><td>ApAl211380839</td><td>Alon Thornally</td><td>605-664-0522</td></tr><tr><td>ApAl379415659</td><td>Alena Brason</td><td>332-389-1962</td></tr><tr><td>ApAl426267215</td><td>Alfreda Rolf</td><td>792-183-8502</td></tr><tr><td>ApAl548028460</td><td>Allys Dri</td><td>177-841-6467</td></tr><tr><td>ApAl893411558</td><td>Alistair Plampeyn</td><td>402-701-8253</td></tr></tbody></table></div>"
      ]
     },
     "metadata": {
      "application/vnd.databricks.v1+output": {
       "addedWidgets": {},
       "aggData": [],
       "aggError": "",
       "aggOverflow": false,
       "aggSchema": [],
       "aggSeriesLimitReached": false,
       "aggType": "",
       "arguments": {},
       "columnCustomDisplayInfos": {},
       "data": [
        [
         "ApAb315922251",
         "Abelard Yegorkin",
         "354-913-8111"
        ],
        [
         "ApAb504391274",
         "Abigale Popland",
         "141-136-0623"
        ],
        [
         "ApAd639216428",
         "Adolf Gyver",
         "529-707-4967"
        ],
        [
         "ApAg300549833",
         "Aggi Shoebotham",
         "400-237-8367"
        ],
        [
         "ApAj677713792",
         "Ajay Feares",
         "602-196-2839"
        ],
        [
         "ApAl211380839",
         "Alon Thornally",
         "605-664-0522"
        ],
        [
         "ApAl379415659",
         "Alena Brason",
         "332-389-1962"
        ],
        [
         "ApAl426267215",
         "Alfreda Rolf",
         "792-183-8502"
        ],
        [
         "ApAl548028460",
         "Allys Dri",
         "177-841-6467"
        ],
        [
         "ApAl893411558",
         "Alistair Plampeyn",
         "402-701-8253"
        ]
       ],
       "datasetInfos": [],
       "dbfsResultPath": null,
       "isJsonSchema": true,
       "metadata": {},
       "overflow": false,
       "plotOptions": {
        "customPlotOptions": {},
        "displayType": "table",
        "pivotAggregation": null,
        "pivotColumns": null,
        "xColumns": null,
        "yColumns": null
       },
       "removedWidgets": [],
       "schema": [
        {
         "metadata": "{}",
         "name": "Member_id",
         "type": "\"string\""
        },
        {
         "metadata": "{}",
         "name": "emergency_contact_name",
         "type": "\"string\""
        },
        {
         "metadata": "{}",
         "name": "emergency_contact_phone",
         "type": "\"string\""
        }
       ],
       "type": "table"
      }
     },
     "output_type": "display_data"
    }
   ],
   "source": [
    "from pyspark.sql.window import Window\n",
    "from pyspark.sql.functions import col, row_number\n",
    "\n",
    "# Define window specification\n",
    "window_spec = Window.partitionBy('Member_id').orderBy(\n",
    "    col('emergency_contact_name').asc_nulls_last(),\n",
    ")\n",
    "\n",
    "# Assign row number\n",
    "assign_row = emergency_df.withColumn('row_col', row_number().over(window_spec))\n",
    "\n",
    "# Filter to keep only the first row per partition\n",
    "df_filter = assign_row.filter(col('row_col') == 1).drop('row_col')\n",
    "\n",
    "# Display the result\n",
    "emergency_df = df_filter\n",
    "\n",
    "display(emergency_df.limit(10))\n"
   ]
  },
  {
   "cell_type": "markdown",
   "metadata": {
    "application/vnd.databricks.v1+cell": {
     "cellMetadata": {
      "byteLimit": 2048000,
      "rowLimit": 10000
     },
     "inputWidgets": {},
     "nuid": "cd7c43f3-d9e8-41ba-8f9f-29fb4b945066",
     "showTitle": false,
     "tableResultSettingsMap": {},
     "title": ""
    }
   },
   "source": [
    "# **Health_df**"
   ]
  },
  {
   "cell_type": "code",
   "execution_count": 0,
   "metadata": {
    "application/vnd.databricks.v1+cell": {
     "cellMetadata": {
      "byteLimit": 2048000,
      "rowLimit": 10000
     },
     "inputWidgets": {},
     "nuid": "03cceb3b-8be2-4f41-b79a-9db6e1070d9a",
     "showTitle": false,
     "tableResultSettingsMap": {},
     "title": ""
    }
   },
   "outputs": [],
   "source": [
    "health_df = spark.read.format('csv')\\\n",
    "                       .option('inferschema',True)\\\n",
    "                        .option('header',True)\\\n",
    "                        .load('dbfs:/FileStore/tables/Health_details-1.csv')"
   ]
  },
  {
   "cell_type": "code",
   "execution_count": 0,
   "metadata": {
    "application/vnd.databricks.v1+cell": {
     "cellMetadata": {
      "byteLimit": 2048000,
      "rowLimit": 10000
     },
     "inputWidgets": {},
     "nuid": "ee61255c-d7e1-493a-87d4-8c0c491a9f0a",
     "showTitle": false,
     "tableResultSettingsMap": {},
     "title": ""
    }
   },
   "outputs": [
    {
     "output_type": "display_data",
     "data": {
      "text/html": [
       "<style scoped>\n",
       "  .table-result-container {\n",
       "    max-height: 300px;\n",
       "    overflow: auto;\n",
       "  }\n",
       "  table, th, td {\n",
       "    border: 1px solid black;\n",
       "    border-collapse: collapse;\n",
       "  }\n",
       "  th, td {\n",
       "    padding: 5px;\n",
       "  }\n",
       "  th {\n",
       "    text-align: left;\n",
       "  }\n",
       "</style><div class='table-result-container'><table class='table-result'><thead style='background-color: white'><tr><th>Member_id</th><th>medical_condition</th><th>allergies</th><th>medications</th><th>blood_type</th><th>height</th><th>weight</th><th>blood_pressure</th><th>heart_rate</th></tr></thead><tbody><tr><td>MiMi811108442</td><td>Extended 24/7 success</td><td>Fully-configurable high-level data-warehouse</td><td>Inverse executive info-mediaries</td><td>AB</td><td>78.74</td><td>2.02</td><td>117</td><td>191</td></tr><tr><td>TeNe599223180</td><td>Right-sized impactful capacity</td><td>Seamless human-resource process improvement</td><td>Cross-group mobile middleware</td><td>O</td><td>55.85</td><td>414.1</td><td>191</td><td>40</td></tr><tr><td>MiBu217454145</td><td>Mandatory bottom-line workforce</td><td>Versatile user-facing monitoring</td><td>Customizable heuristic database</td><td>AB</td><td>85.67</td><td>62.23</td><td>147</td><td>109</td></tr><tr><td>MiMe455261897</td><td>Universal maximized internet solution</td><td>Implemented 6th generation superstructure</td><td>Monitored demand-driven database</td><td>A</td><td>21.95</td><td>230.68</td><td>186</td><td>144</td></tr><tr><td>TeSu198272777</td><td>Robust zero administration application</td><td>Quality-focused solution-oriented model</td><td>Operative system-worthy architecture</td><td>AB</td><td>32.17</td><td>360.92</td><td>92</td><td>184</td></tr><tr><td>GoCa876258307</td><td>Networked motivating process improvement</td><td>Organic real-time hierarchy</td><td>Horizontal zero tolerance system engine</td><td>B</td><td>99.73</td><td>192.45</td><td>197</td><td>179</td></tr><tr><td>GoCa876258307</td><td>Networked motivating process improvement</td><td>Organic real-time hierarchy</td><td>Horizontal zero tolerance system engine</td><td>B</td><td>99.73</td><td>192.45</td><td>197</td><td>179</td></tr><tr><td>MiJa710166731</td><td>Public-key didactic neural-net</td><td>Programmable interactive conglomeration</td><td>Down-sized tertiary project</td><td>A</td><td>13.62</td><td>417.41</td><td>57</td><td>166</td></tr><tr><td>GoBr622338922</td><td>Managed stable database</td><td>Managed maximized interface</td><td>Grass-roots homogeneous contingency</td><td>AB</td><td>69.3</td><td>71.82</td><td>183</td><td>48</td></tr><tr><td>ApAm559755808</td><td>Networked scalable workforce</td><td>Switchable fresh-thinking encryption</td><td>Inverse interactive hardware</td><td>AB</td><td>61.65</td><td>438.59</td><td>106</td><td>197</td></tr></tbody></table></div>"
      ]
     },
     "metadata": {
      "application/vnd.databricks.v1+output": {
       "addedWidgets": {},
       "aggData": [],
       "aggError": "",
       "aggOverflow": false,
       "aggSchema": [],
       "aggSeriesLimitReached": false,
       "aggType": "",
       "arguments": {},
       "columnCustomDisplayInfos": {},
       "data": [
        [
         "MiMi811108442",
         "Extended 24/7 success",
         "Fully-configurable high-level data-warehouse",
         "Inverse executive info-mediaries",
         "AB",
         "78.74",
         "2.02",
         "117",
         "191"
        ],
        [
         "TeNe599223180",
         "Right-sized impactful capacity",
         "Seamless human-resource process improvement",
         "Cross-group mobile middleware",
         "O",
         "55.85",
         "414.1",
         "191",
         "40"
        ],
        [
         "MiBu217454145",
         "Mandatory bottom-line workforce",
         "Versatile user-facing monitoring",
         "Customizable heuristic database",
         "AB",
         "85.67",
         "62.23",
         "147",
         "109"
        ],
        [
         "MiMe455261897",
         "Universal maximized internet solution",
         "Implemented 6th generation superstructure",
         "Monitored demand-driven database",
         "A",
         "21.95",
         "230.68",
         "186",
         "144"
        ],
        [
         "TeSu198272777",
         "Robust zero administration application",
         "Quality-focused solution-oriented model",
         "Operative system-worthy architecture",
         "AB",
         "32.17",
         "360.92",
         "92",
         "184"
        ],
        [
         "GoCa876258307",
         "Networked motivating process improvement",
         "Organic real-time hierarchy",
         "Horizontal zero tolerance system engine",
         "B",
         "99.73",
         "192.45",
         "197",
         "179"
        ],
        [
         "GoCa876258307",
         "Networked motivating process improvement",
         "Organic real-time hierarchy",
         "Horizontal zero tolerance system engine",
         "B",
         "99.73",
         "192.45",
         "197",
         "179"
        ],
        [
         "MiJa710166731",
         "Public-key didactic neural-net",
         "Programmable interactive conglomeration",
         "Down-sized tertiary project",
         "A",
         "13.62",
         "417.41",
         "57",
         "166"
        ],
        [
         "GoBr622338922",
         "Managed stable database",
         "Managed maximized interface",
         "Grass-roots homogeneous contingency",
         "AB",
         "69.3",
         "71.82",
         "183",
         "48"
        ],
        [
         "ApAm559755808",
         "Networked scalable workforce",
         "Switchable fresh-thinking encryption",
         "Inverse interactive hardware",
         "AB",
         "61.65",
         "438.59",
         "106",
         "197"
        ]
       ],
       "datasetInfos": [],
       "dbfsResultPath": null,
       "isJsonSchema": true,
       "metadata": {},
       "overflow": false,
       "plotOptions": {
        "customPlotOptions": {},
        "displayType": "table",
        "pivotAggregation": null,
        "pivotColumns": null,
        "xColumns": null,
        "yColumns": null
       },
       "removedWidgets": [],
       "schema": [
        {
         "metadata": "{}",
         "name": "Member_id",
         "type": "\"string\""
        },
        {
         "metadata": "{}",
         "name": "medical_condition",
         "type": "\"string\""
        },
        {
         "metadata": "{}",
         "name": "allergies",
         "type": "\"string\""
        },
        {
         "metadata": "{}",
         "name": "medications",
         "type": "\"string\""
        },
        {
         "metadata": "{}",
         "name": "blood_type",
         "type": "\"string\""
        },
        {
         "metadata": "{}",
         "name": "height",
         "type": "\"string\""
        },
        {
         "metadata": "{}",
         "name": "weight",
         "type": "\"string\""
        },
        {
         "metadata": "{}",
         "name": "blood_pressure",
         "type": "\"string\""
        },
        {
         "metadata": "{}",
         "name": "heart_rate",
         "type": "\"string\""
        }
       ],
       "type": "table"
      }
     },
     "output_type": "display_data"
    }
   ],
   "source": [
    "display(health_df.limit(10))"
   ]
  },
  {
   "cell_type": "code",
   "execution_count": 0,
   "metadata": {
    "application/vnd.databricks.v1+cell": {
     "cellMetadata": {
      "byteLimit": 2048000,
      "rowLimit": 10000
     },
     "inputWidgets": {},
     "nuid": "ed2dcacf-a1a8-4caa-833a-5831bef9c81e",
     "showTitle": false,
     "tableResultSettingsMap": {},
     "title": ""
    }
   },
   "outputs": [
    {
     "output_type": "display_data",
     "data": {
      "text/html": [
       "<style scoped>\n",
       "  .table-result-container {\n",
       "    max-height: 300px;\n",
       "    overflow: auto;\n",
       "  }\n",
       "  table, th, td {\n",
       "    border: 1px solid black;\n",
       "    border-collapse: collapse;\n",
       "  }\n",
       "  th, td {\n",
       "    padding: 5px;\n",
       "  }\n",
       "  th {\n",
       "    text-align: left;\n",
       "  }\n",
       "</style><div class='table-result-container'><table class='table-result'><thead style='background-color: white'><tr><th>Member_id</th><th>medical_condition</th><th>allergies</th><th>medications</th><th>blood_type</th><th>height</th><th>weight</th><th>blood_pressure</th><th>heart_rate</th></tr></thead><tbody><tr><td>ApAb315922251</td><td>Managed intermediate product</td><td>Monitored non-volatile framework</td><td>Team-oriented 24/7 capacity</td><td>A</td><td>22.31</td><td>315.11</td><td>89</td><td>118</td></tr><tr><td>ApAb504391274</td><td>Virtual explicit encoding</td><td>User-centric tertiary contingency</td><td>Virtual reciprocal matrix</td><td>O</td><td>91.5</td><td>325.13</td><td>53</td><td>138</td></tr><tr><td>ApAd639216428</td><td>Quality-focused dynamic implementation</td><td>Open-architected discrete knowledge user</td><td>Intuitive neutral superstructure</td><td>A</td><td>5.58</td><td>46.09</td><td>162</td><td>105</td></tr><tr><td>ApAg300549833</td><td>Advanced content-based productivity</td><td>Organic static success</td><td>Function-based local application</td><td>AB</td><td>29.34</td><td>156.47</td><td>94</td><td>199</td></tr><tr><td>ApAj677713792</td><td>Distributed coherent software</td><td>Reactive next generation product</td><td>Focused encompassing array</td><td>A</td><td>46.43</td><td>211.27</td><td>122</td><td>175</td></tr><tr><td>ApAl211380839</td><td>User-centric empowering forecast</td><td>Networked responsive core</td><td>Managed non-volatile matrix</td><td>A</td><td>26.85</td><td>245.72</td><td>182</td><td>144</td></tr><tr><td>ApAl379415659</td><td>Function-based systemic website</td><td>Synchronised executive support</td><td>Digitized optimal website</td><td>B</td><td>85.04</td><td>76.97</td><td>146</td><td>140</td></tr><tr><td>ApAl426267215</td><td>Persistent optimal benchmark</td><td>De-engineered stable infrastructure</td><td>Re-contextualized upward-trending workforce</td><td>O</td><td>42.81</td><td>63.68</td><td>74</td><td>181</td></tr><tr><td>ApAl548028460</td><td>Sharable client-driven encoding</td><td>Function-based intangible frame</td><td>Organized bandwidth-monitored Graphic Interface</td><td>B</td><td>22.47</td><td>285.35</td><td>142</td><td>55</td></tr><tr><td>ApAl893411558</td><td>Organic asynchronous challenge</td><td>Adaptive fault-tolerant local area network</td><td>Self-enabling methodical portal</td><td>O</td><td>44.53</td><td>213.04</td><td>56</td><td>188</td></tr></tbody></table></div>"
      ]
     },
     "metadata": {
      "application/vnd.databricks.v1+output": {
       "addedWidgets": {},
       "aggData": [],
       "aggError": "",
       "aggOverflow": false,
       "aggSchema": [],
       "aggSeriesLimitReached": false,
       "aggType": "",
       "arguments": {},
       "columnCustomDisplayInfos": {},
       "data": [
        [
         "ApAb315922251",
         "Managed intermediate product",
         "Monitored non-volatile framework",
         "Team-oriented 24/7 capacity",
         "A",
         "22.31",
         "315.11",
         "89",
         "118"
        ],
        [
         "ApAb504391274",
         "Virtual explicit encoding",
         "User-centric tertiary contingency",
         "Virtual reciprocal matrix",
         "O",
         "91.5",
         "325.13",
         "53",
         "138"
        ],
        [
         "ApAd639216428",
         "Quality-focused dynamic implementation",
         "Open-architected discrete knowledge user",
         "Intuitive neutral superstructure",
         "A",
         "5.58",
         "46.09",
         "162",
         "105"
        ],
        [
         "ApAg300549833",
         "Advanced content-based productivity",
         "Organic static success",
         "Function-based local application",
         "AB",
         "29.34",
         "156.47",
         "94",
         "199"
        ],
        [
         "ApAj677713792",
         "Distributed coherent software",
         "Reactive next generation product",
         "Focused encompassing array",
         "A",
         "46.43",
         "211.27",
         "122",
         "175"
        ],
        [
         "ApAl211380839",
         "User-centric empowering forecast",
         "Networked responsive core",
         "Managed non-volatile matrix",
         "A",
         "26.85",
         "245.72",
         "182",
         "144"
        ],
        [
         "ApAl379415659",
         "Function-based systemic website",
         "Synchronised executive support",
         "Digitized optimal website",
         "B",
         "85.04",
         "76.97",
         "146",
         "140"
        ],
        [
         "ApAl426267215",
         "Persistent optimal benchmark",
         "De-engineered stable infrastructure",
         "Re-contextualized upward-trending workforce",
         "O",
         "42.81",
         "63.68",
         "74",
         "181"
        ],
        [
         "ApAl548028460",
         "Sharable client-driven encoding",
         "Function-based intangible frame",
         "Organized bandwidth-monitored Graphic Interface",
         "B",
         "22.47",
         "285.35",
         "142",
         "55"
        ],
        [
         "ApAl893411558",
         "Organic asynchronous challenge",
         "Adaptive fault-tolerant local area network",
         "Self-enabling methodical portal",
         "O",
         "44.53",
         "213.04",
         "56",
         "188"
        ]
       ],
       "datasetInfos": [],
       "dbfsResultPath": null,
       "isJsonSchema": true,
       "metadata": {},
       "overflow": false,
       "plotOptions": {
        "customPlotOptions": {},
        "displayType": "table",
        "pivotAggregation": null,
        "pivotColumns": null,
        "xColumns": null,
        "yColumns": null
       },
       "removedWidgets": [],
       "schema": [
        {
         "metadata": "{}",
         "name": "Member_id",
         "type": "\"string\""
        },
        {
         "metadata": "{}",
         "name": "medical_condition",
         "type": "\"string\""
        },
        {
         "metadata": "{}",
         "name": "allergies",
         "type": "\"string\""
        },
        {
         "metadata": "{}",
         "name": "medications",
         "type": "\"string\""
        },
        {
         "metadata": "{}",
         "name": "blood_type",
         "type": "\"string\""
        },
        {
         "metadata": "{}",
         "name": "height",
         "type": "\"string\""
        },
        {
         "metadata": "{}",
         "name": "weight",
         "type": "\"string\""
        },
        {
         "metadata": "{}",
         "name": "blood_pressure",
         "type": "\"string\""
        },
        {
         "metadata": "{}",
         "name": "heart_rate",
         "type": "\"string\""
        }
       ],
       "type": "table"
      }
     },
     "output_type": "display_data"
    }
   ],
   "source": [
    "from pyspark.sql.window import Window\n",
    "\n",
    "window_spec = Window.partitionBy('Member_id').orderBy(col('medical_condition').asc_nulls_last())\n",
    "\n",
    "assign_row = health_df.withColumn('row_col',row_number().over(window_spec))\n",
    "df_filter = assign_row.filter(col('row_col') ==1).drop('row_col')\n",
    "health_df = df_filter\n",
    "\n",
    "display(health_df.limit(10))"
   ]
  },
  {
   "cell_type": "markdown",
   "metadata": {
    "application/vnd.databricks.v1+cell": {
     "cellMetadata": {
      "byteLimit": 2048000,
      "rowLimit": 10000
     },
     "inputWidgets": {},
     "nuid": "4b2432b2-5e7a-43a0-8c78-adb27ad3df72",
     "showTitle": false,
     "tableResultSettingsMap": {},
     "title": ""
    }
   },
   "source": [
    "### Medical DF"
   ]
  },
  {
   "cell_type": "code",
   "execution_count": 0,
   "metadata": {
    "application/vnd.databricks.v1+cell": {
     "cellMetadata": {
      "byteLimit": 2048000,
      "rowLimit": 10000
     },
     "inputWidgets": {},
     "nuid": "2b76e73a-8b52-490d-b2f1-cc8f6d2bd580",
     "showTitle": false,
     "tableResultSettingsMap": {},
     "title": ""
    }
   },
   "outputs": [],
   "source": [
    "medical_df = spark.read.format('csv')\\\n",
    "                       .option('inferschema',True)\\\n",
    "                        .option('header',True)\\\n",
    "                        .load('dbfs:/FileStore/tables/Medical_details-1.csv')"
   ]
  },
  {
   "cell_type": "code",
   "execution_count": 0,
   "metadata": {
    "application/vnd.databricks.v1+cell": {
     "cellMetadata": {
      "byteLimit": 2048000,
      "rowLimit": 10000
     },
     "inputWidgets": {},
     "nuid": "03e03e28-c36a-4fe8-a3bb-408bb2ddb796",
     "showTitle": false,
     "tableResultSettingsMap": {},
     "title": ""
    }
   },
   "outputs": [
    {
     "output_type": "display_data",
     "data": {
      "text/html": [
       "<style scoped>\n",
       "  .table-result-container {\n",
       "    max-height: 300px;\n",
       "    overflow: auto;\n",
       "  }\n",
       "  table, th, td {\n",
       "    border: 1px solid black;\n",
       "    border-collapse: collapse;\n",
       "  }\n",
       "  th, td {\n",
       "    padding: 5px;\n",
       "  }\n",
       "  th {\n",
       "    text-align: left;\n",
       "  }\n",
       "</style><div class='table-result-container'><table class='table-result'><thead style='background-color: white'><tr><th>Member_id</th><th>insurance_provider</th><th>insurance_policy_number</th><th>insurance_expiration_date</th><th>Diagnosis_code</th><th>Procedure_code</th><th>primary_care_physician</th><th>last_visit_date</th></tr></thead><tbody><tr><td>MiMi811108442</td><td>Leannon-Morissette</td><td>103082</td><td>11/20/2046</td><td>S59099P</td><td>041F09K</td><td>Millicent Sainte Paul</td><td>2/6/2016</td></tr><tr><td>TeNe599223180</td><td>Zemlak and Sons</td><td>103675</td><td>8/15/2042</td><td>M84539P</td><td>09R907Z</td><td>Neila Bartoszinski</td><td>10/30/2014</td></tr><tr><td>MiBu217454145</td><td>Glover, Brakus and Sawayn</td><td>105096</td><td>5/2/2026</td><td> Y3702</td><td>0PUR07Z</td><td>Budd McKim</td><td>6/6/2022</td></tr><tr><td>MiMe455261897</td><td>Kub, Roob and Stokes</td><td>105710</td><td>1/23/2031</td><td>V159XXS</td><td>0Y0D3KZ</td><td>Merilyn Boulder</td><td>5/31/2005</td></tr><tr><td>TeSu198272777 </td><td>Borer Group</td><td>105847</td><td>3/29/2033</td><td> T8620</td><td>0SP034Z</td><td>Sula Rackam</td><td>11/5/2004</td></tr><tr><td>GoCa876258307</td><td>Deckow, Olson and Koss</td><td>106641</td><td>9/24/2043</td><td>T445X1D</td><td>0BV10DZ</td><td>Casey Gowans</td><td>9/10/2005</td></tr><tr><td>GoCa876258307</td><td>Deckow, Olson and Koss</td><td>106641</td><td>9/24/2043</td><td> T445X1D</td><td>0BV10DZ</td><td>Casey Gowans</td><td>9/10/2005</td></tr><tr><td>MiJa710166731 </td><td>Doyle-Torp</td><td>106983</td><td>5/28/2027</td><td>S34113D</td><td>04RH47Z</td><td>Jayme Trude</td><td>12/6/2018</td></tr><tr><td>GoBr622338922</td><td>Batz and Sons</td><td>107191</td><td>11/19/2023</td><td>S1120</td><td>0F993ZZ</td><td>Brittni De Biasio</td><td>10/10/2012</td></tr><tr><td>ApAm559755808</td><td>Buckridge, Bernier and Corkery</td><td>107766</td><td>5/27/2047</td><td>S83211S</td><td>0R9S3ZX</td><td>Amelia Malone</td><td>3/4/2016</td></tr></tbody></table></div>"
      ]
     },
     "metadata": {
      "application/vnd.databricks.v1+output": {
       "addedWidgets": {},
       "aggData": [],
       "aggError": "",
       "aggOverflow": false,
       "aggSchema": [],
       "aggSeriesLimitReached": false,
       "aggType": "",
       "arguments": {},
       "columnCustomDisplayInfos": {},
       "data": [
        [
         "MiMi811108442",
         "Leannon-Morissette",
         103082,
         "11/20/2046",
         "S59099P",
         "041F09K",
         "Millicent Sainte Paul",
         "2/6/2016"
        ],
        [
         "TeNe599223180",
         "Zemlak and Sons",
         103675,
         "8/15/2042",
         "M84539P",
         "09R907Z",
         "Neila Bartoszinski",
         "10/30/2014"
        ],
        [
         "MiBu217454145",
         "Glover, Brakus and Sawayn",
         105096,
         "5/2/2026",
         " Y3702",
         "0PUR07Z",
         "Budd McKim",
         "6/6/2022"
        ],
        [
         "MiMe455261897",
         "Kub, Roob and Stokes",
         105710,
         "1/23/2031",
         "V159XXS",
         "0Y0D3KZ",
         "Merilyn Boulder",
         "5/31/2005"
        ],
        [
         "TeSu198272777 ",
         "Borer Group",
         105847,
         "3/29/2033",
         " T8620",
         "0SP034Z",
         "Sula Rackam",
         "11/5/2004"
        ],
        [
         "GoCa876258307",
         "Deckow, Olson and Koss",
         106641,
         "9/24/2043",
         "T445X1D",
         "0BV10DZ",
         "Casey Gowans",
         "9/10/2005"
        ],
        [
         "GoCa876258307",
         "Deckow, Olson and Koss",
         106641,
         "9/24/2043",
         " T445X1D",
         "0BV10DZ",
         "Casey Gowans",
         "9/10/2005"
        ],
        [
         "MiJa710166731 ",
         "Doyle-Torp",
         106983,
         "5/28/2027",
         "S34113D",
         "04RH47Z",
         "Jayme Trude",
         "12/6/2018"
        ],
        [
         "GoBr622338922",
         "Batz and Sons",
         107191,
         "11/19/2023",
         "S1120",
         "0F993ZZ",
         "Brittni De Biasio",
         "10/10/2012"
        ],
        [
         "ApAm559755808",
         "Buckridge, Bernier and Corkery",
         107766,
         "5/27/2047",
         "S83211S",
         "0R9S3ZX",
         "Amelia Malone",
         "3/4/2016"
        ]
       ],
       "datasetInfos": [],
       "dbfsResultPath": null,
       "isJsonSchema": true,
       "metadata": {},
       "overflow": false,
       "plotOptions": {
        "customPlotOptions": {},
        "displayType": "table",
        "pivotAggregation": null,
        "pivotColumns": null,
        "xColumns": null,
        "yColumns": null
       },
       "removedWidgets": [],
       "schema": [
        {
         "metadata": "{}",
         "name": "Member_id",
         "type": "\"string\""
        },
        {
         "metadata": "{}",
         "name": "insurance_provider",
         "type": "\"string\""
        },
        {
         "metadata": "{}",
         "name": "insurance_policy_number",
         "type": "\"integer\""
        },
        {
         "metadata": "{}",
         "name": "insurance_expiration_date",
         "type": "\"string\""
        },
        {
         "metadata": "{}",
         "name": "Diagnosis_code",
         "type": "\"string\""
        },
        {
         "metadata": "{}",
         "name": "Procedure_code",
         "type": "\"string\""
        },
        {
         "metadata": "{}",
         "name": "primary_care_physician",
         "type": "\"string\""
        },
        {
         "metadata": "{}",
         "name": "last_visit_date",
         "type": "\"string\""
        }
       ],
       "type": "table"
      }
     },
     "output_type": "display_data"
    }
   ],
   "source": [
    "display(medical_df.limit(10))"
   ]
  },
  {
   "cell_type": "code",
   "execution_count": 0,
   "metadata": {
    "application/vnd.databricks.v1+cell": {
     "cellMetadata": {
      "byteLimit": 2048000,
      "rowLimit": 10000
     },
     "inputWidgets": {},
     "nuid": "7dd36d4a-fd89-4827-8f57-4eb44a5f186c",
     "showTitle": false,
     "tableResultSettingsMap": {},
     "title": ""
    }
   },
   "outputs": [],
   "source": [
    "medical_df = medical_df.select([trim(col(c)).alias(c) for c in medical_df.columns])"
   ]
  },
  {
   "cell_type": "code",
   "execution_count": 0,
   "metadata": {
    "application/vnd.databricks.v1+cell": {
     "cellMetadata": {
      "byteLimit": 2048000,
      "rowLimit": 10000
     },
     "inputWidgets": {},
     "nuid": "eec394f3-8ab9-4379-a700-0fd4e40241d2",
     "showTitle": false,
     "tableResultSettingsMap": {},
     "title": ""
    }
   },
   "outputs": [],
   "source": [
    "medical_df = medical_df.withColumn(\"format_date\",to_date(col('last_visit_date'),\"M/d/yyyy\"))"
   ]
  },
  {
   "cell_type": "code",
   "execution_count": 0,
   "metadata": {
    "application/vnd.databricks.v1+cell": {
     "cellMetadata": {
      "byteLimit": 2048000,
      "rowLimit": 10000
     },
     "inputWidgets": {},
     "nuid": "084c9a15-bb67-4be5-b458-b71e1a6a3b48",
     "showTitle": false,
     "tableResultSettingsMap": {},
     "title": ""
    }
   },
   "outputs": [],
   "source": [
    "medical_df = medical_df.filter(col(\"format_date\").isNotNull()).drop('format_date')"
   ]
  },
  {
   "cell_type": "code",
   "execution_count": 0,
   "metadata": {
    "application/vnd.databricks.v1+cell": {
     "cellMetadata": {
      "byteLimit": 2048000,
      "rowLimit": 10000
     },
     "inputWidgets": {},
     "nuid": "2f4b72dd-e368-4f57-b328-5614fb299ec3",
     "showTitle": false,
     "tableResultSettingsMap": {},
     "title": ""
    }
   },
   "outputs": [
    {
     "output_type": "display_data",
     "data": {
      "text/html": [
       "<style scoped>\n",
       "  .table-result-container {\n",
       "    max-height: 300px;\n",
       "    overflow: auto;\n",
       "  }\n",
       "  table, th, td {\n",
       "    border: 1px solid black;\n",
       "    border-collapse: collapse;\n",
       "  }\n",
       "  th, td {\n",
       "    padding: 5px;\n",
       "  }\n",
       "  th {\n",
       "    text-align: left;\n",
       "  }\n",
       "</style><div class='table-result-container'><table class='table-result'><thead style='background-color: white'><tr><th>Member_id</th><th>insurance_provider</th><th>insurance_policy_number</th><th>insurance_expiration_date</th><th>Diagnosis_code</th><th>Procedure_code</th><th>primary_care_physician</th><th>last_visit_date</th></tr></thead><tbody><tr><td>ApAb315922251</td><td>Kuvalis, Gerlach and Mills</td><td>644738</td><td>6/24/2033</td><td>A378</td><td>0F150Z9</td><td>Abelard Yegorkin</td><td>11/30/2006</td></tr><tr><td>ApAb504391274</td><td>Lesch, Greenfelder and Lakin</td><td>435017</td><td>7/22/2046</td><td>S2591XD</td><td>0MQ64ZZ</td><td>Abigale Popland</td><td>3/31/2005</td></tr><tr><td>ApAd639216428</td><td>Osinski LLC</td><td>726995</td><td>6/30/2035</td><td>Q7240</td><td>0Q9L0ZZ</td><td>Adolf Gyver</td><td>10/28/2015</td></tr><tr><td>ApAg300549833</td><td>Schmidt-Kuphal</td><td>870897</td><td>6/19/2029</td><td>I70703</td><td>0SWL38Z</td><td>Aggi Shoebotham</td><td>4/8/2005</td></tr><tr><td>ApAj677713792</td><td>Corwin Inc</td><td>255481</td><td>1/11/2031</td><td>S52692A</td><td>03V30ZZ</td><td>Ajay Feares</td><td>4/18/2000</td></tr><tr><td>ApAl211380839</td><td>Lynch-Rice</td><td>194338</td><td>11/13/2029</td><td>T63482D</td><td>0Q9R30Z</td><td>Alon Thornally</td><td>10/18/2014</td></tr><tr><td>ApAl379415659</td><td>Ritchie and Sons</td><td>164682</td><td>11/16/2024</td><td>Y0702</td><td>021649P</td><td>Alena Brason</td><td>3/18/2020</td></tr><tr><td>ApAl426267215</td><td>Kovacek-McLaughlin</td><td>901932</td><td>4/7/2038</td><td>A5481</td><td>00P003Z</td><td>Alfreda Rolf</td><td>8/5/2022</td></tr><tr><td>ApAl548028460</td><td>Friesen Inc</td><td>748725</td><td>12/30/2035</td><td>H21553</td><td>B039ZZZ</td><td>Allys Dri</td><td>4/23/2007</td></tr><tr><td>ApAl893411558</td><td>Skiles-Sanford</td><td>297096</td><td>5/18/2046</td><td>C84A5</td><td>06SQ0ZZ</td><td>Alistair Plampeyn</td><td>11/23/2013</td></tr></tbody></table></div>"
      ]
     },
     "metadata": {
      "application/vnd.databricks.v1+output": {
       "addedWidgets": {},
       "aggData": [],
       "aggError": "",
       "aggOverflow": false,
       "aggSchema": [],
       "aggSeriesLimitReached": false,
       "aggType": "",
       "arguments": {},
       "columnCustomDisplayInfos": {},
       "data": [
        [
         "ApAb315922251",
         "Kuvalis, Gerlach and Mills",
         "644738",
         "6/24/2033",
         "A378",
         "0F150Z9",
         "Abelard Yegorkin",
         "11/30/2006"
        ],
        [
         "ApAb504391274",
         "Lesch, Greenfelder and Lakin",
         "435017",
         "7/22/2046",
         "S2591XD",
         "0MQ64ZZ",
         "Abigale Popland",
         "3/31/2005"
        ],
        [
         "ApAd639216428",
         "Osinski LLC",
         "726995",
         "6/30/2035",
         "Q7240",
         "0Q9L0ZZ",
         "Adolf Gyver",
         "10/28/2015"
        ],
        [
         "ApAg300549833",
         "Schmidt-Kuphal",
         "870897",
         "6/19/2029",
         "I70703",
         "0SWL38Z",
         "Aggi Shoebotham",
         "4/8/2005"
        ],
        [
         "ApAj677713792",
         "Corwin Inc",
         "255481",
         "1/11/2031",
         "S52692A",
         "03V30ZZ",
         "Ajay Feares",
         "4/18/2000"
        ],
        [
         "ApAl211380839",
         "Lynch-Rice",
         "194338",
         "11/13/2029",
         "T63482D",
         "0Q9R30Z",
         "Alon Thornally",
         "10/18/2014"
        ],
        [
         "ApAl379415659",
         "Ritchie and Sons",
         "164682",
         "11/16/2024",
         "Y0702",
         "021649P",
         "Alena Brason",
         "3/18/2020"
        ],
        [
         "ApAl426267215",
         "Kovacek-McLaughlin",
         "901932",
         "4/7/2038",
         "A5481",
         "00P003Z",
         "Alfreda Rolf",
         "8/5/2022"
        ],
        [
         "ApAl548028460",
         "Friesen Inc",
         "748725",
         "12/30/2035",
         "H21553",
         "B039ZZZ",
         "Allys Dri",
         "4/23/2007"
        ],
        [
         "ApAl893411558",
         "Skiles-Sanford",
         "297096",
         "5/18/2046",
         "C84A5",
         "06SQ0ZZ",
         "Alistair Plampeyn",
         "11/23/2013"
        ]
       ],
       "datasetInfos": [],
       "dbfsResultPath": null,
       "isJsonSchema": true,
       "metadata": {},
       "overflow": false,
       "plotOptions": {
        "customPlotOptions": {},
        "displayType": "table",
        "pivotAggregation": null,
        "pivotColumns": null,
        "xColumns": null,
        "yColumns": null
       },
       "removedWidgets": [],
       "schema": [
        {
         "metadata": "{}",
         "name": "Member_id",
         "type": "\"string\""
        },
        {
         "metadata": "{}",
         "name": "insurance_provider",
         "type": "\"string\""
        },
        {
         "metadata": "{}",
         "name": "insurance_policy_number",
         "type": "\"string\""
        },
        {
         "metadata": "{}",
         "name": "insurance_expiration_date",
         "type": "\"string\""
        },
        {
         "metadata": "{}",
         "name": "Diagnosis_code",
         "type": "\"string\""
        },
        {
         "metadata": "{}",
         "name": "Procedure_code",
         "type": "\"string\""
        },
        {
         "metadata": "{}",
         "name": "primary_care_physician",
         "type": "\"string\""
        },
        {
         "metadata": "{}",
         "name": "last_visit_date",
         "type": "\"string\""
        }
       ],
       "type": "table"
      }
     },
     "output_type": "display_data"
    }
   ],
   "source": [
    "from pyspark.sql.window import Window\n",
    "\n",
    "window_spec = Window.partitionBy('Member_id').orderBy(\n",
    "    col('last_visit_date').asc_nulls_last()\n",
    ")\n",
    "assign_row = medical_df.withColumn(\"row_col\",row_number().over(window_spec))\n",
    "df_filter = assign_row.filter(col('row_col')==1).drop('row_col')\n",
    "\n",
    "medical_df = df_filter\n",
    "display(medical_df.limit(10))"
   ]
  },
  {
   "cell_type": "markdown",
   "metadata": {
    "application/vnd.databricks.v1+cell": {
     "cellMetadata": {
      "byteLimit": 2048000,
      "rowLimit": 10000
     },
     "inputWidgets": {},
     "nuid": "704dad93-2d13-48b5-96c9-c1299e647876",
     "showTitle": false,
     "tableResultSettingsMap": {},
     "title": ""
    }
   },
   "source": [
    "### Members DF\n"
   ]
  },
  {
   "cell_type": "code",
   "execution_count": 0,
   "metadata": {
    "application/vnd.databricks.v1+cell": {
     "cellMetadata": {
      "byteLimit": 2048000,
      "rowLimit": 10000
     },
     "inputWidgets": {},
     "nuid": "e4a38548-1624-468e-a920-07d0a8a335e7",
     "showTitle": false,
     "tableResultSettingsMap": {},
     "title": ""
    }
   },
   "outputs": [],
   "source": [
    "members_df = spark.read.format('csv')\\\n",
    "                       .option('inferschema',True)\\\n",
    "                        .option('header',True)\\\n",
    "                        .load('dbfs:/FileStore/tables/Member_details-1.csv')"
   ]
  },
  {
   "cell_type": "code",
   "execution_count": 0,
   "metadata": {
    "application/vnd.databricks.v1+cell": {
     "cellMetadata": {
      "byteLimit": 2048000,
      "rowLimit": 10000
     },
     "inputWidgets": {},
     "nuid": "176dfd26-6746-482e-a18e-bc330c1af94e",
     "showTitle": false,
     "tableResultSettingsMap": {},
     "title": ""
    }
   },
   "outputs": [
    {
     "output_type": "display_data",
     "data": {
      "text/html": [
       "<style scoped>\n",
       "  .table-result-container {\n",
       "    max-height: 300px;\n",
       "    overflow: auto;\n",
       "  }\n",
       "  table, th, td {\n",
       "    border: 1px solid black;\n",
       "    border-collapse: collapse;\n",
       "  }\n",
       "  th, td {\n",
       "    padding: 5px;\n",
       "  }\n",
       "  th {\n",
       "    text-align: left;\n",
       "  }\n",
       "</style><div class='table-result-container'><table class='table-result'><thead style='background-color: white'><tr><th>Member_id</th><th>first_name</th><th>last_name</th><th>date_of_birth</th><th>gender</th><th>email</th><th>phone_number</th><th>address</th><th>city</th><th>Company</th></tr></thead><tbody><tr><td>MiMi811108442</td><td>Millicent</td><td>Sainte Paul</td><td>8/20/1984</td><td>Female</td><td>msainte7i@bloglovin.com</td><td>459-468-1581</td><td>347 Boyd Center</td><td>Borås</td><td>Microsoft</td></tr><tr><td>TeNe599223180</td><td>Neila</td><td>Bartoszinski</td><td>3/28/1947</td><td>Female</td><td>nbartoszinskil6@craigslist.org</td><td>822-425-0441</td><td>3026 Talisman Point</td><td>Sidi Redouane</td><td>Tesla</td></tr><tr><td>MiBu217454145</td><td>Budd</td><td>McKim</td><td>3/1/1956</td><td>Male</td><td>bmckimby@bigcartel.com</td><td>426-230-2515</td><td>92783 Arkansas Alley</td><td>Ribeira</td><td>Microsoft</td></tr><tr><td>MiMe455261897</td><td>Merilyn</td><td>Boulder  </td><td>7/30/1912</td><td>Polygender</td><td>mboulder1f@123-reg.co.uk</td><td>890-808-9335</td><td>7829 Sheridan Plaza</td><td>Oetuke</td><td>Microsoft</td></tr><tr><td>TeSu198272777</td><td>Sula</td><td>Rackam</td><td>3/1/1964</td><td> Female</td><td>srackammz@seesaa.net</td><td>504-375-0134</td><td>61525 Dovetail Point</td><td>Colima</td><td>Tesla</td></tr><tr><td>GoCa876258307</td><td> Casey</td><td> Gowans</td><td>3/15/1926</td><td>Female</td><td>cgowansj9@fc2.com</td><td>949-609-8257</td><td>5 Pennsylvania Drive</td><td> Prabuty</td><td>Google</td></tr><tr><td>GoCa876258307</td><td>  Casey</td><td>Gowans</td><td>3/15/1926</td><td>Female</td><td>cgowansj9@fc2.com</td><td>949-609-8257</td><td>5 Pennsylvania Drive</td><td>Prabuty</td><td>Google</td></tr><tr><td>MiJa710166731</td><td>Jayme</td><td>Trude</td><td>5/2/1920</td><td>Female</td><td>jtrudekv@wp.com</td><td>323-690-9320</td><td>656 Twin Pines Place</td><td>Los Angeles</td><td>Microsoft</td></tr><tr><td>GoBr622338922</td><td>Brittni</td><td> De Biasio</td><td>7/8/1946</td><td>Genderqueer</td><td>bdehm@economist.com</td><td>539-610-1845</td><td>600 North Street</td><td>Wangmo</td><td>Google</td></tr><tr><td>ApAm559755808</td><td>Amelia</td><td>Malone</td><td>4/16/1981</td><td>Female</td><td>amaloneo3@zdnet.com</td><td>910-297-8112</td><td>30 Melrose Court</td><td>Várzea Grande</td><td>Apple</td></tr></tbody></table></div>"
      ]
     },
     "metadata": {
      "application/vnd.databricks.v1+output": {
       "addedWidgets": {},
       "aggData": [],
       "aggError": "",
       "aggOverflow": false,
       "aggSchema": [],
       "aggSeriesLimitReached": false,
       "aggType": "",
       "arguments": {},
       "columnCustomDisplayInfos": {},
       "data": [
        [
         "MiMi811108442",
         "Millicent",
         "Sainte Paul",
         "8/20/1984",
         "Female",
         "msainte7i@bloglovin.com",
         "459-468-1581",
         "347 Boyd Center",
         "Borås",
         "Microsoft"
        ],
        [
         "TeNe599223180",
         "Neila",
         "Bartoszinski",
         "3/28/1947",
         "Female",
         "nbartoszinskil6@craigslist.org",
         "822-425-0441",
         "3026 Talisman Point",
         "Sidi Redouane",
         "Tesla"
        ],
        [
         "MiBu217454145",
         "Budd",
         "McKim",
         "3/1/1956",
         "Male",
         "bmckimby@bigcartel.com",
         "426-230-2515",
         "92783 Arkansas Alley",
         "Ribeira",
         "Microsoft"
        ],
        [
         "MiMe455261897",
         "Merilyn",
         "Boulder  ",
         "7/30/1912",
         "Polygender",
         "mboulder1f@123-reg.co.uk",
         "890-808-9335",
         "7829 Sheridan Plaza",
         "Oetuke",
         "Microsoft"
        ],
        [
         "TeSu198272777",
         "Sula",
         "Rackam",
         "3/1/1964",
         " Female",
         "srackammz@seesaa.net",
         "504-375-0134",
         "61525 Dovetail Point",
         "Colima",
         "Tesla"
        ],
        [
         "GoCa876258307",
         " Casey",
         " Gowans",
         "3/15/1926",
         "Female",
         "cgowansj9@fc2.com",
         "949-609-8257",
         "5 Pennsylvania Drive",
         " Prabuty",
         "Google"
        ],
        [
         "GoCa876258307",
         "  Casey",
         "Gowans",
         "3/15/1926",
         "Female",
         "cgowansj9@fc2.com",
         "949-609-8257",
         "5 Pennsylvania Drive",
         "Prabuty",
         "Google"
        ],
        [
         "MiJa710166731",
         "Jayme",
         "Trude",
         "5/2/1920",
         "Female",
         "jtrudekv@wp.com",
         "323-690-9320",
         "656 Twin Pines Place",
         "Los Angeles",
         "Microsoft"
        ],
        [
         "GoBr622338922",
         "Brittni",
         " De Biasio",
         "7/8/1946",
         "Genderqueer",
         "bdehm@economist.com",
         "539-610-1845",
         "600 North Street",
         "Wangmo",
         "Google"
        ],
        [
         "ApAm559755808",
         "Amelia",
         "Malone",
         "4/16/1981",
         "Female",
         "amaloneo3@zdnet.com",
         "910-297-8112",
         "30 Melrose Court",
         "Várzea Grande",
         "Apple"
        ]
       ],
       "datasetInfos": [],
       "dbfsResultPath": null,
       "isJsonSchema": true,
       "metadata": {},
       "overflow": false,
       "plotOptions": {
        "customPlotOptions": {},
        "displayType": "table",
        "pivotAggregation": null,
        "pivotColumns": null,
        "xColumns": null,
        "yColumns": null
       },
       "removedWidgets": [],
       "schema": [
        {
         "metadata": "{}",
         "name": "Member_id",
         "type": "\"string\""
        },
        {
         "metadata": "{}",
         "name": "first_name",
         "type": "\"string\""
        },
        {
         "metadata": "{}",
         "name": "last_name",
         "type": "\"string\""
        },
        {
         "metadata": "{}",
         "name": "date_of_birth",
         "type": "\"string\""
        },
        {
         "metadata": "{}",
         "name": "gender",
         "type": "\"string\""
        },
        {
         "metadata": "{}",
         "name": "email",
         "type": "\"string\""
        },
        {
         "metadata": "{}",
         "name": "phone_number",
         "type": "\"string\""
        },
        {
         "metadata": "{}",
         "name": "address",
         "type": "\"string\""
        },
        {
         "metadata": "{}",
         "name": "city",
         "type": "\"string\""
        },
        {
         "metadata": "{}",
         "name": "Company",
         "type": "\"string\""
        }
       ],
       "type": "table"
      }
     },
     "output_type": "display_data"
    }
   ],
   "source": [
    "display(members_df.limit(10))"
   ]
  },
  {
   "cell_type": "code",
   "execution_count": 0,
   "metadata": {
    "application/vnd.databricks.v1+cell": {
     "cellMetadata": {
      "byteLimit": 2048000,
      "rowLimit": 10000
     },
     "inputWidgets": {},
     "nuid": "e8139ec5-1711-48b6-b034-0c0a665d81c4",
     "showTitle": false,
     "tableResultSettingsMap": {},
     "title": ""
    }
   },
   "outputs": [],
   "source": [
    "#Trim is used to remove extra spaces used in df\n",
    "members_df = members_df.select([trim(col(c)) .alias(c)for c in members_df.columns])"
   ]
  },
  {
   "cell_type": "code",
   "execution_count": 0,
   "metadata": {
    "application/vnd.databricks.v1+cell": {
     "cellMetadata": {
      "byteLimit": 2048000,
      "rowLimit": 10000
     },
     "inputWidgets": {},
     "nuid": "753744a7-3ba4-43a0-a7b3-7ae6aa8b221a",
     "showTitle": false,
     "tableResultSettingsMap": {},
     "title": ""
    }
   },
   "outputs": [
    {
     "output_type": "display_data",
     "data": {
      "text/html": [
       "<style scoped>\n",
       "  .table-result-container {\n",
       "    max-height: 300px;\n",
       "    overflow: auto;\n",
       "  }\n",
       "  table, th, td {\n",
       "    border: 1px solid black;\n",
       "    border-collapse: collapse;\n",
       "  }\n",
       "  th, td {\n",
       "    padding: 5px;\n",
       "  }\n",
       "  th {\n",
       "    text-align: left;\n",
       "  }\n",
       "</style><div class='table-result-container'><table class='table-result'><thead style='background-color: white'><tr><th>sum(CAST((Member_id = null) AS INT))</th><th>sum(CAST((first_name = null) AS INT))</th><th>sum(CAST((last_name = null) AS INT))</th><th>sum(CAST((date_of_birth = null) AS INT))</th><th>sum(CAST((gender = null) AS INT))</th><th>sum(CAST((email = null) AS INT))</th><th>sum(CAST((phone_number = null) AS INT))</th><th>sum(CAST((address = null) AS INT))</th><th>sum(CAST((city = null) AS INT))</th><th>sum(CAST((Company = null) AS INT))</th></tr></thead><tbody><tr><td>0</td><td>0</td><td>4</td><td>0</td><td>0</td><td>33</td><td>33</td><td>0</td><td>33</td><td>0</td></tr></tbody></table></div>"
      ]
     },
     "metadata": {
      "application/vnd.databricks.v1+output": {
       "addedWidgets": {},
       "aggData": [],
       "aggError": "",
       "aggOverflow": false,
       "aggSchema": [],
       "aggSeriesLimitReached": false,
       "aggType": "",
       "arguments": {},
       "columnCustomDisplayInfos": {},
       "data": [
        [
         0,
         0,
         4,
         0,
         0,
         33,
         33,
         0,
         33,
         0
        ]
       ],
       "datasetInfos": [],
       "dbfsResultPath": null,
       "isJsonSchema": true,
       "metadata": {},
       "overflow": false,
       "plotOptions": {
        "customPlotOptions": {},
        "displayType": "table",
        "pivotAggregation": null,
        "pivotColumns": null,
        "xColumns": null,
        "yColumns": null
       },
       "removedWidgets": [],
       "schema": [
        {
         "metadata": "{}",
         "name": "sum(CAST((Member_id = null) AS INT))",
         "type": "\"long\""
        },
        {
         "metadata": "{}",
         "name": "sum(CAST((first_name = null) AS INT))",
         "type": "\"long\""
        },
        {
         "metadata": "{}",
         "name": "sum(CAST((last_name = null) AS INT))",
         "type": "\"long\""
        },
        {
         "metadata": "{}",
         "name": "sum(CAST((date_of_birth = null) AS INT))",
         "type": "\"long\""
        },
        {
         "metadata": "{}",
         "name": "sum(CAST((gender = null) AS INT))",
         "type": "\"long\""
        },
        {
         "metadata": "{}",
         "name": "sum(CAST((email = null) AS INT))",
         "type": "\"long\""
        },
        {
         "metadata": "{}",
         "name": "sum(CAST((phone_number = null) AS INT))",
         "type": "\"long\""
        },
        {
         "metadata": "{}",
         "name": "sum(CAST((address = null) AS INT))",
         "type": "\"long\""
        },
        {
         "metadata": "{}",
         "name": "sum(CAST((city = null) AS INT))",
         "type": "\"long\""
        },
        {
         "metadata": "{}",
         "name": "sum(CAST((Company = null) AS INT))",
         "type": "\"long\""
        }
       ],
       "type": "table"
      }
     },
     "output_type": "display_data"
    }
   ],
   "source": [
    "#Checking Hardcoded null in df\n",
    "display(members_df.select([sum((col(c) == 'null').cast('int')) for c in members_df.columns]))"
   ]
  },
  {
   "cell_type": "code",
   "execution_count": 0,
   "metadata": {
    "application/vnd.databricks.v1+cell": {
     "cellMetadata": {
      "byteLimit": 2048000,
      "rowLimit": 10000
     },
     "inputWidgets": {},
     "nuid": "8f187e4f-6c38-4b36-b84d-94a5ecfbc84b",
     "showTitle": false,
     "tableResultSettingsMap": {},
     "title": ""
    }
   },
   "outputs": [],
   "source": [
    "members_df = members_df.withColumn(\"format_date\",to_date(col('date_of_birth'),\"M/d/yyyy\"))"
   ]
  },
  {
   "cell_type": "code",
   "execution_count": 0,
   "metadata": {
    "application/vnd.databricks.v1+cell": {
     "cellMetadata": {
      "byteLimit": 2048000,
      "rowLimit": 10000
     },
     "inputWidgets": {},
     "nuid": "6bd5e203-7257-4995-a8b9-ce6cc7137066",
     "showTitle": false,
     "tableResultSettingsMap": {},
     "title": ""
    }
   },
   "outputs": [],
   "source": [
    "members_df = members_df.filter(col('format_date').isNotNull()).drop('format_date')"
   ]
  },
  {
   "cell_type": "code",
   "execution_count": 0,
   "metadata": {
    "application/vnd.databricks.v1+cell": {
     "cellMetadata": {
      "byteLimit": 2048000,
      "rowLimit": 10000
     },
     "inputWidgets": {},
     "nuid": "22acfa6c-c0e7-4ad6-9d18-abc765f36d5a",
     "showTitle": false,
     "tableResultSettingsMap": {},
     "title": ""
    }
   },
   "outputs": [
    {
     "output_type": "display_data",
     "data": {
      "text/html": [
       "<style scoped>\n",
       "  .table-result-container {\n",
       "    max-height: 300px;\n",
       "    overflow: auto;\n",
       "  }\n",
       "  table, th, td {\n",
       "    border: 1px solid black;\n",
       "    border-collapse: collapse;\n",
       "  }\n",
       "  th, td {\n",
       "    padding: 5px;\n",
       "  }\n",
       "  th {\n",
       "    text-align: left;\n",
       "  }\n",
       "</style><div class='table-result-container'><table class='table-result'><thead style='background-color: white'><tr><th>Member_id</th><th>first_name</th><th>last_name</th><th>date_of_birth</th><th>gender</th><th>email</th><th>phone_number</th><th>address</th><th>city</th><th>Company</th></tr></thead><tbody><tr><td>ApAb315922251</td><td>Abelard</td><td>Yegorkin</td><td>7/31/1939</td><td>Non-binary</td><td>ayegorkin44@redcross.org</td><td>909-489-4526</td><td>37 Delaware Center</td><td>Menongue</td><td>Apple</td></tr><tr><td>ApAb504391274</td><td>Abigale</td><td>Popland</td><td>6/25/1977</td><td>Female</td><td>apoplandat@google.cn</td><td>490-236-7183</td><td>2 Oakridge Park</td><td>Stęszew</td><td>Apple</td></tr><tr><td>ApAd639216428</td><td>Adolf</td><td>Gyver</td><td>10/28/1980</td><td>Male</td><td>agyver91@sourceforge.net</td><td>635-328-9277</td><td>57082 South Circle</td><td>Chavão</td><td>Apple</td></tr><tr><td>ApAg300549833</td><td>Aggi</td><td>Shoebotham</td><td>11/29/1966</td><td>Female</td><td>ashoebothamfp@etsy.com</td><td>566-658-7860</td><td>4671 Hintze Terrace</td><td>Norrköping</td><td>Apple</td></tr><tr><td>ApAj677713792</td><td>Ajay</td><td>Feares</td><td>1/30/1905</td><td>Female</td><td>afearesqw@bloglines.com</td><td>555-516-4418</td><td>16019 Rigney Way</td><td>Yong’an</td><td>Apple</td></tr><tr><td>ApAl211380839</td><td>Alon</td><td>Thornally</td><td>1/26/1977</td><td>Male</td><td>athornallyh2@boston.com</td><td>295-927-2710</td><td>5683 Corry Circle</td><td>Abelheira</td><td>Apple</td></tr><tr><td>ApAl379415659</td><td>Alena</td><td>Brason</td><td>1/7/1911</td><td>Female</td><td>abrasongy@amazon.co.uk</td><td>508-832-9106</td><td>25 Hayes Way</td><td>Gesikan</td><td>Apple</td></tr><tr><td>ApAl426267215</td><td>Alfreda</td><td>Rolf</td><td>12/17/1928</td><td>Female</td><td>arolf1s@parallels.com</td><td>355-242-6585</td><td>385 Di Loreto Alley</td><td>Dolní Cerekev</td><td>Apple</td></tr><tr><td>ApAl548028460</td><td>Allys</td><td>Dri</td><td>2/15/1981</td><td>Female</td><td>adril9@webs.com</td><td>557-232-1602</td><td>3988 Caliangt Court</td><td>Djohong</td><td>Apple</td></tr><tr><td>ApAl893411558</td><td>Alistair</td><td>Plampeyn</td><td>5/19/1930</td><td>Male</td><td>aplampeynai@arizona.edu</td><td>597-195-1810</td><td>1786 Northfield Place</td><td>Végueta</td><td>Apple</td></tr></tbody></table></div>"
      ]
     },
     "metadata": {
      "application/vnd.databricks.v1+output": {
       "addedWidgets": {},
       "aggData": [],
       "aggError": "",
       "aggOverflow": false,
       "aggSchema": [],
       "aggSeriesLimitReached": false,
       "aggType": "",
       "arguments": {},
       "columnCustomDisplayInfos": {},
       "data": [
        [
         "ApAb315922251",
         "Abelard",
         "Yegorkin",
         "7/31/1939",
         "Non-binary",
         "ayegorkin44@redcross.org",
         "909-489-4526",
         "37 Delaware Center",
         "Menongue",
         "Apple"
        ],
        [
         "ApAb504391274",
         "Abigale",
         "Popland",
         "6/25/1977",
         "Female",
         "apoplandat@google.cn",
         "490-236-7183",
         "2 Oakridge Park",
         "Stęszew",
         "Apple"
        ],
        [
         "ApAd639216428",
         "Adolf",
         "Gyver",
         "10/28/1980",
         "Male",
         "agyver91@sourceforge.net",
         "635-328-9277",
         "57082 South Circle",
         "Chavão",
         "Apple"
        ],
        [
         "ApAg300549833",
         "Aggi",
         "Shoebotham",
         "11/29/1966",
         "Female",
         "ashoebothamfp@etsy.com",
         "566-658-7860",
         "4671 Hintze Terrace",
         "Norrköping",
         "Apple"
        ],
        [
         "ApAj677713792",
         "Ajay",
         "Feares",
         "1/30/1905",
         "Female",
         "afearesqw@bloglines.com",
         "555-516-4418",
         "16019 Rigney Way",
         "Yong’an",
         "Apple"
        ],
        [
         "ApAl211380839",
         "Alon",
         "Thornally",
         "1/26/1977",
         "Male",
         "athornallyh2@boston.com",
         "295-927-2710",
         "5683 Corry Circle",
         "Abelheira",
         "Apple"
        ],
        [
         "ApAl379415659",
         "Alena",
         "Brason",
         "1/7/1911",
         "Female",
         "abrasongy@amazon.co.uk",
         "508-832-9106",
         "25 Hayes Way",
         "Gesikan",
         "Apple"
        ],
        [
         "ApAl426267215",
         "Alfreda",
         "Rolf",
         "12/17/1928",
         "Female",
         "arolf1s@parallels.com",
         "355-242-6585",
         "385 Di Loreto Alley",
         "Dolní Cerekev",
         "Apple"
        ],
        [
         "ApAl548028460",
         "Allys",
         "Dri",
         "2/15/1981",
         "Female",
         "adril9@webs.com",
         "557-232-1602",
         "3988 Caliangt Court",
         "Djohong",
         "Apple"
        ],
        [
         "ApAl893411558",
         "Alistair",
         "Plampeyn",
         "5/19/1930",
         "Male",
         "aplampeynai@arizona.edu",
         "597-195-1810",
         "1786 Northfield Place",
         "Végueta",
         "Apple"
        ]
       ],
       "datasetInfos": [],
       "dbfsResultPath": null,
       "isJsonSchema": true,
       "metadata": {},
       "overflow": false,
       "plotOptions": {
        "customPlotOptions": {},
        "displayType": "table",
        "pivotAggregation": null,
        "pivotColumns": null,
        "xColumns": null,
        "yColumns": null
       },
       "removedWidgets": [],
       "schema": [
        {
         "metadata": "{}",
         "name": "Member_id",
         "type": "\"string\""
        },
        {
         "metadata": "{}",
         "name": "first_name",
         "type": "\"string\""
        },
        {
         "metadata": "{}",
         "name": "last_name",
         "type": "\"string\""
        },
        {
         "metadata": "{}",
         "name": "date_of_birth",
         "type": "\"string\""
        },
        {
         "metadata": "{}",
         "name": "gender",
         "type": "\"string\""
        },
        {
         "metadata": "{}",
         "name": "email",
         "type": "\"string\""
        },
        {
         "metadata": "{}",
         "name": "phone_number",
         "type": "\"string\""
        },
        {
         "metadata": "{}",
         "name": "address",
         "type": "\"string\""
        },
        {
         "metadata": "{}",
         "name": "city",
         "type": "\"string\""
        },
        {
         "metadata": "{}",
         "name": "Company",
         "type": "\"string\""
        }
       ],
       "type": "table"
      }
     },
     "output_type": "display_data"
    }
   ],
   "source": [
    "from pyspark.sql.window import Window\n",
    "\n",
    "window_spec = Window.partitionBy('Member_id').orderBy(\n",
    "    col('date_of_birth').asc_nulls_last()\n",
    ")\n",
    "\n",
    "assign_row = members_df.withColumn('row_col',row_number().over(window_spec))\n",
    "filter_member_df = assign_row.filter(col('row_col') == 1).drop('row_col')\n",
    "#assign_row.display()\n",
    "members_df = filter_member_df\n",
    "display(members_df.limit(10))"
   ]
  },
  {
   "cell_type": "markdown",
   "metadata": {
    "application/vnd.databricks.v1+cell": {
     "cellMetadata": {
      "byteLimit": 2048000,
      "rowLimit": 10000
     },
     "inputWidgets": {},
     "nuid": "7ceff5bb-7da0-4cc1-9521-ab74734680e6",
     "showTitle": false,
     "tableResultSettingsMap": {},
     "title": ""
    }
   },
   "source": [
    "### Procedure DF"
   ]
  },
  {
   "cell_type": "code",
   "execution_count": 0,
   "metadata": {
    "application/vnd.databricks.v1+cell": {
     "cellMetadata": {
      "byteLimit": 2048000,
      "rowLimit": 10000
     },
     "inputWidgets": {},
     "nuid": "1d2f31a8-87ab-4151-af60-efacacf27934",
     "showTitle": false,
     "tableResultSettingsMap": {},
     "title": ""
    }
   },
   "outputs": [],
   "source": [
    "procedure_df = spark.read.format('csv')\\\n",
    "                            .option('inferschema',True)\\\n",
    "                            .option('header',True)\\\n",
    "                            .load('dbfs:/FileStore/tables/Procedure_details-1.csv/')"
   ]
  },
  {
   "cell_type": "code",
   "execution_count": 0,
   "metadata": {
    "application/vnd.databricks.v1+cell": {
     "cellMetadata": {
      "byteLimit": 2048000,
      "rowLimit": 10000
     },
     "inputWidgets": {},
     "nuid": "3af170d1-5f80-4220-9e0e-0fb7700d0992",
     "showTitle": false,
     "tableResultSettingsMap": {},
     "title": ""
    }
   },
   "outputs": [
    {
     "output_type": "display_data",
     "data": {
      "text/html": [
       "<style scoped>\n",
       "  .table-result-container {\n",
       "    max-height: 300px;\n",
       "    overflow: auto;\n",
       "  }\n",
       "  table, th, td {\n",
       "    border: 1px solid black;\n",
       "    border-collapse: collapse;\n",
       "  }\n",
       "  th, td {\n",
       "    padding: 5px;\n",
       "  }\n",
       "  th {\n",
       "    text-align: left;\n",
       "  }\n",
       "</style><div class='table-result-container'><table class='table-result'><thead style='background-color: white'><tr><th>Procedure_code</th><th>Procedure_description</th></tr></thead><tbody><tr><td>06S84ZZ</td><td>Reposition Portal Vein, Percutaneous Endoscopic Approach</td></tr><tr><td>B217YZZ</td><td>Fluoroscopy of Right Internal Mammary Bypass Graft using Other Contrast</td></tr><tr><td>0RHT48Z</td><td>Insertion of Spacer into Left Metacarpocarpal Joint, Percutaneous Endoscopic Approach</td></tr><tr><td>041N0JL</td><td>null</td></tr><tr><td>F003GKZ</td><td>Communicative/Cognitive Integration Skills Assessment of Neurological System - Whole Body using Audiovisual Equipment</td></tr><tr><td>0C973ZZ</td><td>Drainage of Tongue, Percutaneous Approach</td></tr><tr><td>0QWB35Z</td><td>Revision of External Fixation Device in Right Lower Femur, Percutaneous Approach</td></tr><tr><td>0DHA03Z</td><td>Insertion of Infusion Device into Jejunum, Open Approach</td></tr><tr><td>3E0CXKZ</td><td>Introduction of Other Diagnostic Substance into Eye, External Approach</td></tr><tr><td>0RW13KZ</td><td>Revision of Nonautologous Tissue Substitute in Cervical Vertebral Joint, Percutaneous Approach</td></tr></tbody></table></div>"
      ]
     },
     "metadata": {
      "application/vnd.databricks.v1+output": {
       "addedWidgets": {},
       "aggData": [],
       "aggError": "",
       "aggOverflow": false,
       "aggSchema": [],
       "aggSeriesLimitReached": false,
       "aggType": "",
       "arguments": {},
       "columnCustomDisplayInfos": {},
       "data": [
        [
         "06S84ZZ",
         "Reposition Portal Vein, Percutaneous Endoscopic Approach"
        ],
        [
         "B217YZZ",
         "Fluoroscopy of Right Internal Mammary Bypass Graft using Other Contrast"
        ],
        [
         "0RHT48Z",
         "Insertion of Spacer into Left Metacarpocarpal Joint, Percutaneous Endoscopic Approach"
        ],
        [
         "041N0JL",
         "null"
        ],
        [
         "F003GKZ",
         "Communicative/Cognitive Integration Skills Assessment of Neurological System - Whole Body using Audiovisual Equipment"
        ],
        [
         "0C973ZZ",
         "Drainage of Tongue, Percutaneous Approach"
        ],
        [
         "0QWB35Z",
         "Revision of External Fixation Device in Right Lower Femur, Percutaneous Approach"
        ],
        [
         "0DHA03Z",
         "Insertion of Infusion Device into Jejunum, Open Approach"
        ],
        [
         "3E0CXKZ",
         "Introduction of Other Diagnostic Substance into Eye, External Approach"
        ],
        [
         "0RW13KZ",
         "Revision of Nonautologous Tissue Substitute in Cervical Vertebral Joint, Percutaneous Approach"
        ]
       ],
       "datasetInfos": [],
       "dbfsResultPath": null,
       "isJsonSchema": true,
       "metadata": {},
       "overflow": false,
       "plotOptions": {
        "customPlotOptions": {},
        "displayType": "table",
        "pivotAggregation": null,
        "pivotColumns": null,
        "xColumns": null,
        "yColumns": null
       },
       "removedWidgets": [],
       "schema": [
        {
         "metadata": "{}",
         "name": "Procedure_code",
         "type": "\"string\""
        },
        {
         "metadata": "{}",
         "name": "Procedure_description",
         "type": "\"string\""
        }
       ],
       "type": "table"
      }
     },
     "output_type": "display_data"
    }
   ],
   "source": [
    "display(procedure_df.limit(10))"
   ]
  },
  {
   "cell_type": "code",
   "execution_count": 0,
   "metadata": {
    "application/vnd.databricks.v1+cell": {
     "cellMetadata": {
      "byteLimit": 2048000,
      "rowLimit": 10000
     },
     "inputWidgets": {},
     "nuid": "ef3466bb-b4b0-4279-92f2-e67c545739f1",
     "showTitle": false,
     "tableResultSettingsMap": {},
     "title": ""
    }
   },
   "outputs": [],
   "source": [
    "from pyspark.sql.window import Window\n",
    "\n",
    "window_spec = Window.partitionBy('Procedure_code').orderBy(\n",
    "    col('Procedure_description').asc_nulls_last(),\n",
    ")\n",
    "assign_row = procedure_df.withColumn('row_col',row_number().over(window_spec))\n",
    "filter_procedure_df = assign_row.filter(col('row_col') == 1).drop('row_col')\n",
    "\n",
    "procedure_df = filter_procedure_df"
   ]
  },
  {
   "cell_type": "markdown",
   "metadata": {
    "application/vnd.databricks.v1+cell": {
     "cellMetadata": {
      "byteLimit": 2048000,
      "rowLimit": 10000
     },
     "inputWidgets": {},
     "nuid": "696d5ba0-1014-4e2b-8b45-48862c7d96c1",
     "showTitle": false,
     "tableResultSettingsMap": {},
     "title": ""
    }
   },
   "source": [
    "### Joining Tables"
   ]
  },
  {
   "cell_type": "code",
   "execution_count": 0,
   "metadata": {
    "application/vnd.databricks.v1+cell": {
     "cellMetadata": {
      "byteLimit": 2048000,
      "rowLimit": 10000
     },
     "inputWidgets": {},
     "nuid": "d76f8532-231a-45c8-bd68-14bc8ce4b790",
     "showTitle": false,
     "tableResultSettingsMap": {},
     "title": ""
    }
   },
   "outputs": [
    {
     "output_type": "display_data",
     "data": {
      "text/html": [
       "<style scoped>\n",
       "  .table-result-container {\n",
       "    max-height: 300px;\n",
       "    overflow: auto;\n",
       "  }\n",
       "  table, th, td {\n",
       "    border: 1px solid black;\n",
       "    border-collapse: collapse;\n",
       "  }\n",
       "  th, td {\n",
       "    padding: 5px;\n",
       "  }\n",
       "  th {\n",
       "    text-align: left;\n",
       "  }\n",
       "</style><div class='table-result-container'><table class='table-result'><thead style='background-color: white'><tr><th>Member_id</th><th>first_name</th><th>last_name</th><th>date_of_birth</th><th>gender</th><th>email</th><th>phone_number</th><th>address</th><th>city</th><th>Company</th><th>Member_id</th><th>medical_condition</th><th>allergies</th><th>medications</th><th>blood_type</th><th>height</th><th>weight</th><th>blood_pressure</th><th>heart_rate</th></tr></thead><tbody><tr><td>ApAb315922251</td><td>Abelard</td><td>Yegorkin</td><td>7/31/1939</td><td>Non-binary</td><td>ayegorkin44@redcross.org</td><td>909-489-4526</td><td>37 Delaware Center</td><td>Menongue</td><td>Apple</td><td>ApAb315922251</td><td>Managed intermediate product</td><td>Monitored non-volatile framework</td><td>Team-oriented 24/7 capacity</td><td>A</td><td>22.31</td><td>315.11</td><td>89</td><td>118</td></tr><tr><td>ApAb504391274</td><td>Abigale</td><td>Popland</td><td>6/25/1977</td><td>Female</td><td>apoplandat@google.cn</td><td>490-236-7183</td><td>2 Oakridge Park</td><td>Stęszew</td><td>Apple</td><td>ApAb504391274</td><td>Virtual explicit encoding</td><td>User-centric tertiary contingency</td><td>Virtual reciprocal matrix</td><td>O</td><td>91.5</td><td>325.13</td><td>53</td><td>138</td></tr><tr><td>ApAd639216428</td><td>Adolf</td><td>Gyver</td><td>10/28/1980</td><td>Male</td><td>agyver91@sourceforge.net</td><td>635-328-9277</td><td>57082 South Circle</td><td>Chavão</td><td>Apple</td><td>ApAd639216428</td><td>Quality-focused dynamic implementation</td><td>Open-architected discrete knowledge user</td><td>Intuitive neutral superstructure</td><td>A</td><td>5.58</td><td>46.09</td><td>162</td><td>105</td></tr><tr><td>ApAg300549833</td><td>Aggi</td><td>Shoebotham</td><td>11/29/1966</td><td>Female</td><td>ashoebothamfp@etsy.com</td><td>566-658-7860</td><td>4671 Hintze Terrace</td><td>Norrköping</td><td>Apple</td><td>ApAg300549833</td><td>Advanced content-based productivity</td><td>Organic static success</td><td>Function-based local application</td><td>AB</td><td>29.34</td><td>156.47</td><td>94</td><td>199</td></tr><tr><td>ApAj677713792</td><td>Ajay</td><td>Feares</td><td>1/30/1905</td><td>Female</td><td>afearesqw@bloglines.com</td><td>555-516-4418</td><td>16019 Rigney Way</td><td>Yong’an</td><td>Apple</td><td>ApAj677713792</td><td>Distributed coherent software</td><td>Reactive next generation product</td><td>Focused encompassing array</td><td>A</td><td>46.43</td><td>211.27</td><td>122</td><td>175</td></tr><tr><td>ApAl211380839</td><td>Alon</td><td>Thornally</td><td>1/26/1977</td><td>Male</td><td>athornallyh2@boston.com</td><td>295-927-2710</td><td>5683 Corry Circle</td><td>Abelheira</td><td>Apple</td><td>ApAl211380839</td><td>User-centric empowering forecast</td><td>Networked responsive core</td><td>Managed non-volatile matrix</td><td>A</td><td>26.85</td><td>245.72</td><td>182</td><td>144</td></tr><tr><td>ApAl379415659</td><td>Alena</td><td>Brason</td><td>1/7/1911</td><td>Female</td><td>abrasongy@amazon.co.uk</td><td>508-832-9106</td><td>25 Hayes Way</td><td>Gesikan</td><td>Apple</td><td>ApAl379415659</td><td>Function-based systemic website</td><td>Synchronised executive support</td><td>Digitized optimal website</td><td>B</td><td>85.04</td><td>76.97</td><td>146</td><td>140</td></tr><tr><td>ApAl426267215</td><td>Alfreda</td><td>Rolf</td><td>12/17/1928</td><td>Female</td><td>arolf1s@parallels.com</td><td>355-242-6585</td><td>385 Di Loreto Alley</td><td>Dolní Cerekev</td><td>Apple</td><td>ApAl426267215</td><td>Persistent optimal benchmark</td><td>De-engineered stable infrastructure</td><td>Re-contextualized upward-trending workforce</td><td>O</td><td>42.81</td><td>63.68</td><td>74</td><td>181</td></tr><tr><td>ApAl548028460</td><td>Allys</td><td>Dri</td><td>2/15/1981</td><td>Female</td><td>adril9@webs.com</td><td>557-232-1602</td><td>3988 Caliangt Court</td><td>Djohong</td><td>Apple</td><td>ApAl548028460</td><td>Sharable client-driven encoding</td><td>Function-based intangible frame</td><td>Organized bandwidth-monitored Graphic Interface</td><td>B</td><td>22.47</td><td>285.35</td><td>142</td><td>55</td></tr><tr><td>ApAl893411558</td><td>Alistair</td><td>Plampeyn</td><td>5/19/1930</td><td>Male</td><td>aplampeynai@arizona.edu</td><td>597-195-1810</td><td>1786 Northfield Place</td><td>Végueta</td><td>Apple</td><td>ApAl893411558</td><td>Organic asynchronous challenge</td><td>Adaptive fault-tolerant local area network</td><td>Self-enabling methodical portal</td><td>O</td><td>44.53</td><td>213.04</td><td>56</td><td>188</td></tr></tbody></table></div>"
      ]
     },
     "metadata": {
      "application/vnd.databricks.v1+output": {
       "addedWidgets": {},
       "aggData": [],
       "aggError": "",
       "aggOverflow": false,
       "aggSchema": [],
       "aggSeriesLimitReached": false,
       "aggType": "",
       "arguments": {},
       "columnCustomDisplayInfos": {},
       "data": [
        [
         "ApAb315922251",
         "Abelard",
         "Yegorkin",
         "7/31/1939",
         "Non-binary",
         "ayegorkin44@redcross.org",
         "909-489-4526",
         "37 Delaware Center",
         "Menongue",
         "Apple",
         "ApAb315922251",
         "Managed intermediate product",
         "Monitored non-volatile framework",
         "Team-oriented 24/7 capacity",
         "A",
         "22.31",
         "315.11",
         "89",
         "118"
        ],
        [
         "ApAb504391274",
         "Abigale",
         "Popland",
         "6/25/1977",
         "Female",
         "apoplandat@google.cn",
         "490-236-7183",
         "2 Oakridge Park",
         "Stęszew",
         "Apple",
         "ApAb504391274",
         "Virtual explicit encoding",
         "User-centric tertiary contingency",
         "Virtual reciprocal matrix",
         "O",
         "91.5",
         "325.13",
         "53",
         "138"
        ],
        [
         "ApAd639216428",
         "Adolf",
         "Gyver",
         "10/28/1980",
         "Male",
         "agyver91@sourceforge.net",
         "635-328-9277",
         "57082 South Circle",
         "Chavão",
         "Apple",
         "ApAd639216428",
         "Quality-focused dynamic implementation",
         "Open-architected discrete knowledge user",
         "Intuitive neutral superstructure",
         "A",
         "5.58",
         "46.09",
         "162",
         "105"
        ],
        [
         "ApAg300549833",
         "Aggi",
         "Shoebotham",
         "11/29/1966",
         "Female",
         "ashoebothamfp@etsy.com",
         "566-658-7860",
         "4671 Hintze Terrace",
         "Norrköping",
         "Apple",
         "ApAg300549833",
         "Advanced content-based productivity",
         "Organic static success",
         "Function-based local application",
         "AB",
         "29.34",
         "156.47",
         "94",
         "199"
        ],
        [
         "ApAj677713792",
         "Ajay",
         "Feares",
         "1/30/1905",
         "Female",
         "afearesqw@bloglines.com",
         "555-516-4418",
         "16019 Rigney Way",
         "Yong’an",
         "Apple",
         "ApAj677713792",
         "Distributed coherent software",
         "Reactive next generation product",
         "Focused encompassing array",
         "A",
         "46.43",
         "211.27",
         "122",
         "175"
        ],
        [
         "ApAl211380839",
         "Alon",
         "Thornally",
         "1/26/1977",
         "Male",
         "athornallyh2@boston.com",
         "295-927-2710",
         "5683 Corry Circle",
         "Abelheira",
         "Apple",
         "ApAl211380839",
         "User-centric empowering forecast",
         "Networked responsive core",
         "Managed non-volatile matrix",
         "A",
         "26.85",
         "245.72",
         "182",
         "144"
        ],
        [
         "ApAl379415659",
         "Alena",
         "Brason",
         "1/7/1911",
         "Female",
         "abrasongy@amazon.co.uk",
         "508-832-9106",
         "25 Hayes Way",
         "Gesikan",
         "Apple",
         "ApAl379415659",
         "Function-based systemic website",
         "Synchronised executive support",
         "Digitized optimal website",
         "B",
         "85.04",
         "76.97",
         "146",
         "140"
        ],
        [
         "ApAl426267215",
         "Alfreda",
         "Rolf",
         "12/17/1928",
         "Female",
         "arolf1s@parallels.com",
         "355-242-6585",
         "385 Di Loreto Alley",
         "Dolní Cerekev",
         "Apple",
         "ApAl426267215",
         "Persistent optimal benchmark",
         "De-engineered stable infrastructure",
         "Re-contextualized upward-trending workforce",
         "O",
         "42.81",
         "63.68",
         "74",
         "181"
        ],
        [
         "ApAl548028460",
         "Allys",
         "Dri",
         "2/15/1981",
         "Female",
         "adril9@webs.com",
         "557-232-1602",
         "3988 Caliangt Court",
         "Djohong",
         "Apple",
         "ApAl548028460",
         "Sharable client-driven encoding",
         "Function-based intangible frame",
         "Organized bandwidth-monitored Graphic Interface",
         "B",
         "22.47",
         "285.35",
         "142",
         "55"
        ],
        [
         "ApAl893411558",
         "Alistair",
         "Plampeyn",
         "5/19/1930",
         "Male",
         "aplampeynai@arizona.edu",
         "597-195-1810",
         "1786 Northfield Place",
         "Végueta",
         "Apple",
         "ApAl893411558",
         "Organic asynchronous challenge",
         "Adaptive fault-tolerant local area network",
         "Self-enabling methodical portal",
         "O",
         "44.53",
         "213.04",
         "56",
         "188"
        ]
       ],
       "datasetInfos": [],
       "dbfsResultPath": null,
       "isJsonSchema": true,
       "metadata": {},
       "overflow": false,
       "plotOptions": {
        "customPlotOptions": {},
        "displayType": "table",
        "pivotAggregation": null,
        "pivotColumns": null,
        "xColumns": null,
        "yColumns": null
       },
       "removedWidgets": [],
       "schema": [
        {
         "metadata": "{}",
         "name": "Member_id",
         "type": "\"string\""
        },
        {
         "metadata": "{}",
         "name": "first_name",
         "type": "\"string\""
        },
        {
         "metadata": "{}",
         "name": "last_name",
         "type": "\"string\""
        },
        {
         "metadata": "{}",
         "name": "date_of_birth",
         "type": "\"string\""
        },
        {
         "metadata": "{}",
         "name": "gender",
         "type": "\"string\""
        },
        {
         "metadata": "{}",
         "name": "email",
         "type": "\"string\""
        },
        {
         "metadata": "{}",
         "name": "phone_number",
         "type": "\"string\""
        },
        {
         "metadata": "{}",
         "name": "address",
         "type": "\"string\""
        },
        {
         "metadata": "{}",
         "name": "city",
         "type": "\"string\""
        },
        {
         "metadata": "{}",
         "name": "Company",
         "type": "\"string\""
        },
        {
         "metadata": "{}",
         "name": "Member_id",
         "type": "\"string\""
        },
        {
         "metadata": "{}",
         "name": "medical_condition",
         "type": "\"string\""
        },
        {
         "metadata": "{}",
         "name": "allergies",
         "type": "\"string\""
        },
        {
         "metadata": "{}",
         "name": "medications",
         "type": "\"string\""
        },
        {
         "metadata": "{}",
         "name": "blood_type",
         "type": "\"string\""
        },
        {
         "metadata": "{}",
         "name": "height",
         "type": "\"string\""
        },
        {
         "metadata": "{}",
         "name": "weight",
         "type": "\"string\""
        },
        {
         "metadata": "{}",
         "name": "blood_pressure",
         "type": "\"string\""
        },
        {
         "metadata": "{}",
         "name": "heart_rate",
         "type": "\"string\""
        }
       ],
       "type": "table"
      }
     },
     "output_type": "display_data"
    }
   ],
   "source": [
    "# joining Member_df and Health_df\n",
    "members_health = members_df.join(health_df, members_df.Member_id == health_df.Member_id, 'inner')\n",
    "display(members_health.limit(10))"
   ]
  },
  {
   "cell_type": "code",
   "execution_count": 0,
   "metadata": {
    "application/vnd.databricks.v1+cell": {
     "cellMetadata": {
      "byteLimit": 2048000,
      "rowLimit": 10000
     },
     "inputWidgets": {},
     "nuid": "99e7620e-821c-4883-8131-9e1633b0967f",
     "showTitle": false,
     "tableResultSettingsMap": {},
     "title": ""
    }
   },
   "outputs": [],
   "source": [
    "members_health = members_health.drop(health_df.Member_id)"
   ]
  },
  {
   "cell_type": "code",
   "execution_count": 0,
   "metadata": {
    "application/vnd.databricks.v1+cell": {
     "cellMetadata": {
      "byteLimit": 2048000,
      "rowLimit": 10000
     },
     "inputWidgets": {},
     "nuid": "edabcee3-2930-475d-99c8-6f7feeba3200",
     "showTitle": false,
     "tableResultSettingsMap": {},
     "title": ""
    }
   },
   "outputs": [
    {
     "output_type": "display_data",
     "data": {
      "text/html": [
       "<style scoped>\n",
       "  .table-result-container {\n",
       "    max-height: 300px;\n",
       "    overflow: auto;\n",
       "  }\n",
       "  table, th, td {\n",
       "    border: 1px solid black;\n",
       "    border-collapse: collapse;\n",
       "  }\n",
       "  th, td {\n",
       "    padding: 5px;\n",
       "  }\n",
       "  th {\n",
       "    text-align: left;\n",
       "  }\n",
       "</style><div class='table-result-container'><table class='table-result'><thead style='background-color: white'><tr><th>Member_id</th><th>first_name</th><th>last_name</th><th>date_of_birth</th><th>gender</th><th>email</th><th>phone_number</th><th>address</th><th>city</th><th>Company</th><th>medical_condition</th><th>allergies</th><th>medications</th><th>blood_type</th><th>height</th><th>weight</th><th>blood_pressure</th><th>heart_rate</th><th>Member_id</th><th>emergency_contact_name</th><th>emergency_contact_phone</th></tr></thead><tbody><tr><td>ApAb315922251</td><td>Abelard</td><td>Yegorkin</td><td>7/31/1939</td><td>Non-binary</td><td>ayegorkin44@redcross.org</td><td>909-489-4526</td><td>37 Delaware Center</td><td>Menongue</td><td>Apple</td><td>Managed intermediate product</td><td>Monitored non-volatile framework</td><td>Team-oriented 24/7 capacity</td><td>A</td><td>22.31</td><td>315.11</td><td>89</td><td>118</td><td>ApAb315922251</td><td>Abelard Yegorkin</td><td>354-913-8111</td></tr><tr><td>ApAb504391274</td><td>Abigale</td><td>Popland</td><td>6/25/1977</td><td>Female</td><td>apoplandat@google.cn</td><td>490-236-7183</td><td>2 Oakridge Park</td><td>Stęszew</td><td>Apple</td><td>Virtual explicit encoding</td><td>User-centric tertiary contingency</td><td>Virtual reciprocal matrix</td><td>O</td><td>91.5</td><td>325.13</td><td>53</td><td>138</td><td>ApAb504391274</td><td>Abigale Popland</td><td>141-136-0623</td></tr><tr><td>ApAd639216428</td><td>Adolf</td><td>Gyver</td><td>10/28/1980</td><td>Male</td><td>agyver91@sourceforge.net</td><td>635-328-9277</td><td>57082 South Circle</td><td>Chavão</td><td>Apple</td><td>Quality-focused dynamic implementation</td><td>Open-architected discrete knowledge user</td><td>Intuitive neutral superstructure</td><td>A</td><td>5.58</td><td>46.09</td><td>162</td><td>105</td><td>ApAd639216428</td><td>Adolf Gyver</td><td>529-707-4967</td></tr><tr><td>ApAg300549833</td><td>Aggi</td><td>Shoebotham</td><td>11/29/1966</td><td>Female</td><td>ashoebothamfp@etsy.com</td><td>566-658-7860</td><td>4671 Hintze Terrace</td><td>Norrköping</td><td>Apple</td><td>Advanced content-based productivity</td><td>Organic static success</td><td>Function-based local application</td><td>AB</td><td>29.34</td><td>156.47</td><td>94</td><td>199</td><td>ApAg300549833</td><td>Aggi Shoebotham</td><td>400-237-8367</td></tr><tr><td>ApAj677713792</td><td>Ajay</td><td>Feares</td><td>1/30/1905</td><td>Female</td><td>afearesqw@bloglines.com</td><td>555-516-4418</td><td>16019 Rigney Way</td><td>Yong’an</td><td>Apple</td><td>Distributed coherent software</td><td>Reactive next generation product</td><td>Focused encompassing array</td><td>A</td><td>46.43</td><td>211.27</td><td>122</td><td>175</td><td>ApAj677713792</td><td>Ajay Feares</td><td>602-196-2839</td></tr><tr><td>ApAl211380839</td><td>Alon</td><td>Thornally</td><td>1/26/1977</td><td>Male</td><td>athornallyh2@boston.com</td><td>295-927-2710</td><td>5683 Corry Circle</td><td>Abelheira</td><td>Apple</td><td>User-centric empowering forecast</td><td>Networked responsive core</td><td>Managed non-volatile matrix</td><td>A</td><td>26.85</td><td>245.72</td><td>182</td><td>144</td><td>ApAl211380839</td><td>Alon Thornally</td><td>605-664-0522</td></tr><tr><td>ApAl379415659</td><td>Alena</td><td>Brason</td><td>1/7/1911</td><td>Female</td><td>abrasongy@amazon.co.uk</td><td>508-832-9106</td><td>25 Hayes Way</td><td>Gesikan</td><td>Apple</td><td>Function-based systemic website</td><td>Synchronised executive support</td><td>Digitized optimal website</td><td>B</td><td>85.04</td><td>76.97</td><td>146</td><td>140</td><td>ApAl379415659</td><td>Alena Brason</td><td>332-389-1962</td></tr><tr><td>ApAl426267215</td><td>Alfreda</td><td>Rolf</td><td>12/17/1928</td><td>Female</td><td>arolf1s@parallels.com</td><td>355-242-6585</td><td>385 Di Loreto Alley</td><td>Dolní Cerekev</td><td>Apple</td><td>Persistent optimal benchmark</td><td>De-engineered stable infrastructure</td><td>Re-contextualized upward-trending workforce</td><td>O</td><td>42.81</td><td>63.68</td><td>74</td><td>181</td><td>ApAl426267215</td><td>Alfreda Rolf</td><td>792-183-8502</td></tr><tr><td>ApAl548028460</td><td>Allys</td><td>Dri</td><td>2/15/1981</td><td>Female</td><td>adril9@webs.com</td><td>557-232-1602</td><td>3988 Caliangt Court</td><td>Djohong</td><td>Apple</td><td>Sharable client-driven encoding</td><td>Function-based intangible frame</td><td>Organized bandwidth-monitored Graphic Interface</td><td>B</td><td>22.47</td><td>285.35</td><td>142</td><td>55</td><td>ApAl548028460</td><td>Allys Dri</td><td>177-841-6467</td></tr><tr><td>ApAl893411558</td><td>Alistair</td><td>Plampeyn</td><td>5/19/1930</td><td>Male</td><td>aplampeynai@arizona.edu</td><td>597-195-1810</td><td>1786 Northfield Place</td><td>Végueta</td><td>Apple</td><td>Organic asynchronous challenge</td><td>Adaptive fault-tolerant local area network</td><td>Self-enabling methodical portal</td><td>O</td><td>44.53</td><td>213.04</td><td>56</td><td>188</td><td>ApAl893411558</td><td>Alistair Plampeyn</td><td>402-701-8253</td></tr></tbody></table></div>"
      ]
     },
     "metadata": {
      "application/vnd.databricks.v1+output": {
       "addedWidgets": {},
       "aggData": [],
       "aggError": "",
       "aggOverflow": false,
       "aggSchema": [],
       "aggSeriesLimitReached": false,
       "aggType": "",
       "arguments": {},
       "columnCustomDisplayInfos": {},
       "data": [
        [
         "ApAb315922251",
         "Abelard",
         "Yegorkin",
         "7/31/1939",
         "Non-binary",
         "ayegorkin44@redcross.org",
         "909-489-4526",
         "37 Delaware Center",
         "Menongue",
         "Apple",
         "Managed intermediate product",
         "Monitored non-volatile framework",
         "Team-oriented 24/7 capacity",
         "A",
         "22.31",
         "315.11",
         "89",
         "118",
         "ApAb315922251",
         "Abelard Yegorkin",
         "354-913-8111"
        ],
        [
         "ApAb504391274",
         "Abigale",
         "Popland",
         "6/25/1977",
         "Female",
         "apoplandat@google.cn",
         "490-236-7183",
         "2 Oakridge Park",
         "Stęszew",
         "Apple",
         "Virtual explicit encoding",
         "User-centric tertiary contingency",
         "Virtual reciprocal matrix",
         "O",
         "91.5",
         "325.13",
         "53",
         "138",
         "ApAb504391274",
         "Abigale Popland",
         "141-136-0623"
        ],
        [
         "ApAd639216428",
         "Adolf",
         "Gyver",
         "10/28/1980",
         "Male",
         "agyver91@sourceforge.net",
         "635-328-9277",
         "57082 South Circle",
         "Chavão",
         "Apple",
         "Quality-focused dynamic implementation",
         "Open-architected discrete knowledge user",
         "Intuitive neutral superstructure",
         "A",
         "5.58",
         "46.09",
         "162",
         "105",
         "ApAd639216428",
         "Adolf Gyver",
         "529-707-4967"
        ],
        [
         "ApAg300549833",
         "Aggi",
         "Shoebotham",
         "11/29/1966",
         "Female",
         "ashoebothamfp@etsy.com",
         "566-658-7860",
         "4671 Hintze Terrace",
         "Norrköping",
         "Apple",
         "Advanced content-based productivity",
         "Organic static success",
         "Function-based local application",
         "AB",
         "29.34",
         "156.47",
         "94",
         "199",
         "ApAg300549833",
         "Aggi Shoebotham",
         "400-237-8367"
        ],
        [
         "ApAj677713792",
         "Ajay",
         "Feares",
         "1/30/1905",
         "Female",
         "afearesqw@bloglines.com",
         "555-516-4418",
         "16019 Rigney Way",
         "Yong’an",
         "Apple",
         "Distributed coherent software",
         "Reactive next generation product",
         "Focused encompassing array",
         "A",
         "46.43",
         "211.27",
         "122",
         "175",
         "ApAj677713792",
         "Ajay Feares",
         "602-196-2839"
        ],
        [
         "ApAl211380839",
         "Alon",
         "Thornally",
         "1/26/1977",
         "Male",
         "athornallyh2@boston.com",
         "295-927-2710",
         "5683 Corry Circle",
         "Abelheira",
         "Apple",
         "User-centric empowering forecast",
         "Networked responsive core",
         "Managed non-volatile matrix",
         "A",
         "26.85",
         "245.72",
         "182",
         "144",
         "ApAl211380839",
         "Alon Thornally",
         "605-664-0522"
        ],
        [
         "ApAl379415659",
         "Alena",
         "Brason",
         "1/7/1911",
         "Female",
         "abrasongy@amazon.co.uk",
         "508-832-9106",
         "25 Hayes Way",
         "Gesikan",
         "Apple",
         "Function-based systemic website",
         "Synchronised executive support",
         "Digitized optimal website",
         "B",
         "85.04",
         "76.97",
         "146",
         "140",
         "ApAl379415659",
         "Alena Brason",
         "332-389-1962"
        ],
        [
         "ApAl426267215",
         "Alfreda",
         "Rolf",
         "12/17/1928",
         "Female",
         "arolf1s@parallels.com",
         "355-242-6585",
         "385 Di Loreto Alley",
         "Dolní Cerekev",
         "Apple",
         "Persistent optimal benchmark",
         "De-engineered stable infrastructure",
         "Re-contextualized upward-trending workforce",
         "O",
         "42.81",
         "63.68",
         "74",
         "181",
         "ApAl426267215",
         "Alfreda Rolf",
         "792-183-8502"
        ],
        [
         "ApAl548028460",
         "Allys",
         "Dri",
         "2/15/1981",
         "Female",
         "adril9@webs.com",
         "557-232-1602",
         "3988 Caliangt Court",
         "Djohong",
         "Apple",
         "Sharable client-driven encoding",
         "Function-based intangible frame",
         "Organized bandwidth-monitored Graphic Interface",
         "B",
         "22.47",
         "285.35",
         "142",
         "55",
         "ApAl548028460",
         "Allys Dri",
         "177-841-6467"
        ],
        [
         "ApAl893411558",
         "Alistair",
         "Plampeyn",
         "5/19/1930",
         "Male",
         "aplampeynai@arizona.edu",
         "597-195-1810",
         "1786 Northfield Place",
         "Végueta",
         "Apple",
         "Organic asynchronous challenge",
         "Adaptive fault-tolerant local area network",
         "Self-enabling methodical portal",
         "O",
         "44.53",
         "213.04",
         "56",
         "188",
         "ApAl893411558",
         "Alistair Plampeyn",
         "402-701-8253"
        ]
       ],
       "datasetInfos": [],
       "dbfsResultPath": null,
       "isJsonSchema": true,
       "metadata": {},
       "overflow": false,
       "plotOptions": {
        "customPlotOptions": {},
        "displayType": "table",
        "pivotAggregation": null,
        "pivotColumns": null,
        "xColumns": null,
        "yColumns": null
       },
       "removedWidgets": [],
       "schema": [
        {
         "metadata": "{}",
         "name": "Member_id",
         "type": "\"string\""
        },
        {
         "metadata": "{}",
         "name": "first_name",
         "type": "\"string\""
        },
        {
         "metadata": "{}",
         "name": "last_name",
         "type": "\"string\""
        },
        {
         "metadata": "{}",
         "name": "date_of_birth",
         "type": "\"string\""
        },
        {
         "metadata": "{}",
         "name": "gender",
         "type": "\"string\""
        },
        {
         "metadata": "{}",
         "name": "email",
         "type": "\"string\""
        },
        {
         "metadata": "{}",
         "name": "phone_number",
         "type": "\"string\""
        },
        {
         "metadata": "{}",
         "name": "address",
         "type": "\"string\""
        },
        {
         "metadata": "{}",
         "name": "city",
         "type": "\"string\""
        },
        {
         "metadata": "{}",
         "name": "Company",
         "type": "\"string\""
        },
        {
         "metadata": "{}",
         "name": "medical_condition",
         "type": "\"string\""
        },
        {
         "metadata": "{}",
         "name": "allergies",
         "type": "\"string\""
        },
        {
         "metadata": "{}",
         "name": "medications",
         "type": "\"string\""
        },
        {
         "metadata": "{}",
         "name": "blood_type",
         "type": "\"string\""
        },
        {
         "metadata": "{}",
         "name": "height",
         "type": "\"string\""
        },
        {
         "metadata": "{}",
         "name": "weight",
         "type": "\"string\""
        },
        {
         "metadata": "{}",
         "name": "blood_pressure",
         "type": "\"string\""
        },
        {
         "metadata": "{}",
         "name": "heart_rate",
         "type": "\"string\""
        },
        {
         "metadata": "{}",
         "name": "Member_id",
         "type": "\"string\""
        },
        {
         "metadata": "{}",
         "name": "emergency_contact_name",
         "type": "\"string\""
        },
        {
         "metadata": "{}",
         "name": "emergency_contact_phone",
         "type": "\"string\""
        }
       ],
       "type": "table"
      }
     },
     "output_type": "display_data"
    }
   ],
   "source": [
    "# joining members_health with medical_df\n",
    "members_health_emergency = members_health.join(emergency_df, members_health.Member_id == emergency_df.Member_id,'inner')\n",
    "display(members_health_emergency.limit(10))"
   ]
  },
  {
   "cell_type": "code",
   "execution_count": 0,
   "metadata": {
    "application/vnd.databricks.v1+cell": {
     "cellMetadata": {
      "byteLimit": 2048000,
      "rowLimit": 10000
     },
     "inputWidgets": {},
     "nuid": "8c33952a-a5dd-4ca1-9417-fbdd58c533a6",
     "showTitle": false,
     "tableResultSettingsMap": {},
     "title": ""
    }
   },
   "outputs": [],
   "source": [
    "members_health_emergency = members_health_emergency.drop(emergency_df.Member_id)"
   ]
  },
  {
   "cell_type": "code",
   "execution_count": 0,
   "metadata": {
    "application/vnd.databricks.v1+cell": {
     "cellMetadata": {
      "byteLimit": 2048000,
      "rowLimit": 10000
     },
     "inputWidgets": {},
     "nuid": "b8bc6811-f4e4-4786-b09f-03657a801db5",
     "showTitle": false,
     "tableResultSettingsMap": {},
     "title": ""
    }
   },
   "outputs": [
    {
     "output_type": "display_data",
     "data": {
      "text/html": [
       "<style scoped>\n",
       "  .table-result-container {\n",
       "    max-height: 300px;\n",
       "    overflow: auto;\n",
       "  }\n",
       "  table, th, td {\n",
       "    border: 1px solid black;\n",
       "    border-collapse: collapse;\n",
       "  }\n",
       "  th, td {\n",
       "    padding: 5px;\n",
       "  }\n",
       "  th {\n",
       "    text-align: left;\n",
       "  }\n",
       "</style><div class='table-result-container'><table class='table-result'><thead style='background-color: white'><tr><th>Member_id</th><th>first_name</th><th>last_name</th><th>date_of_birth</th><th>gender</th><th>email</th><th>phone_number</th><th>address</th><th>city</th><th>Company</th><th>medical_condition</th><th>allergies</th><th>medications</th><th>blood_type</th><th>height</th><th>weight</th><th>blood_pressure</th><th>heart_rate</th><th>emergency_contact_name</th><th>emergency_contact_phone</th><th>Member_id</th><th>insurance_provider</th><th>insurance_policy_number</th><th>insurance_expiration_date</th><th>Diagnosis_code</th><th>Procedure_code</th><th>primary_care_physician</th><th>last_visit_date</th></tr></thead><tbody><tr><td>ApAb315922251</td><td>Abelard</td><td>Yegorkin</td><td>7/31/1939</td><td>Non-binary</td><td>ayegorkin44@redcross.org</td><td>909-489-4526</td><td>37 Delaware Center</td><td>Menongue</td><td>Apple</td><td>Managed intermediate product</td><td>Monitored non-volatile framework</td><td>Team-oriented 24/7 capacity</td><td>A</td><td>22.31</td><td>315.11</td><td>89</td><td>118</td><td>Abelard Yegorkin</td><td>354-913-8111</td><td>ApAb315922251</td><td>Kuvalis, Gerlach and Mills</td><td>644738</td><td>6/24/2033</td><td>A378</td><td>0F150Z9</td><td>Abelard Yegorkin</td><td>11/30/2006</td></tr><tr><td>ApAb504391274</td><td>Abigale</td><td>Popland</td><td>6/25/1977</td><td>Female</td><td>apoplandat@google.cn</td><td>490-236-7183</td><td>2 Oakridge Park</td><td>Stęszew</td><td>Apple</td><td>Virtual explicit encoding</td><td>User-centric tertiary contingency</td><td>Virtual reciprocal matrix</td><td>O</td><td>91.5</td><td>325.13</td><td>53</td><td>138</td><td>Abigale Popland</td><td>141-136-0623</td><td>ApAb504391274</td><td>Lesch, Greenfelder and Lakin</td><td>435017</td><td>7/22/2046</td><td>S2591XD</td><td>0MQ64ZZ</td><td>Abigale Popland</td><td>3/31/2005</td></tr><tr><td>ApAd639216428</td><td>Adolf</td><td>Gyver</td><td>10/28/1980</td><td>Male</td><td>agyver91@sourceforge.net</td><td>635-328-9277</td><td>57082 South Circle</td><td>Chavão</td><td>Apple</td><td>Quality-focused dynamic implementation</td><td>Open-architected discrete knowledge user</td><td>Intuitive neutral superstructure</td><td>A</td><td>5.58</td><td>46.09</td><td>162</td><td>105</td><td>Adolf Gyver</td><td>529-707-4967</td><td>ApAd639216428</td><td>Osinski LLC</td><td>726995</td><td>6/30/2035</td><td>Q7240</td><td>0Q9L0ZZ</td><td>Adolf Gyver</td><td>10/28/2015</td></tr><tr><td>ApAg300549833</td><td>Aggi</td><td>Shoebotham</td><td>11/29/1966</td><td>Female</td><td>ashoebothamfp@etsy.com</td><td>566-658-7860</td><td>4671 Hintze Terrace</td><td>Norrköping</td><td>Apple</td><td>Advanced content-based productivity</td><td>Organic static success</td><td>Function-based local application</td><td>AB</td><td>29.34</td><td>156.47</td><td>94</td><td>199</td><td>Aggi Shoebotham</td><td>400-237-8367</td><td>ApAg300549833</td><td>Schmidt-Kuphal</td><td>870897</td><td>6/19/2029</td><td>I70703</td><td>0SWL38Z</td><td>Aggi Shoebotham</td><td>4/8/2005</td></tr><tr><td>ApAj677713792</td><td>Ajay</td><td>Feares</td><td>1/30/1905</td><td>Female</td><td>afearesqw@bloglines.com</td><td>555-516-4418</td><td>16019 Rigney Way</td><td>Yong’an</td><td>Apple</td><td>Distributed coherent software</td><td>Reactive next generation product</td><td>Focused encompassing array</td><td>A</td><td>46.43</td><td>211.27</td><td>122</td><td>175</td><td>Ajay Feares</td><td>602-196-2839</td><td>ApAj677713792</td><td>Corwin Inc</td><td>255481</td><td>1/11/2031</td><td>S52692A</td><td>03V30ZZ</td><td>Ajay Feares</td><td>4/18/2000</td></tr><tr><td>ApAl211380839</td><td>Alon</td><td>Thornally</td><td>1/26/1977</td><td>Male</td><td>athornallyh2@boston.com</td><td>295-927-2710</td><td>5683 Corry Circle</td><td>Abelheira</td><td>Apple</td><td>User-centric empowering forecast</td><td>Networked responsive core</td><td>Managed non-volatile matrix</td><td>A</td><td>26.85</td><td>245.72</td><td>182</td><td>144</td><td>Alon Thornally</td><td>605-664-0522</td><td>ApAl211380839</td><td>Lynch-Rice</td><td>194338</td><td>11/13/2029</td><td>T63482D</td><td>0Q9R30Z</td><td>Alon Thornally</td><td>10/18/2014</td></tr><tr><td>ApAl379415659</td><td>Alena</td><td>Brason</td><td>1/7/1911</td><td>Female</td><td>abrasongy@amazon.co.uk</td><td>508-832-9106</td><td>25 Hayes Way</td><td>Gesikan</td><td>Apple</td><td>Function-based systemic website</td><td>Synchronised executive support</td><td>Digitized optimal website</td><td>B</td><td>85.04</td><td>76.97</td><td>146</td><td>140</td><td>Alena Brason</td><td>332-389-1962</td><td>ApAl379415659</td><td>Ritchie and Sons</td><td>164682</td><td>11/16/2024</td><td>Y0702</td><td>021649P</td><td>Alena Brason</td><td>3/18/2020</td></tr><tr><td>ApAl426267215</td><td>Alfreda</td><td>Rolf</td><td>12/17/1928</td><td>Female</td><td>arolf1s@parallels.com</td><td>355-242-6585</td><td>385 Di Loreto Alley</td><td>Dolní Cerekev</td><td>Apple</td><td>Persistent optimal benchmark</td><td>De-engineered stable infrastructure</td><td>Re-contextualized upward-trending workforce</td><td>O</td><td>42.81</td><td>63.68</td><td>74</td><td>181</td><td>Alfreda Rolf</td><td>792-183-8502</td><td>ApAl426267215</td><td>Kovacek-McLaughlin</td><td>901932</td><td>4/7/2038</td><td>A5481</td><td>00P003Z</td><td>Alfreda Rolf</td><td>8/5/2022</td></tr><tr><td>ApAl548028460</td><td>Allys</td><td>Dri</td><td>2/15/1981</td><td>Female</td><td>adril9@webs.com</td><td>557-232-1602</td><td>3988 Caliangt Court</td><td>Djohong</td><td>Apple</td><td>Sharable client-driven encoding</td><td>Function-based intangible frame</td><td>Organized bandwidth-monitored Graphic Interface</td><td>B</td><td>22.47</td><td>285.35</td><td>142</td><td>55</td><td>Allys Dri</td><td>177-841-6467</td><td>ApAl548028460</td><td>Friesen Inc</td><td>748725</td><td>12/30/2035</td><td>H21553</td><td>B039ZZZ</td><td>Allys Dri</td><td>4/23/2007</td></tr><tr><td>ApAl893411558</td><td>Alistair</td><td>Plampeyn</td><td>5/19/1930</td><td>Male</td><td>aplampeynai@arizona.edu</td><td>597-195-1810</td><td>1786 Northfield Place</td><td>Végueta</td><td>Apple</td><td>Organic asynchronous challenge</td><td>Adaptive fault-tolerant local area network</td><td>Self-enabling methodical portal</td><td>O</td><td>44.53</td><td>213.04</td><td>56</td><td>188</td><td>Alistair Plampeyn</td><td>402-701-8253</td><td>ApAl893411558</td><td>Skiles-Sanford</td><td>297096</td><td>5/18/2046</td><td>C84A5</td><td>06SQ0ZZ</td><td>Alistair Plampeyn</td><td>11/23/2013</td></tr></tbody></table></div>"
      ]
     },
     "metadata": {
      "application/vnd.databricks.v1+output": {
       "addedWidgets": {},
       "aggData": [],
       "aggError": "",
       "aggOverflow": false,
       "aggSchema": [],
       "aggSeriesLimitReached": false,
       "aggType": "",
       "arguments": {},
       "columnCustomDisplayInfos": {},
       "data": [
        [
         "ApAb315922251",
         "Abelard",
         "Yegorkin",
         "7/31/1939",
         "Non-binary",
         "ayegorkin44@redcross.org",
         "909-489-4526",
         "37 Delaware Center",
         "Menongue",
         "Apple",
         "Managed intermediate product",
         "Monitored non-volatile framework",
         "Team-oriented 24/7 capacity",
         "A",
         "22.31",
         "315.11",
         "89",
         "118",
         "Abelard Yegorkin",
         "354-913-8111",
         "ApAb315922251",
         "Kuvalis, Gerlach and Mills",
         "644738",
         "6/24/2033",
         "A378",
         "0F150Z9",
         "Abelard Yegorkin",
         "11/30/2006"
        ],
        [
         "ApAb504391274",
         "Abigale",
         "Popland",
         "6/25/1977",
         "Female",
         "apoplandat@google.cn",
         "490-236-7183",
         "2 Oakridge Park",
         "Stęszew",
         "Apple",
         "Virtual explicit encoding",
         "User-centric tertiary contingency",
         "Virtual reciprocal matrix",
         "O",
         "91.5",
         "325.13",
         "53",
         "138",
         "Abigale Popland",
         "141-136-0623",
         "ApAb504391274",
         "Lesch, Greenfelder and Lakin",
         "435017",
         "7/22/2046",
         "S2591XD",
         "0MQ64ZZ",
         "Abigale Popland",
         "3/31/2005"
        ],
        [
         "ApAd639216428",
         "Adolf",
         "Gyver",
         "10/28/1980",
         "Male",
         "agyver91@sourceforge.net",
         "635-328-9277",
         "57082 South Circle",
         "Chavão",
         "Apple",
         "Quality-focused dynamic implementation",
         "Open-architected discrete knowledge user",
         "Intuitive neutral superstructure",
         "A",
         "5.58",
         "46.09",
         "162",
         "105",
         "Adolf Gyver",
         "529-707-4967",
         "ApAd639216428",
         "Osinski LLC",
         "726995",
         "6/30/2035",
         "Q7240",
         "0Q9L0ZZ",
         "Adolf Gyver",
         "10/28/2015"
        ],
        [
         "ApAg300549833",
         "Aggi",
         "Shoebotham",
         "11/29/1966",
         "Female",
         "ashoebothamfp@etsy.com",
         "566-658-7860",
         "4671 Hintze Terrace",
         "Norrköping",
         "Apple",
         "Advanced content-based productivity",
         "Organic static success",
         "Function-based local application",
         "AB",
         "29.34",
         "156.47",
         "94",
         "199",
         "Aggi Shoebotham",
         "400-237-8367",
         "ApAg300549833",
         "Schmidt-Kuphal",
         "870897",
         "6/19/2029",
         "I70703",
         "0SWL38Z",
         "Aggi Shoebotham",
         "4/8/2005"
        ],
        [
         "ApAj677713792",
         "Ajay",
         "Feares",
         "1/30/1905",
         "Female",
         "afearesqw@bloglines.com",
         "555-516-4418",
         "16019 Rigney Way",
         "Yong’an",
         "Apple",
         "Distributed coherent software",
         "Reactive next generation product",
         "Focused encompassing array",
         "A",
         "46.43",
         "211.27",
         "122",
         "175",
         "Ajay Feares",
         "602-196-2839",
         "ApAj677713792",
         "Corwin Inc",
         "255481",
         "1/11/2031",
         "S52692A",
         "03V30ZZ",
         "Ajay Feares",
         "4/18/2000"
        ],
        [
         "ApAl211380839",
         "Alon",
         "Thornally",
         "1/26/1977",
         "Male",
         "athornallyh2@boston.com",
         "295-927-2710",
         "5683 Corry Circle",
         "Abelheira",
         "Apple",
         "User-centric empowering forecast",
         "Networked responsive core",
         "Managed non-volatile matrix",
         "A",
         "26.85",
         "245.72",
         "182",
         "144",
         "Alon Thornally",
         "605-664-0522",
         "ApAl211380839",
         "Lynch-Rice",
         "194338",
         "11/13/2029",
         "T63482D",
         "0Q9R30Z",
         "Alon Thornally",
         "10/18/2014"
        ],
        [
         "ApAl379415659",
         "Alena",
         "Brason",
         "1/7/1911",
         "Female",
         "abrasongy@amazon.co.uk",
         "508-832-9106",
         "25 Hayes Way",
         "Gesikan",
         "Apple",
         "Function-based systemic website",
         "Synchronised executive support",
         "Digitized optimal website",
         "B",
         "85.04",
         "76.97",
         "146",
         "140",
         "Alena Brason",
         "332-389-1962",
         "ApAl379415659",
         "Ritchie and Sons",
         "164682",
         "11/16/2024",
         "Y0702",
         "021649P",
         "Alena Brason",
         "3/18/2020"
        ],
        [
         "ApAl426267215",
         "Alfreda",
         "Rolf",
         "12/17/1928",
         "Female",
         "arolf1s@parallels.com",
         "355-242-6585",
         "385 Di Loreto Alley",
         "Dolní Cerekev",
         "Apple",
         "Persistent optimal benchmark",
         "De-engineered stable infrastructure",
         "Re-contextualized upward-trending workforce",
         "O",
         "42.81",
         "63.68",
         "74",
         "181",
         "Alfreda Rolf",
         "792-183-8502",
         "ApAl426267215",
         "Kovacek-McLaughlin",
         "901932",
         "4/7/2038",
         "A5481",
         "00P003Z",
         "Alfreda Rolf",
         "8/5/2022"
        ],
        [
         "ApAl548028460",
         "Allys",
         "Dri",
         "2/15/1981",
         "Female",
         "adril9@webs.com",
         "557-232-1602",
         "3988 Caliangt Court",
         "Djohong",
         "Apple",
         "Sharable client-driven encoding",
         "Function-based intangible frame",
         "Organized bandwidth-monitored Graphic Interface",
         "B",
         "22.47",
         "285.35",
         "142",
         "55",
         "Allys Dri",
         "177-841-6467",
         "ApAl548028460",
         "Friesen Inc",
         "748725",
         "12/30/2035",
         "H21553",
         "B039ZZZ",
         "Allys Dri",
         "4/23/2007"
        ],
        [
         "ApAl893411558",
         "Alistair",
         "Plampeyn",
         "5/19/1930",
         "Male",
         "aplampeynai@arizona.edu",
         "597-195-1810",
         "1786 Northfield Place",
         "Végueta",
         "Apple",
         "Organic asynchronous challenge",
         "Adaptive fault-tolerant local area network",
         "Self-enabling methodical portal",
         "O",
         "44.53",
         "213.04",
         "56",
         "188",
         "Alistair Plampeyn",
         "402-701-8253",
         "ApAl893411558",
         "Skiles-Sanford",
         "297096",
         "5/18/2046",
         "C84A5",
         "06SQ0ZZ",
         "Alistair Plampeyn",
         "11/23/2013"
        ]
       ],
       "datasetInfos": [],
       "dbfsResultPath": null,
       "isJsonSchema": true,
       "metadata": {},
       "overflow": false,
       "plotOptions": {
        "customPlotOptions": {},
        "displayType": "table",
        "pivotAggregation": null,
        "pivotColumns": null,
        "xColumns": null,
        "yColumns": null
       },
       "removedWidgets": [],
       "schema": [
        {
         "metadata": "{}",
         "name": "Member_id",
         "type": "\"string\""
        },
        {
         "metadata": "{}",
         "name": "first_name",
         "type": "\"string\""
        },
        {
         "metadata": "{}",
         "name": "last_name",
         "type": "\"string\""
        },
        {
         "metadata": "{}",
         "name": "date_of_birth",
         "type": "\"string\""
        },
        {
         "metadata": "{}",
         "name": "gender",
         "type": "\"string\""
        },
        {
         "metadata": "{}",
         "name": "email",
         "type": "\"string\""
        },
        {
         "metadata": "{}",
         "name": "phone_number",
         "type": "\"string\""
        },
        {
         "metadata": "{}",
         "name": "address",
         "type": "\"string\""
        },
        {
         "metadata": "{}",
         "name": "city",
         "type": "\"string\""
        },
        {
         "metadata": "{}",
         "name": "Company",
         "type": "\"string\""
        },
        {
         "metadata": "{}",
         "name": "medical_condition",
         "type": "\"string\""
        },
        {
         "metadata": "{}",
         "name": "allergies",
         "type": "\"string\""
        },
        {
         "metadata": "{}",
         "name": "medications",
         "type": "\"string\""
        },
        {
         "metadata": "{}",
         "name": "blood_type",
         "type": "\"string\""
        },
        {
         "metadata": "{}",
         "name": "height",
         "type": "\"string\""
        },
        {
         "metadata": "{}",
         "name": "weight",
         "type": "\"string\""
        },
        {
         "metadata": "{}",
         "name": "blood_pressure",
         "type": "\"string\""
        },
        {
         "metadata": "{}",
         "name": "heart_rate",
         "type": "\"string\""
        },
        {
         "metadata": "{}",
         "name": "emergency_contact_name",
         "type": "\"string\""
        },
        {
         "metadata": "{}",
         "name": "emergency_contact_phone",
         "type": "\"string\""
        },
        {
         "metadata": "{}",
         "name": "Member_id",
         "type": "\"string\""
        },
        {
         "metadata": "{}",
         "name": "insurance_provider",
         "type": "\"string\""
        },
        {
         "metadata": "{}",
         "name": "insurance_policy_number",
         "type": "\"string\""
        },
        {
         "metadata": "{}",
         "name": "insurance_expiration_date",
         "type": "\"string\""
        },
        {
         "metadata": "{}",
         "name": "Diagnosis_code",
         "type": "\"string\""
        },
        {
         "metadata": "{}",
         "name": "Procedure_code",
         "type": "\"string\""
        },
        {
         "metadata": "{}",
         "name": "primary_care_physician",
         "type": "\"string\""
        },
        {
         "metadata": "{}",
         "name": "last_visit_date",
         "type": "\"string\""
        }
       ],
       "type": "table"
      }
     },
     "output_type": "display_data"
    }
   ],
   "source": [
    "members_health_emergency_medical = members_health_emergency.join(medical_df, members_health_emergency.Member_id == medical_df.Member_id,'inner')\n",
    "display(members_health_emergency_medical.limit(10))"
   ]
  },
  {
   "cell_type": "code",
   "execution_count": 0,
   "metadata": {
    "application/vnd.databricks.v1+cell": {
     "cellMetadata": {
      "byteLimit": 2048000,
      "rowLimit": 10000
     },
     "inputWidgets": {},
     "nuid": "d10d6aae-7e40-4229-8b08-f8fc4d6392a6",
     "showTitle": false,
     "tableResultSettingsMap": {},
     "title": ""
    }
   },
   "outputs": [],
   "source": [
    "members_health_emergency_medical = members_health_emergency_medical.drop(medical_df.Member_id)"
   ]
  },
  {
   "cell_type": "code",
   "execution_count": 0,
   "metadata": {
    "application/vnd.databricks.v1+cell": {
     "cellMetadata": {
      "byteLimit": 2048000,
      "rowLimit": 10000
     },
     "inputWidgets": {},
     "nuid": "8a549723-ea2f-41f0-a5a0-3a187243fa7d",
     "showTitle": false,
     "tableResultSettingsMap": {},
     "title": ""
    }
   },
   "outputs": [
    {
     "output_type": "display_data",
     "data": {
      "text/html": [
       "<style scoped>\n",
       "  .table-result-container {\n",
       "    max-height: 300px;\n",
       "    overflow: auto;\n",
       "  }\n",
       "  table, th, td {\n",
       "    border: 1px solid black;\n",
       "    border-collapse: collapse;\n",
       "  }\n",
       "  th, td {\n",
       "    padding: 5px;\n",
       "  }\n",
       "  th {\n",
       "    text-align: left;\n",
       "  }\n",
       "</style><div class='table-result-container'><table class='table-result'><thead style='background-color: white'><tr><th>Member_id</th><th>first_name</th><th>last_name</th><th>date_of_birth</th><th>gender</th><th>email</th><th>phone_number</th><th>address</th><th>city</th><th>Company</th><th>medical_condition</th><th>allergies</th><th>medications</th><th>blood_type</th><th>height</th><th>weight</th><th>blood_pressure</th><th>heart_rate</th><th>emergency_contact_name</th><th>emergency_contact_phone</th><th>insurance_provider</th><th>insurance_policy_number</th><th>insurance_expiration_date</th><th>Diagnosis_code</th><th>Procedure_code</th><th>primary_care_physician</th><th>last_visit_date</th><th>Diagnosis_code</th><th>Diagnosis_description</th></tr></thead><tbody><tr><td>ApAb315922251</td><td>Abelard</td><td>Yegorkin</td><td>7/31/1939</td><td>Non-binary</td><td>ayegorkin44@redcross.org</td><td>909-489-4526</td><td>37 Delaware Center</td><td>Menongue</td><td>Apple</td><td>Managed intermediate product</td><td>Monitored non-volatile framework</td><td>Team-oriented 24/7 capacity</td><td>A</td><td>22.31</td><td>315.11</td><td>89</td><td>118</td><td>Abelard Yegorkin</td><td>354-913-8111</td><td>Kuvalis, Gerlach and Mills</td><td>644738</td><td>6/24/2033</td><td>A378</td><td>0F150Z9</td><td>Abelard Yegorkin</td><td>11/30/2006</td><td>A378</td><td>Whooping cough due to other Bordetella species</td></tr><tr><td>ApAb504391274</td><td>Abigale</td><td>Popland</td><td>6/25/1977</td><td>Female</td><td>apoplandat@google.cn</td><td>490-236-7183</td><td>2 Oakridge Park</td><td>Stęszew</td><td>Apple</td><td>Virtual explicit encoding</td><td>User-centric tertiary contingency</td><td>Virtual reciprocal matrix</td><td>O</td><td>91.5</td><td>325.13</td><td>53</td><td>138</td><td>Abigale Popland</td><td>141-136-0623</td><td>Lesch, Greenfelder and Lakin</td><td>435017</td><td>7/22/2046</td><td>S2591XD</td><td>0MQ64ZZ</td><td>Abigale Popland</td><td>3/31/2005</td><td>S2591XD</td><td>Laceration of unspecified blood vessel of thorax, subsequent encounter</td></tr><tr><td>ApAd639216428</td><td>Adolf</td><td>Gyver</td><td>10/28/1980</td><td>Male</td><td>agyver91@sourceforge.net</td><td>635-328-9277</td><td>57082 South Circle</td><td>Chavão</td><td>Apple</td><td>Quality-focused dynamic implementation</td><td>Open-architected discrete knowledge user</td><td>Intuitive neutral superstructure</td><td>A</td><td>5.58</td><td>46.09</td><td>162</td><td>105</td><td>Adolf Gyver</td><td>529-707-4967</td><td>Osinski LLC</td><td>726995</td><td>6/30/2035</td><td>Q7240</td><td>0Q9L0ZZ</td><td>Adolf Gyver</td><td>10/28/2015</td><td>Q7240</td><td>Longitudinal reduction defect of unspecified femur</td></tr><tr><td>ApAg300549833</td><td>Aggi</td><td>Shoebotham</td><td>11/29/1966</td><td>Female</td><td>ashoebothamfp@etsy.com</td><td>566-658-7860</td><td>4671 Hintze Terrace</td><td>Norrköping</td><td>Apple</td><td>Advanced content-based productivity</td><td>Organic static success</td><td>Function-based local application</td><td>AB</td><td>29.34</td><td>156.47</td><td>94</td><td>199</td><td>Aggi Shoebotham</td><td>400-237-8367</td><td>Schmidt-Kuphal</td><td>870897</td><td>6/19/2029</td><td>I70703</td><td>0SWL38Z</td><td>Aggi Shoebotham</td><td>4/8/2005</td><td>I70703</td><td>Unspecified atherosclerosis of other type of bypass graft(s) of the extremities, bilateral legs</td></tr><tr><td>ApAj677713792</td><td>Ajay</td><td>Feares</td><td>1/30/1905</td><td>Female</td><td>afearesqw@bloglines.com</td><td>555-516-4418</td><td>16019 Rigney Way</td><td>Yong’an</td><td>Apple</td><td>Distributed coherent software</td><td>Reactive next generation product</td><td>Focused encompassing array</td><td>A</td><td>46.43</td><td>211.27</td><td>122</td><td>175</td><td>Ajay Feares</td><td>602-196-2839</td><td>Corwin Inc</td><td>255481</td><td>1/11/2031</td><td>S52692A</td><td>03V30ZZ</td><td>Ajay Feares</td><td>4/18/2000</td><td>S52692A</td><td>Other fracture of lower end of left ulna, initial encounter for closed fracture</td></tr><tr><td>ApAl211380839</td><td>Alon</td><td>Thornally</td><td>1/26/1977</td><td>Male</td><td>athornallyh2@boston.com</td><td>295-927-2710</td><td>5683 Corry Circle</td><td>Abelheira</td><td>Apple</td><td>User-centric empowering forecast</td><td>Networked responsive core</td><td>Managed non-volatile matrix</td><td>A</td><td>26.85</td><td>245.72</td><td>182</td><td>144</td><td>Alon Thornally</td><td>605-664-0522</td><td>Lynch-Rice</td><td>194338</td><td>11/13/2029</td><td>T63482D</td><td>0Q9R30Z</td><td>Alon Thornally</td><td>10/18/2014</td><td>T63482D</td><td>Toxic effect of venom of other arthropod, intentional self-harm, subsequent encounter</td></tr><tr><td>ApAl379415659</td><td>Alena</td><td>Brason</td><td>1/7/1911</td><td>Female</td><td>abrasongy@amazon.co.uk</td><td>508-832-9106</td><td>25 Hayes Way</td><td>Gesikan</td><td>Apple</td><td>Function-based systemic website</td><td>Synchronised executive support</td><td>Digitized optimal website</td><td>B</td><td>85.04</td><td>76.97</td><td>146</td><td>140</td><td>Alena Brason</td><td>332-389-1962</td><td>Ritchie and Sons</td><td>164682</td><td>11/16/2024</td><td>Y0702</td><td>021649P</td><td>Alena Brason</td><td>3/18/2020</td><td>Y0702</td><td>Wife, perpetrator of maltreatment and neglect</td></tr><tr><td>ApAl426267215</td><td>Alfreda</td><td>Rolf</td><td>12/17/1928</td><td>Female</td><td>arolf1s@parallels.com</td><td>355-242-6585</td><td>385 Di Loreto Alley</td><td>Dolní Cerekev</td><td>Apple</td><td>Persistent optimal benchmark</td><td>De-engineered stable infrastructure</td><td>Re-contextualized upward-trending workforce</td><td>O</td><td>42.81</td><td>63.68</td><td>74</td><td>181</td><td>Alfreda Rolf</td><td>792-183-8502</td><td>Kovacek-McLaughlin</td><td>901932</td><td>4/7/2038</td><td>A5481</td><td>00P003Z</td><td>Alfreda Rolf</td><td>8/5/2022</td><td>A5481</td><td>Gonococcal meningitis</td></tr><tr><td>ApAl548028460</td><td>Allys</td><td>Dri</td><td>2/15/1981</td><td>Female</td><td>adril9@webs.com</td><td>557-232-1602</td><td>3988 Caliangt Court</td><td>Djohong</td><td>Apple</td><td>Sharable client-driven encoding</td><td>Function-based intangible frame</td><td>Organized bandwidth-monitored Graphic Interface</td><td>B</td><td>22.47</td><td>285.35</td><td>142</td><td>55</td><td>Allys Dri</td><td>177-841-6467</td><td>Friesen Inc</td><td>748725</td><td>12/30/2035</td><td>H21553</td><td>B039ZZZ</td><td>Allys Dri</td><td>4/23/2007</td><td>H21553</td><td>Recession of chamber angle, bilateral</td></tr><tr><td>ApAl893411558</td><td>Alistair</td><td>Plampeyn</td><td>5/19/1930</td><td>Male</td><td>aplampeynai@arizona.edu</td><td>597-195-1810</td><td>1786 Northfield Place</td><td>Végueta</td><td>Apple</td><td>Organic asynchronous challenge</td><td>Adaptive fault-tolerant local area network</td><td>Self-enabling methodical portal</td><td>O</td><td>44.53</td><td>213.04</td><td>56</td><td>188</td><td>Alistair Plampeyn</td><td>402-701-8253</td><td>Skiles-Sanford</td><td>297096</td><td>5/18/2046</td><td>C84A5</td><td>06SQ0ZZ</td><td>Alistair Plampeyn</td><td>11/23/2013</td><td>C84A5</td><td>Cutaneous T-cell lymphoma, unspecified, lymph nodes of inguinal region and lower limb</td></tr></tbody></table></div>"
      ]
     },
     "metadata": {
      "application/vnd.databricks.v1+output": {
       "addedWidgets": {},
       "aggData": [],
       "aggError": "",
       "aggOverflow": false,
       "aggSchema": [],
       "aggSeriesLimitReached": false,
       "aggType": "",
       "arguments": {},
       "columnCustomDisplayInfos": {},
       "data": [
        [
         "ApAb315922251",
         "Abelard",
         "Yegorkin",
         "7/31/1939",
         "Non-binary",
         "ayegorkin44@redcross.org",
         "909-489-4526",
         "37 Delaware Center",
         "Menongue",
         "Apple",
         "Managed intermediate product",
         "Monitored non-volatile framework",
         "Team-oriented 24/7 capacity",
         "A",
         "22.31",
         "315.11",
         "89",
         "118",
         "Abelard Yegorkin",
         "354-913-8111",
         "Kuvalis, Gerlach and Mills",
         "644738",
         "6/24/2033",
         "A378",
         "0F150Z9",
         "Abelard Yegorkin",
         "11/30/2006",
         "A378",
         "Whooping cough due to other Bordetella species"
        ],
        [
         "ApAb504391274",
         "Abigale",
         "Popland",
         "6/25/1977",
         "Female",
         "apoplandat@google.cn",
         "490-236-7183",
         "2 Oakridge Park",
         "Stęszew",
         "Apple",
         "Virtual explicit encoding",
         "User-centric tertiary contingency",
         "Virtual reciprocal matrix",
         "O",
         "91.5",
         "325.13",
         "53",
         "138",
         "Abigale Popland",
         "141-136-0623",
         "Lesch, Greenfelder and Lakin",
         "435017",
         "7/22/2046",
         "S2591XD",
         "0MQ64ZZ",
         "Abigale Popland",
         "3/31/2005",
         "S2591XD",
         "Laceration of unspecified blood vessel of thorax, subsequent encounter"
        ],
        [
         "ApAd639216428",
         "Adolf",
         "Gyver",
         "10/28/1980",
         "Male",
         "agyver91@sourceforge.net",
         "635-328-9277",
         "57082 South Circle",
         "Chavão",
         "Apple",
         "Quality-focused dynamic implementation",
         "Open-architected discrete knowledge user",
         "Intuitive neutral superstructure",
         "A",
         "5.58",
         "46.09",
         "162",
         "105",
         "Adolf Gyver",
         "529-707-4967",
         "Osinski LLC",
         "726995",
         "6/30/2035",
         "Q7240",
         "0Q9L0ZZ",
         "Adolf Gyver",
         "10/28/2015",
         "Q7240",
         "Longitudinal reduction defect of unspecified femur"
        ],
        [
         "ApAg300549833",
         "Aggi",
         "Shoebotham",
         "11/29/1966",
         "Female",
         "ashoebothamfp@etsy.com",
         "566-658-7860",
         "4671 Hintze Terrace",
         "Norrköping",
         "Apple",
         "Advanced content-based productivity",
         "Organic static success",
         "Function-based local application",
         "AB",
         "29.34",
         "156.47",
         "94",
         "199",
         "Aggi Shoebotham",
         "400-237-8367",
         "Schmidt-Kuphal",
         "870897",
         "6/19/2029",
         "I70703",
         "0SWL38Z",
         "Aggi Shoebotham",
         "4/8/2005",
         "I70703",
         "Unspecified atherosclerosis of other type of bypass graft(s) of the extremities, bilateral legs"
        ],
        [
         "ApAj677713792",
         "Ajay",
         "Feares",
         "1/30/1905",
         "Female",
         "afearesqw@bloglines.com",
         "555-516-4418",
         "16019 Rigney Way",
         "Yong’an",
         "Apple",
         "Distributed coherent software",
         "Reactive next generation product",
         "Focused encompassing array",
         "A",
         "46.43",
         "211.27",
         "122",
         "175",
         "Ajay Feares",
         "602-196-2839",
         "Corwin Inc",
         "255481",
         "1/11/2031",
         "S52692A",
         "03V30ZZ",
         "Ajay Feares",
         "4/18/2000",
         "S52692A",
         "Other fracture of lower end of left ulna, initial encounter for closed fracture"
        ],
        [
         "ApAl211380839",
         "Alon",
         "Thornally",
         "1/26/1977",
         "Male",
         "athornallyh2@boston.com",
         "295-927-2710",
         "5683 Corry Circle",
         "Abelheira",
         "Apple",
         "User-centric empowering forecast",
         "Networked responsive core",
         "Managed non-volatile matrix",
         "A",
         "26.85",
         "245.72",
         "182",
         "144",
         "Alon Thornally",
         "605-664-0522",
         "Lynch-Rice",
         "194338",
         "11/13/2029",
         "T63482D",
         "0Q9R30Z",
         "Alon Thornally",
         "10/18/2014",
         "T63482D",
         "Toxic effect of venom of other arthropod, intentional self-harm, subsequent encounter"
        ],
        [
         "ApAl379415659",
         "Alena",
         "Brason",
         "1/7/1911",
         "Female",
         "abrasongy@amazon.co.uk",
         "508-832-9106",
         "25 Hayes Way",
         "Gesikan",
         "Apple",
         "Function-based systemic website",
         "Synchronised executive support",
         "Digitized optimal website",
         "B",
         "85.04",
         "76.97",
         "146",
         "140",
         "Alena Brason",
         "332-389-1962",
         "Ritchie and Sons",
         "164682",
         "11/16/2024",
         "Y0702",
         "021649P",
         "Alena Brason",
         "3/18/2020",
         "Y0702",
         "Wife, perpetrator of maltreatment and neglect"
        ],
        [
         "ApAl426267215",
         "Alfreda",
         "Rolf",
         "12/17/1928",
         "Female",
         "arolf1s@parallels.com",
         "355-242-6585",
         "385 Di Loreto Alley",
         "Dolní Cerekev",
         "Apple",
         "Persistent optimal benchmark",
         "De-engineered stable infrastructure",
         "Re-contextualized upward-trending workforce",
         "O",
         "42.81",
         "63.68",
         "74",
         "181",
         "Alfreda Rolf",
         "792-183-8502",
         "Kovacek-McLaughlin",
         "901932",
         "4/7/2038",
         "A5481",
         "00P003Z",
         "Alfreda Rolf",
         "8/5/2022",
         "A5481",
         "Gonococcal meningitis"
        ],
        [
         "ApAl548028460",
         "Allys",
         "Dri",
         "2/15/1981",
         "Female",
         "adril9@webs.com",
         "557-232-1602",
         "3988 Caliangt Court",
         "Djohong",
         "Apple",
         "Sharable client-driven encoding",
         "Function-based intangible frame",
         "Organized bandwidth-monitored Graphic Interface",
         "B",
         "22.47",
         "285.35",
         "142",
         "55",
         "Allys Dri",
         "177-841-6467",
         "Friesen Inc",
         "748725",
         "12/30/2035",
         "H21553",
         "B039ZZZ",
         "Allys Dri",
         "4/23/2007",
         "H21553",
         "Recession of chamber angle, bilateral"
        ],
        [
         "ApAl893411558",
         "Alistair",
         "Plampeyn",
         "5/19/1930",
         "Male",
         "aplampeynai@arizona.edu",
         "597-195-1810",
         "1786 Northfield Place",
         "Végueta",
         "Apple",
         "Organic asynchronous challenge",
         "Adaptive fault-tolerant local area network",
         "Self-enabling methodical portal",
         "O",
         "44.53",
         "213.04",
         "56",
         "188",
         "Alistair Plampeyn",
         "402-701-8253",
         "Skiles-Sanford",
         "297096",
         "5/18/2046",
         "C84A5",
         "06SQ0ZZ",
         "Alistair Plampeyn",
         "11/23/2013",
         "C84A5",
         "Cutaneous T-cell lymphoma, unspecified, lymph nodes of inguinal region and lower limb"
        ]
       ],
       "datasetInfos": [],
       "dbfsResultPath": null,
       "isJsonSchema": true,
       "metadata": {},
       "overflow": false,
       "plotOptions": {
        "customPlotOptions": {},
        "displayType": "table",
        "pivotAggregation": null,
        "pivotColumns": null,
        "xColumns": null,
        "yColumns": null
       },
       "removedWidgets": [],
       "schema": [
        {
         "metadata": "{}",
         "name": "Member_id",
         "type": "\"string\""
        },
        {
         "metadata": "{}",
         "name": "first_name",
         "type": "\"string\""
        },
        {
         "metadata": "{}",
         "name": "last_name",
         "type": "\"string\""
        },
        {
         "metadata": "{}",
         "name": "date_of_birth",
         "type": "\"string\""
        },
        {
         "metadata": "{}",
         "name": "gender",
         "type": "\"string\""
        },
        {
         "metadata": "{}",
         "name": "email",
         "type": "\"string\""
        },
        {
         "metadata": "{}",
         "name": "phone_number",
         "type": "\"string\""
        },
        {
         "metadata": "{}",
         "name": "address",
         "type": "\"string\""
        },
        {
         "metadata": "{}",
         "name": "city",
         "type": "\"string\""
        },
        {
         "metadata": "{}",
         "name": "Company",
         "type": "\"string\""
        },
        {
         "metadata": "{}",
         "name": "medical_condition",
         "type": "\"string\""
        },
        {
         "metadata": "{}",
         "name": "allergies",
         "type": "\"string\""
        },
        {
         "metadata": "{}",
         "name": "medications",
         "type": "\"string\""
        },
        {
         "metadata": "{}",
         "name": "blood_type",
         "type": "\"string\""
        },
        {
         "metadata": "{}",
         "name": "height",
         "type": "\"string\""
        },
        {
         "metadata": "{}",
         "name": "weight",
         "type": "\"string\""
        },
        {
         "metadata": "{}",
         "name": "blood_pressure",
         "type": "\"string\""
        },
        {
         "metadata": "{}",
         "name": "heart_rate",
         "type": "\"string\""
        },
        {
         "metadata": "{}",
         "name": "emergency_contact_name",
         "type": "\"string\""
        },
        {
         "metadata": "{}",
         "name": "emergency_contact_phone",
         "type": "\"string\""
        },
        {
         "metadata": "{}",
         "name": "insurance_provider",
         "type": "\"string\""
        },
        {
         "metadata": "{}",
         "name": "insurance_policy_number",
         "type": "\"string\""
        },
        {
         "metadata": "{}",
         "name": "insurance_expiration_date",
         "type": "\"string\""
        },
        {
         "metadata": "{}",
         "name": "Diagnosis_code",
         "type": "\"string\""
        },
        {
         "metadata": "{}",
         "name": "Procedure_code",
         "type": "\"string\""
        },
        {
         "metadata": "{}",
         "name": "primary_care_physician",
         "type": "\"string\""
        },
        {
         "metadata": "{}",
         "name": "last_visit_date",
         "type": "\"string\""
        },
        {
         "metadata": "{}",
         "name": "Diagnosis_code",
         "type": "\"string\""
        },
        {
         "metadata": "{}",
         "name": "Diagnosis_description",
         "type": "\"string\""
        }
       ],
       "type": "table"
      }
     },
     "output_type": "display_data"
    }
   ],
   "source": [
    "members_health_emergency_medical_diagnosis = members_health_emergency_medical.join(diagnosis_df, members_health_emergency_medical.Diagnosis_code == diagnosis_df.Diagnosis_code, 'inner')\n",
    "display(members_health_emergency_medical_diagnosis.limit(10))"
   ]
  },
  {
   "cell_type": "code",
   "execution_count": 0,
   "metadata": {
    "application/vnd.databricks.v1+cell": {
     "cellMetadata": {
      "byteLimit": 2048000,
      "rowLimit": 10000
     },
     "inputWidgets": {},
     "nuid": "109dc540-ed07-4b37-91d5-1b543119122b",
     "showTitle": false,
     "tableResultSettingsMap": {},
     "title": ""
    }
   },
   "outputs": [],
   "source": [
    "members_health_emergency_medical_diagnosis = members_health_emergency_medical_diagnosis.drop(diagnosis_df.Diagnosis_code)"
   ]
  },
  {
   "cell_type": "code",
   "execution_count": 0,
   "metadata": {
    "application/vnd.databricks.v1+cell": {
     "cellMetadata": {
      "byteLimit": 2048000,
      "rowLimit": 10000
     },
     "inputWidgets": {},
     "nuid": "fd26ab36-dee1-4a0b-a7e3-d54e6fbb0a0e",
     "showTitle": false,
     "tableResultSettingsMap": {},
     "title": ""
    }
   },
   "outputs": [
    {
     "output_type": "display_data",
     "data": {
      "text/html": [
       "<style scoped>\n",
       "  .table-result-container {\n",
       "    max-height: 300px;\n",
       "    overflow: auto;\n",
       "  }\n",
       "  table, th, td {\n",
       "    border: 1px solid black;\n",
       "    border-collapse: collapse;\n",
       "  }\n",
       "  th, td {\n",
       "    padding: 5px;\n",
       "  }\n",
       "  th {\n",
       "    text-align: left;\n",
       "  }\n",
       "</style><div class='table-result-container'><table class='table-result'><thead style='background-color: white'><tr><th>Member_id</th><th>first_name</th><th>last_name</th><th>date_of_birth</th><th>gender</th><th>email</th><th>phone_number</th><th>address</th><th>city</th><th>Company</th><th>medical_condition</th><th>allergies</th><th>medications</th><th>blood_type</th><th>height</th><th>weight</th><th>blood_pressure</th><th>heart_rate</th><th>emergency_contact_name</th><th>emergency_contact_phone</th><th>insurance_provider</th><th>insurance_policy_number</th><th>insurance_expiration_date</th><th>Diagnosis_code</th><th>Procedure_code</th><th>primary_care_physician</th><th>last_visit_date</th><th>Diagnosis_description</th><th>Procedure_code</th><th>Procedure_description</th></tr></thead><tbody><tr><td>ApAb315922251</td><td>Abelard</td><td>Yegorkin</td><td>7/31/1939</td><td>Non-binary</td><td>ayegorkin44@redcross.org</td><td>909-489-4526</td><td>37 Delaware Center</td><td>Menongue</td><td>Apple</td><td>Managed intermediate product</td><td>Monitored non-volatile framework</td><td>Team-oriented 24/7 capacity</td><td>A</td><td>22.31</td><td>315.11</td><td>89</td><td>118</td><td>Abelard Yegorkin</td><td>354-913-8111</td><td>Kuvalis, Gerlach and Mills</td><td>644738</td><td>6/24/2033</td><td>A378</td><td>0F150Z9</td><td>Abelard Yegorkin</td><td>11/30/2006</td><td>Whooping cough due to other Bordetella species</td><td>0F150Z9</td><td>Bypass Right Hepatic Duct to Common Bile Duct, Open Approach</td></tr><tr><td>ApAb504391274</td><td>Abigale</td><td>Popland</td><td>6/25/1977</td><td>Female</td><td>apoplandat@google.cn</td><td>490-236-7183</td><td>2 Oakridge Park</td><td>Stęszew</td><td>Apple</td><td>Virtual explicit encoding</td><td>User-centric tertiary contingency</td><td>Virtual reciprocal matrix</td><td>O</td><td>91.5</td><td>325.13</td><td>53</td><td>138</td><td>Abigale Popland</td><td>141-136-0623</td><td>Lesch, Greenfelder and Lakin</td><td>435017</td><td>7/22/2046</td><td>S2591XD</td><td>0MQ64ZZ</td><td>Abigale Popland</td><td>3/31/2005</td><td>Laceration of unspecified blood vessel of thorax, subsequent encounter</td><td>0MQ64ZZ</td><td>Repair Left Wrist Bursa and Ligament, Percutaneous Endoscopic Approach</td></tr><tr><td>ApAd639216428</td><td>Adolf</td><td>Gyver</td><td>10/28/1980</td><td>Male</td><td>agyver91@sourceforge.net</td><td>635-328-9277</td><td>57082 South Circle</td><td>Chavão</td><td>Apple</td><td>Quality-focused dynamic implementation</td><td>Open-architected discrete knowledge user</td><td>Intuitive neutral superstructure</td><td>A</td><td>5.58</td><td>46.09</td><td>162</td><td>105</td><td>Adolf Gyver</td><td>529-707-4967</td><td>Osinski LLC</td><td>726995</td><td>6/30/2035</td><td>Q7240</td><td>0Q9L0ZZ</td><td>Adolf Gyver</td><td>10/28/2015</td><td>Longitudinal reduction defect of unspecified femur</td><td>0Q9L0ZZ</td><td>Drainage of Right Tarsal, Open Approach</td></tr><tr><td>ApAg300549833</td><td>Aggi</td><td>Shoebotham</td><td>11/29/1966</td><td>Female</td><td>ashoebothamfp@etsy.com</td><td>566-658-7860</td><td>4671 Hintze Terrace</td><td>Norrköping</td><td>Apple</td><td>Advanced content-based productivity</td><td>Organic static success</td><td>Function-based local application</td><td>AB</td><td>29.34</td><td>156.47</td><td>94</td><td>199</td><td>Aggi Shoebotham</td><td>400-237-8367</td><td>Schmidt-Kuphal</td><td>870897</td><td>6/19/2029</td><td>I70703</td><td>0SWL38Z</td><td>Aggi Shoebotham</td><td>4/8/2005</td><td>Unspecified atherosclerosis of other type of bypass graft(s) of the extremities, bilateral legs</td><td>0SWL38Z</td><td>Revision of Spacer in Left Metatarsal-Tarsal Joint, Percutaneous Approach</td></tr><tr><td>ApAj677713792</td><td>Ajay</td><td>Feares</td><td>1/30/1905</td><td>Female</td><td>afearesqw@bloglines.com</td><td>555-516-4418</td><td>16019 Rigney Way</td><td>Yong’an</td><td>Apple</td><td>Distributed coherent software</td><td>Reactive next generation product</td><td>Focused encompassing array</td><td>A</td><td>46.43</td><td>211.27</td><td>122</td><td>175</td><td>Ajay Feares</td><td>602-196-2839</td><td>Corwin Inc</td><td>255481</td><td>1/11/2031</td><td>S52692A</td><td>03V30ZZ</td><td>Ajay Feares</td><td>4/18/2000</td><td>Other fracture of lower end of left ulna, initial encounter for closed fracture</td><td>03V30ZZ</td><td>Restriction of Right Subclavian Artery, Open Approach</td></tr><tr><td>ApAl211380839</td><td>Alon</td><td>Thornally</td><td>1/26/1977</td><td>Male</td><td>athornallyh2@boston.com</td><td>295-927-2710</td><td>5683 Corry Circle</td><td>Abelheira</td><td>Apple</td><td>User-centric empowering forecast</td><td>Networked responsive core</td><td>Managed non-volatile matrix</td><td>A</td><td>26.85</td><td>245.72</td><td>182</td><td>144</td><td>Alon Thornally</td><td>605-664-0522</td><td>Lynch-Rice</td><td>194338</td><td>11/13/2029</td><td>T63482D</td><td>0Q9R30Z</td><td>Alon Thornally</td><td>10/18/2014</td><td>Toxic effect of venom of other arthropod, intentional self-harm, subsequent encounter</td><td>0Q9R30Z</td><td>Drainage of Left Toe Phalanx with Drainage Device, Percutaneous Approach</td></tr><tr><td>ApAl379415659</td><td>Alena</td><td>Brason</td><td>1/7/1911</td><td>Female</td><td>abrasongy@amazon.co.uk</td><td>508-832-9106</td><td>25 Hayes Way</td><td>Gesikan</td><td>Apple</td><td>Function-based systemic website</td><td>Synchronised executive support</td><td>Digitized optimal website</td><td>B</td><td>85.04</td><td>76.97</td><td>146</td><td>140</td><td>Alena Brason</td><td>332-389-1962</td><td>Ritchie and Sons</td><td>164682</td><td>11/16/2024</td><td>Y0702</td><td>021649P</td><td>Alena Brason</td><td>3/18/2020</td><td>Wife, perpetrator of maltreatment and neglect</td><td>021649P</td><td>Bypass Right Atrium to Pulmonary Trunk with Autologous Venous Tissue, Percutaneous Endoscopic Approach</td></tr><tr><td>ApAl426267215</td><td>Alfreda</td><td>Rolf</td><td>12/17/1928</td><td>Female</td><td>arolf1s@parallels.com</td><td>355-242-6585</td><td>385 Di Loreto Alley</td><td>Dolní Cerekev</td><td>Apple</td><td>Persistent optimal benchmark</td><td>De-engineered stable infrastructure</td><td>Re-contextualized upward-trending workforce</td><td>O</td><td>42.81</td><td>63.68</td><td>74</td><td>181</td><td>Alfreda Rolf</td><td>792-183-8502</td><td>Kovacek-McLaughlin</td><td>901932</td><td>4/7/2038</td><td>A5481</td><td>00P003Z</td><td>Alfreda Rolf</td><td>8/5/2022</td><td>Gonococcal meningitis</td><td>00P003Z</td><td>Removal of Infusion Device from Brain, Open Approach</td></tr><tr><td>ApAl548028460</td><td>Allys</td><td>Dri</td><td>2/15/1981</td><td>Female</td><td>adril9@webs.com</td><td>557-232-1602</td><td>3988 Caliangt Court</td><td>Djohong</td><td>Apple</td><td>Sharable client-driven encoding</td><td>Function-based intangible frame</td><td>Organized bandwidth-monitored Graphic Interface</td><td>B</td><td>22.47</td><td>285.35</td><td>142</td><td>55</td><td>Allys Dri</td><td>177-841-6467</td><td>Friesen Inc</td><td>748725</td><td>12/30/2035</td><td>H21553</td><td>B039ZZZ</td><td>Allys Dri</td><td>4/23/2007</td><td>Recession of chamber angle, bilateral</td><td>B039ZZZ</td><td>Magnetic Resonance Imaging (MRI) of Sella Turcica/Pituitary Gland</td></tr><tr><td>ApAl893411558</td><td>Alistair</td><td>Plampeyn</td><td>5/19/1930</td><td>Male</td><td>aplampeynai@arizona.edu</td><td>597-195-1810</td><td>1786 Northfield Place</td><td>Végueta</td><td>Apple</td><td>Organic asynchronous challenge</td><td>Adaptive fault-tolerant local area network</td><td>Self-enabling methodical portal</td><td>O</td><td>44.53</td><td>213.04</td><td>56</td><td>188</td><td>Alistair Plampeyn</td><td>402-701-8253</td><td>Skiles-Sanford</td><td>297096</td><td>5/18/2046</td><td>C84A5</td><td>06SQ0ZZ</td><td>Alistair Plampeyn</td><td>11/23/2013</td><td>Cutaneous T-cell lymphoma, unspecified, lymph nodes of inguinal region and lower limb</td><td>06SQ0ZZ</td><td>Reposition Left Greater Saphenous Vein, Open Approach</td></tr></tbody></table></div>"
      ]
     },
     "metadata": {
      "application/vnd.databricks.v1+output": {
       "addedWidgets": {},
       "aggData": [],
       "aggError": "",
       "aggOverflow": false,
       "aggSchema": [],
       "aggSeriesLimitReached": false,
       "aggType": "",
       "arguments": {},
       "columnCustomDisplayInfos": {},
       "data": [
        [
         "ApAb315922251",
         "Abelard",
         "Yegorkin",
         "7/31/1939",
         "Non-binary",
         "ayegorkin44@redcross.org",
         "909-489-4526",
         "37 Delaware Center",
         "Menongue",
         "Apple",
         "Managed intermediate product",
         "Monitored non-volatile framework",
         "Team-oriented 24/7 capacity",
         "A",
         "22.31",
         "315.11",
         "89",
         "118",
         "Abelard Yegorkin",
         "354-913-8111",
         "Kuvalis, Gerlach and Mills",
         "644738",
         "6/24/2033",
         "A378",
         "0F150Z9",
         "Abelard Yegorkin",
         "11/30/2006",
         "Whooping cough due to other Bordetella species",
         "0F150Z9",
         "Bypass Right Hepatic Duct to Common Bile Duct, Open Approach"
        ],
        [
         "ApAb504391274",
         "Abigale",
         "Popland",
         "6/25/1977",
         "Female",
         "apoplandat@google.cn",
         "490-236-7183",
         "2 Oakridge Park",
         "Stęszew",
         "Apple",
         "Virtual explicit encoding",
         "User-centric tertiary contingency",
         "Virtual reciprocal matrix",
         "O",
         "91.5",
         "325.13",
         "53",
         "138",
         "Abigale Popland",
         "141-136-0623",
         "Lesch, Greenfelder and Lakin",
         "435017",
         "7/22/2046",
         "S2591XD",
         "0MQ64ZZ",
         "Abigale Popland",
         "3/31/2005",
         "Laceration of unspecified blood vessel of thorax, subsequent encounter",
         "0MQ64ZZ",
         "Repair Left Wrist Bursa and Ligament, Percutaneous Endoscopic Approach"
        ],
        [
         "ApAd639216428",
         "Adolf",
         "Gyver",
         "10/28/1980",
         "Male",
         "agyver91@sourceforge.net",
         "635-328-9277",
         "57082 South Circle",
         "Chavão",
         "Apple",
         "Quality-focused dynamic implementation",
         "Open-architected discrete knowledge user",
         "Intuitive neutral superstructure",
         "A",
         "5.58",
         "46.09",
         "162",
         "105",
         "Adolf Gyver",
         "529-707-4967",
         "Osinski LLC",
         "726995",
         "6/30/2035",
         "Q7240",
         "0Q9L0ZZ",
         "Adolf Gyver",
         "10/28/2015",
         "Longitudinal reduction defect of unspecified femur",
         "0Q9L0ZZ",
         "Drainage of Right Tarsal, Open Approach"
        ],
        [
         "ApAg300549833",
         "Aggi",
         "Shoebotham",
         "11/29/1966",
         "Female",
         "ashoebothamfp@etsy.com",
         "566-658-7860",
         "4671 Hintze Terrace",
         "Norrköping",
         "Apple",
         "Advanced content-based productivity",
         "Organic static success",
         "Function-based local application",
         "AB",
         "29.34",
         "156.47",
         "94",
         "199",
         "Aggi Shoebotham",
         "400-237-8367",
         "Schmidt-Kuphal",
         "870897",
         "6/19/2029",
         "I70703",
         "0SWL38Z",
         "Aggi Shoebotham",
         "4/8/2005",
         "Unspecified atherosclerosis of other type of bypass graft(s) of the extremities, bilateral legs",
         "0SWL38Z",
         "Revision of Spacer in Left Metatarsal-Tarsal Joint, Percutaneous Approach"
        ],
        [
         "ApAj677713792",
         "Ajay",
         "Feares",
         "1/30/1905",
         "Female",
         "afearesqw@bloglines.com",
         "555-516-4418",
         "16019 Rigney Way",
         "Yong’an",
         "Apple",
         "Distributed coherent software",
         "Reactive next generation product",
         "Focused encompassing array",
         "A",
         "46.43",
         "211.27",
         "122",
         "175",
         "Ajay Feares",
         "602-196-2839",
         "Corwin Inc",
         "255481",
         "1/11/2031",
         "S52692A",
         "03V30ZZ",
         "Ajay Feares",
         "4/18/2000",
         "Other fracture of lower end of left ulna, initial encounter for closed fracture",
         "03V30ZZ",
         "Restriction of Right Subclavian Artery, Open Approach"
        ],
        [
         "ApAl211380839",
         "Alon",
         "Thornally",
         "1/26/1977",
         "Male",
         "athornallyh2@boston.com",
         "295-927-2710",
         "5683 Corry Circle",
         "Abelheira",
         "Apple",
         "User-centric empowering forecast",
         "Networked responsive core",
         "Managed non-volatile matrix",
         "A",
         "26.85",
         "245.72",
         "182",
         "144",
         "Alon Thornally",
         "605-664-0522",
         "Lynch-Rice",
         "194338",
         "11/13/2029",
         "T63482D",
         "0Q9R30Z",
         "Alon Thornally",
         "10/18/2014",
         "Toxic effect of venom of other arthropod, intentional self-harm, subsequent encounter",
         "0Q9R30Z",
         "Drainage of Left Toe Phalanx with Drainage Device, Percutaneous Approach"
        ],
        [
         "ApAl379415659",
         "Alena",
         "Brason",
         "1/7/1911",
         "Female",
         "abrasongy@amazon.co.uk",
         "508-832-9106",
         "25 Hayes Way",
         "Gesikan",
         "Apple",
         "Function-based systemic website",
         "Synchronised executive support",
         "Digitized optimal website",
         "B",
         "85.04",
         "76.97",
         "146",
         "140",
         "Alena Brason",
         "332-389-1962",
         "Ritchie and Sons",
         "164682",
         "11/16/2024",
         "Y0702",
         "021649P",
         "Alena Brason",
         "3/18/2020",
         "Wife, perpetrator of maltreatment and neglect",
         "021649P",
         "Bypass Right Atrium to Pulmonary Trunk with Autologous Venous Tissue, Percutaneous Endoscopic Approach"
        ],
        [
         "ApAl426267215",
         "Alfreda",
         "Rolf",
         "12/17/1928",
         "Female",
         "arolf1s@parallels.com",
         "355-242-6585",
         "385 Di Loreto Alley",
         "Dolní Cerekev",
         "Apple",
         "Persistent optimal benchmark",
         "De-engineered stable infrastructure",
         "Re-contextualized upward-trending workforce",
         "O",
         "42.81",
         "63.68",
         "74",
         "181",
         "Alfreda Rolf",
         "792-183-8502",
         "Kovacek-McLaughlin",
         "901932",
         "4/7/2038",
         "A5481",
         "00P003Z",
         "Alfreda Rolf",
         "8/5/2022",
         "Gonococcal meningitis",
         "00P003Z",
         "Removal of Infusion Device from Brain, Open Approach"
        ],
        [
         "ApAl548028460",
         "Allys",
         "Dri",
         "2/15/1981",
         "Female",
         "adril9@webs.com",
         "557-232-1602",
         "3988 Caliangt Court",
         "Djohong",
         "Apple",
         "Sharable client-driven encoding",
         "Function-based intangible frame",
         "Organized bandwidth-monitored Graphic Interface",
         "B",
         "22.47",
         "285.35",
         "142",
         "55",
         "Allys Dri",
         "177-841-6467",
         "Friesen Inc",
         "748725",
         "12/30/2035",
         "H21553",
         "B039ZZZ",
         "Allys Dri",
         "4/23/2007",
         "Recession of chamber angle, bilateral",
         "B039ZZZ",
         "Magnetic Resonance Imaging (MRI) of Sella Turcica/Pituitary Gland"
        ],
        [
         "ApAl893411558",
         "Alistair",
         "Plampeyn",
         "5/19/1930",
         "Male",
         "aplampeynai@arizona.edu",
         "597-195-1810",
         "1786 Northfield Place",
         "Végueta",
         "Apple",
         "Organic asynchronous challenge",
         "Adaptive fault-tolerant local area network",
         "Self-enabling methodical portal",
         "O",
         "44.53",
         "213.04",
         "56",
         "188",
         "Alistair Plampeyn",
         "402-701-8253",
         "Skiles-Sanford",
         "297096",
         "5/18/2046",
         "C84A5",
         "06SQ0ZZ",
         "Alistair Plampeyn",
         "11/23/2013",
         "Cutaneous T-cell lymphoma, unspecified, lymph nodes of inguinal region and lower limb",
         "06SQ0ZZ",
         "Reposition Left Greater Saphenous Vein, Open Approach"
        ]
       ],
       "datasetInfos": [],
       "dbfsResultPath": null,
       "isJsonSchema": true,
       "metadata": {},
       "overflow": false,
       "plotOptions": {
        "customPlotOptions": {},
        "displayType": "table",
        "pivotAggregation": null,
        "pivotColumns": null,
        "xColumns": null,
        "yColumns": null
       },
       "removedWidgets": [],
       "schema": [
        {
         "metadata": "{}",
         "name": "Member_id",
         "type": "\"string\""
        },
        {
         "metadata": "{}",
         "name": "first_name",
         "type": "\"string\""
        },
        {
         "metadata": "{}",
         "name": "last_name",
         "type": "\"string\""
        },
        {
         "metadata": "{}",
         "name": "date_of_birth",
         "type": "\"string\""
        },
        {
         "metadata": "{}",
         "name": "gender",
         "type": "\"string\""
        },
        {
         "metadata": "{}",
         "name": "email",
         "type": "\"string\""
        },
        {
         "metadata": "{}",
         "name": "phone_number",
         "type": "\"string\""
        },
        {
         "metadata": "{}",
         "name": "address",
         "type": "\"string\""
        },
        {
         "metadata": "{}",
         "name": "city",
         "type": "\"string\""
        },
        {
         "metadata": "{}",
         "name": "Company",
         "type": "\"string\""
        },
        {
         "metadata": "{}",
         "name": "medical_condition",
         "type": "\"string\""
        },
        {
         "metadata": "{}",
         "name": "allergies",
         "type": "\"string\""
        },
        {
         "metadata": "{}",
         "name": "medications",
         "type": "\"string\""
        },
        {
         "metadata": "{}",
         "name": "blood_type",
         "type": "\"string\""
        },
        {
         "metadata": "{}",
         "name": "height",
         "type": "\"string\""
        },
        {
         "metadata": "{}",
         "name": "weight",
         "type": "\"string\""
        },
        {
         "metadata": "{}",
         "name": "blood_pressure",
         "type": "\"string\""
        },
        {
         "metadata": "{}",
         "name": "heart_rate",
         "type": "\"string\""
        },
        {
         "metadata": "{}",
         "name": "emergency_contact_name",
         "type": "\"string\""
        },
        {
         "metadata": "{}",
         "name": "emergency_contact_phone",
         "type": "\"string\""
        },
        {
         "metadata": "{}",
         "name": "insurance_provider",
         "type": "\"string\""
        },
        {
         "metadata": "{}",
         "name": "insurance_policy_number",
         "type": "\"string\""
        },
        {
         "metadata": "{}",
         "name": "insurance_expiration_date",
         "type": "\"string\""
        },
        {
         "metadata": "{}",
         "name": "Diagnosis_code",
         "type": "\"string\""
        },
        {
         "metadata": "{}",
         "name": "Procedure_code",
         "type": "\"string\""
        },
        {
         "metadata": "{}",
         "name": "primary_care_physician",
         "type": "\"string\""
        },
        {
         "metadata": "{}",
         "name": "last_visit_date",
         "type": "\"string\""
        },
        {
         "metadata": "{}",
         "name": "Diagnosis_description",
         "type": "\"string\""
        },
        {
         "metadata": "{}",
         "name": "Procedure_code",
         "type": "\"string\""
        },
        {
         "metadata": "{}",
         "name": "Procedure_description",
         "type": "\"string\""
        }
       ],
       "type": "table"
      }
     },
     "output_type": "display_data"
    }
   ],
   "source": [
    "final_join = members_health_emergency_medical_diagnosis.join(procedure_df, members_health_emergency_medical_diagnosis.Procedure_code == procedure_df.Procedure_code,'inner')\n",
    "display(final_join.limit(10))"
   ]
  },
  {
   "cell_type": "code",
   "execution_count": 0,
   "metadata": {
    "application/vnd.databricks.v1+cell": {
     "cellMetadata": {
      "byteLimit": 2048000,
      "rowLimit": 10000
     },
     "inputWidgets": {},
     "nuid": "4781cd12-5d1a-4beb-9e3a-067ddc074085",
     "showTitle": false,
     "tableResultSettingsMap": {},
     "title": ""
    }
   },
   "outputs": [],
   "source": [
    "final_join = final_join.drop(procedure_df.Procedure_code)"
   ]
  },
  {
   "cell_type": "code",
   "execution_count": 0,
   "metadata": {
    "application/vnd.databricks.v1+cell": {
     "cellMetadata": {
      "byteLimit": 2048000,
      "rowLimit": 10000
     },
     "inputWidgets": {},
     "nuid": "a31e80ea-597c-4b84-93dc-14b25b99134c",
     "showTitle": false,
     "tableResultSettingsMap": {},
     "title": ""
    }
   },
   "outputs": [
    {
     "output_type": "display_data",
     "data": {
      "text/html": [
       "<style scoped>\n",
       "  .table-result-container {\n",
       "    max-height: 300px;\n",
       "    overflow: auto;\n",
       "  }\n",
       "  table, th, td {\n",
       "    border: 1px solid black;\n",
       "    border-collapse: collapse;\n",
       "  }\n",
       "  th, td {\n",
       "    padding: 5px;\n",
       "  }\n",
       "  th {\n",
       "    text-align: left;\n",
       "  }\n",
       "</style><div class='table-result-container'><table class='table-result'><thead style='background-color: white'><tr><th>Member_id</th><th>first_name</th><th>last_name</th><th>date_of_birth</th><th>gender</th><th>email</th><th>phone_number</th><th>address</th><th>city</th><th>Company</th><th>medical_condition</th><th>allergies</th><th>medications</th><th>blood_type</th><th>height</th><th>weight</th><th>blood_pressure</th><th>heart_rate</th><th>emergency_contact_name</th><th>emergency_contact_phone</th><th>insurance_provider</th><th>insurance_policy_number</th><th>insurance_expiration_date</th><th>Diagnosis_code</th><th>Procedure_code</th><th>primary_care_physician</th><th>last_visit_date</th><th>Diagnosis_description</th><th>Procedure_description</th></tr></thead><tbody><tr><td>0</td><td>0</td><td>0</td><td>0</td><td>0</td><td>0</td><td>0</td><td>0</td><td>0</td><td>0</td><td>0</td><td>0</td><td>0</td><td>0</td><td>0</td><td>0</td><td>0</td><td>0</td><td>0</td><td>0</td><td>0</td><td>0</td><td>0</td><td>0</td><td>0</td><td>0</td><td>0</td><td>0</td><td>0</td></tr></tbody></table></div>"
      ]
     },
     "metadata": {
      "application/vnd.databricks.v1+output": {
       "addedWidgets": {},
       "aggData": [],
       "aggError": "",
       "aggOverflow": false,
       "aggSchema": [],
       "aggSeriesLimitReached": false,
       "aggType": "",
       "arguments": {},
       "columnCustomDisplayInfos": {},
       "data": [
        [
         0,
         0,
         0,
         0,
         0,
         0,
         0,
         0,
         0,
         0,
         0,
         0,
         0,
         0,
         0,
         0,
         0,
         0,
         0,
         0,
         0,
         0,
         0,
         0,
         0,
         0,
         0,
         0,
         0
        ]
       ],
       "datasetInfos": [],
       "dbfsResultPath": null,
       "isJsonSchema": true,
       "metadata": {},
       "overflow": false,
       "plotOptions": {
        "customPlotOptions": {},
        "displayType": "table",
        "pivotAggregation": null,
        "pivotColumns": null,
        "xColumns": null,
        "yColumns": null
       },
       "removedWidgets": [],
       "schema": [
        {
         "metadata": "{}",
         "name": "Member_id",
         "type": "\"long\""
        },
        {
         "metadata": "{}",
         "name": "first_name",
         "type": "\"long\""
        },
        {
         "metadata": "{}",
         "name": "last_name",
         "type": "\"long\""
        },
        {
         "metadata": "{}",
         "name": "date_of_birth",
         "type": "\"long\""
        },
        {
         "metadata": "{}",
         "name": "gender",
         "type": "\"long\""
        },
        {
         "metadata": "{}",
         "name": "email",
         "type": "\"long\""
        },
        {
         "metadata": "{}",
         "name": "phone_number",
         "type": "\"long\""
        },
        {
         "metadata": "{}",
         "name": "address",
         "type": "\"long\""
        },
        {
         "metadata": "{}",
         "name": "city",
         "type": "\"long\""
        },
        {
         "metadata": "{}",
         "name": "Company",
         "type": "\"long\""
        },
        {
         "metadata": "{}",
         "name": "medical_condition",
         "type": "\"long\""
        },
        {
         "metadata": "{}",
         "name": "allergies",
         "type": "\"long\""
        },
        {
         "metadata": "{}",
         "name": "medications",
         "type": "\"long\""
        },
        {
         "metadata": "{}",
         "name": "blood_type",
         "type": "\"long\""
        },
        {
         "metadata": "{}",
         "name": "height",
         "type": "\"long\""
        },
        {
         "metadata": "{}",
         "name": "weight",
         "type": "\"long\""
        },
        {
         "metadata": "{}",
         "name": "blood_pressure",
         "type": "\"long\""
        },
        {
         "metadata": "{}",
         "name": "heart_rate",
         "type": "\"long\""
        },
        {
         "metadata": "{}",
         "name": "emergency_contact_name",
         "type": "\"long\""
        },
        {
         "metadata": "{}",
         "name": "emergency_contact_phone",
         "type": "\"long\""
        },
        {
         "metadata": "{}",
         "name": "insurance_provider",
         "type": "\"long\""
        },
        {
         "metadata": "{}",
         "name": "insurance_policy_number",
         "type": "\"long\""
        },
        {
         "metadata": "{}",
         "name": "insurance_expiration_date",
         "type": "\"long\""
        },
        {
         "metadata": "{}",
         "name": "Diagnosis_code",
         "type": "\"long\""
        },
        {
         "metadata": "{}",
         "name": "Procedure_code",
         "type": "\"long\""
        },
        {
         "metadata": "{}",
         "name": "primary_care_physician",
         "type": "\"long\""
        },
        {
         "metadata": "{}",
         "name": "last_visit_date",
         "type": "\"long\""
        },
        {
         "metadata": "{}",
         "name": "Diagnosis_description",
         "type": "\"long\""
        },
        {
         "metadata": "{}",
         "name": "Procedure_description",
         "type": "\"long\""
        }
       ],
       "type": "table"
      }
     },
     "output_type": "display_data"
    }
   ],
   "source": [
    "#Final null check after joining dataframe\n",
    "display(final_join.select([sum((col(c) == 'null').cast('int')).alias(c) for c in final_join.columns]))"
   ]
  },
  {
   "cell_type": "markdown",
   "metadata": {
    "application/vnd.databricks.v1+cell": {
     "cellMetadata": {
      "byteLimit": 2048000,
      "rowLimit": 10000
     },
     "inputWidgets": {},
     "nuid": "86516442-e220-4cd2-9ab9-f0868d6f7337",
     "showTitle": false,
     "tableResultSettingsMap": {},
     "title": ""
    }
   },
   "source": [
    "### Saving Dataframe(DF) into Table"
   ]
  },
  {
   "cell_type": "code",
   "execution_count": 0,
   "metadata": {
    "application/vnd.databricks.v1+cell": {
     "cellMetadata": {
      "byteLimit": 2048000,
      "rowLimit": 10000
     },
     "inputWidgets": {},
     "nuid": "1ea9940c-8ea0-4f8c-aba3-9547b04b649e",
     "showTitle": false,
     "tableResultSettingsMap": {},
     "title": ""
    }
   },
   "outputs": [
    {
     "output_type": "display_data",
     "data": {
      "text/html": [
       "<style scoped>\n",
       "  .table-result-container {\n",
       "    max-height: 300px;\n",
       "    overflow: auto;\n",
       "  }\n",
       "  table, th, td {\n",
       "    border: 1px solid black;\n",
       "    border-collapse: collapse;\n",
       "  }\n",
       "  th, td {\n",
       "    padding: 5px;\n",
       "  }\n",
       "  th {\n",
       "    text-align: left;\n",
       "  }\n",
       "</style><div class='table-result-container'><table class='table-result'><thead style='background-color: white'><tr><th>Member_id</th><th>first_name</th><th>last_name</th><th>date_of_birth</th><th>gender</th><th>email</th><th>phone_number</th><th>address</th><th>city</th><th>Company</th><th>medical_condition</th><th>allergies</th><th>medications</th><th>blood_type</th><th>height</th><th>weight</th><th>blood_pressure</th><th>heart_rate</th><th>emergency_contact_name</th><th>emergency_contact_phone</th><th>insurance_provider</th><th>insurance_policy_number</th><th>insurance_expiration_date</th><th>Diagnosis_code</th><th>Procedure_code</th><th>primary_care_physician</th><th>last_visit_date</th><th>Diagnosis_description</th><th>Procedure_description</th></tr></thead><tbody><tr><td>ApAb315922251</td><td>Abelard</td><td>Yegorkin</td><td>7/31/1939</td><td>Non-binary</td><td>ayegorkin44@redcross.org</td><td>909-489-4526</td><td>37 Delaware Center</td><td>Menongue</td><td>Apple</td><td>Managed intermediate product</td><td>Monitored non-volatile framework</td><td>Team-oriented 24/7 capacity</td><td>A</td><td>22.31</td><td>315.11</td><td>89</td><td>118</td><td>Abelard Yegorkin</td><td>354-913-8111</td><td>Kuvalis, Gerlach and Mills</td><td>644738</td><td>6/24/2033</td><td>A378</td><td>0F150Z9</td><td>Abelard Yegorkin</td><td>11/30/2006</td><td>Whooping cough due to other Bordetella species</td><td>Bypass Right Hepatic Duct to Common Bile Duct, Open Approach</td></tr><tr><td>ApAb504391274</td><td>Abigale</td><td>Popland</td><td>6/25/1977</td><td>Female</td><td>apoplandat@google.cn</td><td>490-236-7183</td><td>2 Oakridge Park</td><td>Stęszew</td><td>Apple</td><td>Virtual explicit encoding</td><td>User-centric tertiary contingency</td><td>Virtual reciprocal matrix</td><td>O</td><td>91.5</td><td>325.13</td><td>53</td><td>138</td><td>Abigale Popland</td><td>141-136-0623</td><td>Lesch, Greenfelder and Lakin</td><td>435017</td><td>7/22/2046</td><td>S2591XD</td><td>0MQ64ZZ</td><td>Abigale Popland</td><td>3/31/2005</td><td>Laceration of unspecified blood vessel of thorax, subsequent encounter</td><td>Repair Left Wrist Bursa and Ligament, Percutaneous Endoscopic Approach</td></tr><tr><td>ApAd639216428</td><td>Adolf</td><td>Gyver</td><td>10/28/1980</td><td>Male</td><td>agyver91@sourceforge.net</td><td>635-328-9277</td><td>57082 South Circle</td><td>Chavão</td><td>Apple</td><td>Quality-focused dynamic implementation</td><td>Open-architected discrete knowledge user</td><td>Intuitive neutral superstructure</td><td>A</td><td>5.58</td><td>46.09</td><td>162</td><td>105</td><td>Adolf Gyver</td><td>529-707-4967</td><td>Osinski LLC</td><td>726995</td><td>6/30/2035</td><td>Q7240</td><td>0Q9L0ZZ</td><td>Adolf Gyver</td><td>10/28/2015</td><td>Longitudinal reduction defect of unspecified femur</td><td>Drainage of Right Tarsal, Open Approach</td></tr><tr><td>ApAg300549833</td><td>Aggi</td><td>Shoebotham</td><td>11/29/1966</td><td>Female</td><td>ashoebothamfp@etsy.com</td><td>566-658-7860</td><td>4671 Hintze Terrace</td><td>Norrköping</td><td>Apple</td><td>Advanced content-based productivity</td><td>Organic static success</td><td>Function-based local application</td><td>AB</td><td>29.34</td><td>156.47</td><td>94</td><td>199</td><td>Aggi Shoebotham</td><td>400-237-8367</td><td>Schmidt-Kuphal</td><td>870897</td><td>6/19/2029</td><td>I70703</td><td>0SWL38Z</td><td>Aggi Shoebotham</td><td>4/8/2005</td><td>Unspecified atherosclerosis of other type of bypass graft(s) of the extremities, bilateral legs</td><td>Revision of Spacer in Left Metatarsal-Tarsal Joint, Percutaneous Approach</td></tr><tr><td>ApAj677713792</td><td>Ajay</td><td>Feares</td><td>1/30/1905</td><td>Female</td><td>afearesqw@bloglines.com</td><td>555-516-4418</td><td>16019 Rigney Way</td><td>Yong’an</td><td>Apple</td><td>Distributed coherent software</td><td>Reactive next generation product</td><td>Focused encompassing array</td><td>A</td><td>46.43</td><td>211.27</td><td>122</td><td>175</td><td>Ajay Feares</td><td>602-196-2839</td><td>Corwin Inc</td><td>255481</td><td>1/11/2031</td><td>S52692A</td><td>03V30ZZ</td><td>Ajay Feares</td><td>4/18/2000</td><td>Other fracture of lower end of left ulna, initial encounter for closed fracture</td><td>Restriction of Right Subclavian Artery, Open Approach</td></tr><tr><td>ApAl211380839</td><td>Alon</td><td>Thornally</td><td>1/26/1977</td><td>Male</td><td>athornallyh2@boston.com</td><td>295-927-2710</td><td>5683 Corry Circle</td><td>Abelheira</td><td>Apple</td><td>User-centric empowering forecast</td><td>Networked responsive core</td><td>Managed non-volatile matrix</td><td>A</td><td>26.85</td><td>245.72</td><td>182</td><td>144</td><td>Alon Thornally</td><td>605-664-0522</td><td>Lynch-Rice</td><td>194338</td><td>11/13/2029</td><td>T63482D</td><td>0Q9R30Z</td><td>Alon Thornally</td><td>10/18/2014</td><td>Toxic effect of venom of other arthropod, intentional self-harm, subsequent encounter</td><td>Drainage of Left Toe Phalanx with Drainage Device, Percutaneous Approach</td></tr><tr><td>ApAl379415659</td><td>Alena</td><td>Brason</td><td>1/7/1911</td><td>Female</td><td>abrasongy@amazon.co.uk</td><td>508-832-9106</td><td>25 Hayes Way</td><td>Gesikan</td><td>Apple</td><td>Function-based systemic website</td><td>Synchronised executive support</td><td>Digitized optimal website</td><td>B</td><td>85.04</td><td>76.97</td><td>146</td><td>140</td><td>Alena Brason</td><td>332-389-1962</td><td>Ritchie and Sons</td><td>164682</td><td>11/16/2024</td><td>Y0702</td><td>021649P</td><td>Alena Brason</td><td>3/18/2020</td><td>Wife, perpetrator of maltreatment and neglect</td><td>Bypass Right Atrium to Pulmonary Trunk with Autologous Venous Tissue, Percutaneous Endoscopic Approach</td></tr><tr><td>ApAl426267215</td><td>Alfreda</td><td>Rolf</td><td>12/17/1928</td><td>Female</td><td>arolf1s@parallels.com</td><td>355-242-6585</td><td>385 Di Loreto Alley</td><td>Dolní Cerekev</td><td>Apple</td><td>Persistent optimal benchmark</td><td>De-engineered stable infrastructure</td><td>Re-contextualized upward-trending workforce</td><td>O</td><td>42.81</td><td>63.68</td><td>74</td><td>181</td><td>Alfreda Rolf</td><td>792-183-8502</td><td>Kovacek-McLaughlin</td><td>901932</td><td>4/7/2038</td><td>A5481</td><td>00P003Z</td><td>Alfreda Rolf</td><td>8/5/2022</td><td>Gonococcal meningitis</td><td>Removal of Infusion Device from Brain, Open Approach</td></tr><tr><td>ApAl548028460</td><td>Allys</td><td>Dri</td><td>2/15/1981</td><td>Female</td><td>adril9@webs.com</td><td>557-232-1602</td><td>3988 Caliangt Court</td><td>Djohong</td><td>Apple</td><td>Sharable client-driven encoding</td><td>Function-based intangible frame</td><td>Organized bandwidth-monitored Graphic Interface</td><td>B</td><td>22.47</td><td>285.35</td><td>142</td><td>55</td><td>Allys Dri</td><td>177-841-6467</td><td>Friesen Inc</td><td>748725</td><td>12/30/2035</td><td>H21553</td><td>B039ZZZ</td><td>Allys Dri</td><td>4/23/2007</td><td>Recession of chamber angle, bilateral</td><td>Magnetic Resonance Imaging (MRI) of Sella Turcica/Pituitary Gland</td></tr><tr><td>ApAl893411558</td><td>Alistair</td><td>Plampeyn</td><td>5/19/1930</td><td>Male</td><td>aplampeynai@arizona.edu</td><td>597-195-1810</td><td>1786 Northfield Place</td><td>Végueta</td><td>Apple</td><td>Organic asynchronous challenge</td><td>Adaptive fault-tolerant local area network</td><td>Self-enabling methodical portal</td><td>O</td><td>44.53</td><td>213.04</td><td>56</td><td>188</td><td>Alistair Plampeyn</td><td>402-701-8253</td><td>Skiles-Sanford</td><td>297096</td><td>5/18/2046</td><td>C84A5</td><td>06SQ0ZZ</td><td>Alistair Plampeyn</td><td>11/23/2013</td><td>Cutaneous T-cell lymphoma, unspecified, lymph nodes of inguinal region and lower limb</td><td>Reposition Left Greater Saphenous Vein, Open Approach</td></tr></tbody></table></div>"
      ]
     },
     "metadata": {
      "application/vnd.databricks.v1+output": {
       "addedWidgets": {},
       "aggData": [],
       "aggError": "",
       "aggOverflow": false,
       "aggSchema": [],
       "aggSeriesLimitReached": false,
       "aggType": "",
       "arguments": {},
       "columnCustomDisplayInfos": {},
       "data": [
        [
         "ApAb315922251",
         "Abelard",
         "Yegorkin",
         "7/31/1939",
         "Non-binary",
         "ayegorkin44@redcross.org",
         "909-489-4526",
         "37 Delaware Center",
         "Menongue",
         "Apple",
         "Managed intermediate product",
         "Monitored non-volatile framework",
         "Team-oriented 24/7 capacity",
         "A",
         "22.31",
         "315.11",
         "89",
         "118",
         "Abelard Yegorkin",
         "354-913-8111",
         "Kuvalis, Gerlach and Mills",
         "644738",
         "6/24/2033",
         "A378",
         "0F150Z9",
         "Abelard Yegorkin",
         "11/30/2006",
         "Whooping cough due to other Bordetella species",
         "Bypass Right Hepatic Duct to Common Bile Duct, Open Approach"
        ],
        [
         "ApAb504391274",
         "Abigale",
         "Popland",
         "6/25/1977",
         "Female",
         "apoplandat@google.cn",
         "490-236-7183",
         "2 Oakridge Park",
         "Stęszew",
         "Apple",
         "Virtual explicit encoding",
         "User-centric tertiary contingency",
         "Virtual reciprocal matrix",
         "O",
         "91.5",
         "325.13",
         "53",
         "138",
         "Abigale Popland",
         "141-136-0623",
         "Lesch, Greenfelder and Lakin",
         "435017",
         "7/22/2046",
         "S2591XD",
         "0MQ64ZZ",
         "Abigale Popland",
         "3/31/2005",
         "Laceration of unspecified blood vessel of thorax, subsequent encounter",
         "Repair Left Wrist Bursa and Ligament, Percutaneous Endoscopic Approach"
        ],
        [
         "ApAd639216428",
         "Adolf",
         "Gyver",
         "10/28/1980",
         "Male",
         "agyver91@sourceforge.net",
         "635-328-9277",
         "57082 South Circle",
         "Chavão",
         "Apple",
         "Quality-focused dynamic implementation",
         "Open-architected discrete knowledge user",
         "Intuitive neutral superstructure",
         "A",
         "5.58",
         "46.09",
         "162",
         "105",
         "Adolf Gyver",
         "529-707-4967",
         "Osinski LLC",
         "726995",
         "6/30/2035",
         "Q7240",
         "0Q9L0ZZ",
         "Adolf Gyver",
         "10/28/2015",
         "Longitudinal reduction defect of unspecified femur",
         "Drainage of Right Tarsal, Open Approach"
        ],
        [
         "ApAg300549833",
         "Aggi",
         "Shoebotham",
         "11/29/1966",
         "Female",
         "ashoebothamfp@etsy.com",
         "566-658-7860",
         "4671 Hintze Terrace",
         "Norrköping",
         "Apple",
         "Advanced content-based productivity",
         "Organic static success",
         "Function-based local application",
         "AB",
         "29.34",
         "156.47",
         "94",
         "199",
         "Aggi Shoebotham",
         "400-237-8367",
         "Schmidt-Kuphal",
         "870897",
         "6/19/2029",
         "I70703",
         "0SWL38Z",
         "Aggi Shoebotham",
         "4/8/2005",
         "Unspecified atherosclerosis of other type of bypass graft(s) of the extremities, bilateral legs",
         "Revision of Spacer in Left Metatarsal-Tarsal Joint, Percutaneous Approach"
        ],
        [
         "ApAj677713792",
         "Ajay",
         "Feares",
         "1/30/1905",
         "Female",
         "afearesqw@bloglines.com",
         "555-516-4418",
         "16019 Rigney Way",
         "Yong’an",
         "Apple",
         "Distributed coherent software",
         "Reactive next generation product",
         "Focused encompassing array",
         "A",
         "46.43",
         "211.27",
         "122",
         "175",
         "Ajay Feares",
         "602-196-2839",
         "Corwin Inc",
         "255481",
         "1/11/2031",
         "S52692A",
         "03V30ZZ",
         "Ajay Feares",
         "4/18/2000",
         "Other fracture of lower end of left ulna, initial encounter for closed fracture",
         "Restriction of Right Subclavian Artery, Open Approach"
        ],
        [
         "ApAl211380839",
         "Alon",
         "Thornally",
         "1/26/1977",
         "Male",
         "athornallyh2@boston.com",
         "295-927-2710",
         "5683 Corry Circle",
         "Abelheira",
         "Apple",
         "User-centric empowering forecast",
         "Networked responsive core",
         "Managed non-volatile matrix",
         "A",
         "26.85",
         "245.72",
         "182",
         "144",
         "Alon Thornally",
         "605-664-0522",
         "Lynch-Rice",
         "194338",
         "11/13/2029",
         "T63482D",
         "0Q9R30Z",
         "Alon Thornally",
         "10/18/2014",
         "Toxic effect of venom of other arthropod, intentional self-harm, subsequent encounter",
         "Drainage of Left Toe Phalanx with Drainage Device, Percutaneous Approach"
        ],
        [
         "ApAl379415659",
         "Alena",
         "Brason",
         "1/7/1911",
         "Female",
         "abrasongy@amazon.co.uk",
         "508-832-9106",
         "25 Hayes Way",
         "Gesikan",
         "Apple",
         "Function-based systemic website",
         "Synchronised executive support",
         "Digitized optimal website",
         "B",
         "85.04",
         "76.97",
         "146",
         "140",
         "Alena Brason",
         "332-389-1962",
         "Ritchie and Sons",
         "164682",
         "11/16/2024",
         "Y0702",
         "021649P",
         "Alena Brason",
         "3/18/2020",
         "Wife, perpetrator of maltreatment and neglect",
         "Bypass Right Atrium to Pulmonary Trunk with Autologous Venous Tissue, Percutaneous Endoscopic Approach"
        ],
        [
         "ApAl426267215",
         "Alfreda",
         "Rolf",
         "12/17/1928",
         "Female",
         "arolf1s@parallels.com",
         "355-242-6585",
         "385 Di Loreto Alley",
         "Dolní Cerekev",
         "Apple",
         "Persistent optimal benchmark",
         "De-engineered stable infrastructure",
         "Re-contextualized upward-trending workforce",
         "O",
         "42.81",
         "63.68",
         "74",
         "181",
         "Alfreda Rolf",
         "792-183-8502",
         "Kovacek-McLaughlin",
         "901932",
         "4/7/2038",
         "A5481",
         "00P003Z",
         "Alfreda Rolf",
         "8/5/2022",
         "Gonococcal meningitis",
         "Removal of Infusion Device from Brain, Open Approach"
        ],
        [
         "ApAl548028460",
         "Allys",
         "Dri",
         "2/15/1981",
         "Female",
         "adril9@webs.com",
         "557-232-1602",
         "3988 Caliangt Court",
         "Djohong",
         "Apple",
         "Sharable client-driven encoding",
         "Function-based intangible frame",
         "Organized bandwidth-monitored Graphic Interface",
         "B",
         "22.47",
         "285.35",
         "142",
         "55",
         "Allys Dri",
         "177-841-6467",
         "Friesen Inc",
         "748725",
         "12/30/2035",
         "H21553",
         "B039ZZZ",
         "Allys Dri",
         "4/23/2007",
         "Recession of chamber angle, bilateral",
         "Magnetic Resonance Imaging (MRI) of Sella Turcica/Pituitary Gland"
        ],
        [
         "ApAl893411558",
         "Alistair",
         "Plampeyn",
         "5/19/1930",
         "Male",
         "aplampeynai@arizona.edu",
         "597-195-1810",
         "1786 Northfield Place",
         "Végueta",
         "Apple",
         "Organic asynchronous challenge",
         "Adaptive fault-tolerant local area network",
         "Self-enabling methodical portal",
         "O",
         "44.53",
         "213.04",
         "56",
         "188",
         "Alistair Plampeyn",
         "402-701-8253",
         "Skiles-Sanford",
         "297096",
         "5/18/2046",
         "C84A5",
         "06SQ0ZZ",
         "Alistair Plampeyn",
         "11/23/2013",
         "Cutaneous T-cell lymphoma, unspecified, lymph nodes of inguinal region and lower limb",
         "Reposition Left Greater Saphenous Vein, Open Approach"
        ]
       ],
       "datasetInfos": [],
       "dbfsResultPath": null,
       "isJsonSchema": true,
       "metadata": {},
       "overflow": false,
       "plotOptions": {
        "customPlotOptions": {},
        "displayType": "table",
        "pivotAggregation": null,
        "pivotColumns": null,
        "xColumns": null,
        "yColumns": null
       },
       "removedWidgets": [],
       "schema": [
        {
         "metadata": "{}",
         "name": "Member_id",
         "type": "\"string\""
        },
        {
         "metadata": "{}",
         "name": "first_name",
         "type": "\"string\""
        },
        {
         "metadata": "{}",
         "name": "last_name",
         "type": "\"string\""
        },
        {
         "metadata": "{}",
         "name": "date_of_birth",
         "type": "\"string\""
        },
        {
         "metadata": "{}",
         "name": "gender",
         "type": "\"string\""
        },
        {
         "metadata": "{}",
         "name": "email",
         "type": "\"string\""
        },
        {
         "metadata": "{}",
         "name": "phone_number",
         "type": "\"string\""
        },
        {
         "metadata": "{}",
         "name": "address",
         "type": "\"string\""
        },
        {
         "metadata": "{}",
         "name": "city",
         "type": "\"string\""
        },
        {
         "metadata": "{}",
         "name": "Company",
         "type": "\"string\""
        },
        {
         "metadata": "{}",
         "name": "medical_condition",
         "type": "\"string\""
        },
        {
         "metadata": "{}",
         "name": "allergies",
         "type": "\"string\""
        },
        {
         "metadata": "{}",
         "name": "medications",
         "type": "\"string\""
        },
        {
         "metadata": "{}",
         "name": "blood_type",
         "type": "\"string\""
        },
        {
         "metadata": "{}",
         "name": "height",
         "type": "\"string\""
        },
        {
         "metadata": "{}",
         "name": "weight",
         "type": "\"string\""
        },
        {
         "metadata": "{}",
         "name": "blood_pressure",
         "type": "\"string\""
        },
        {
         "metadata": "{}",
         "name": "heart_rate",
         "type": "\"string\""
        },
        {
         "metadata": "{}",
         "name": "emergency_contact_name",
         "type": "\"string\""
        },
        {
         "metadata": "{}",
         "name": "emergency_contact_phone",
         "type": "\"string\""
        },
        {
         "metadata": "{}",
         "name": "insurance_provider",
         "type": "\"string\""
        },
        {
         "metadata": "{}",
         "name": "insurance_policy_number",
         "type": "\"string\""
        },
        {
         "metadata": "{}",
         "name": "insurance_expiration_date",
         "type": "\"string\""
        },
        {
         "metadata": "{}",
         "name": "Diagnosis_code",
         "type": "\"string\""
        },
        {
         "metadata": "{}",
         "name": "Procedure_code",
         "type": "\"string\""
        },
        {
         "metadata": "{}",
         "name": "primary_care_physician",
         "type": "\"string\""
        },
        {
         "metadata": "{}",
         "name": "last_visit_date",
         "type": "\"string\""
        },
        {
         "metadata": "{}",
         "name": "Diagnosis_description",
         "type": "\"string\""
        },
        {
         "metadata": "{}",
         "name": "Procedure_description",
         "type": "\"string\""
        }
       ],
       "type": "table"
      }
     },
     "output_type": "display_data"
    }
   ],
   "source": [
    "display(final_join.limit(10))"
   ]
  },
  {
   "cell_type": "code",
   "execution_count": 0,
   "metadata": {
    "application/vnd.databricks.v1+cell": {
     "cellMetadata": {
      "byteLimit": 2048000,
      "rowLimit": 10000
     },
     "inputWidgets": {},
     "nuid": "a6e27b70-a15c-4585-a236-162e4f0326fc",
     "showTitle": false,
     "tableResultSettingsMap": {},
     "title": ""
    }
   },
   "outputs": [
    {
     "output_type": "stream",
     "name": "stdout",
     "output_type": "stream",
     "text": [
      "Out[139]: DataFrame[]"
     ]
    }
   ],
   "source": [
    "# For the first create a databse to store table\n",
    "spark.sql(\"CREATE DATABASE IF NOT EXISTS Health_DB\")"
   ]
  },
  {
   "cell_type": "code",
   "execution_count": 0,
   "metadata": {
    "application/vnd.databricks.v1+cell": {
     "cellMetadata": {
      "byteLimit": 2048000,
      "rowLimit": 10000
     },
     "inputWidgets": {},
     "nuid": "6d753df4-420a-44f7-aea5-31d21dba0921",
     "showTitle": false,
     "tableResultSettingsMap": {},
     "title": ""
    }
   },
   "outputs": [
    {
     "output_type": "stream",
     "name": "stdout",
     "output_type": "stream",
     "text": [
      "Out[140]: DataFrame[]"
     ]
    }
   ],
   "source": [
    "# Using recently created database\n",
    "spark.sql(\"use health_db\")"
   ]
  },
  {
   "cell_type": "code",
   "execution_count": 0,
   "metadata": {
    "application/vnd.databricks.v1+cell": {
     "cellMetadata": {
      "byteLimit": 2048000,
      "rowLimit": 10000
     },
     "inputWidgets": {},
     "nuid": "3edaee12-445c-447a-8b0c-0bb77cf744e4",
     "showTitle": false,
     "tableResultSettingsMap": {},
     "title": ""
    }
   },
   "outputs": [],
   "source": [
    "# Saving Dataframe final_join as Table into health_db\n",
    "final_join.write\\\n",
    "    .mode('overwrite')\\\n",
    "    .saveAsTable('health_details')"
   ]
  },
  {
   "cell_type": "code",
   "execution_count": 0,
   "metadata": {
    "application/vnd.databricks.v1+cell": {
     "cellMetadata": {
      "byteLimit": 2048000,
      "implicitDf": true,
      "rowLimit": 10000
     },
     "inputWidgets": {},
     "nuid": "d5cabebd-d4f8-4953-b0c0-f7df39f7ed31",
     "showTitle": false,
     "tableResultSettingsMap": {},
     "title": ""
    }
   },
   "outputs": [
    {
     "output_type": "display_data",
     "data": {
      "text/html": [
       "<style scoped>\n",
       "  .table-result-container {\n",
       "    max-height: 300px;\n",
       "    overflow: auto;\n",
       "  }\n",
       "  table, th, td {\n",
       "    border: 1px solid black;\n",
       "    border-collapse: collapse;\n",
       "  }\n",
       "  th, td {\n",
       "    padding: 5px;\n",
       "  }\n",
       "  th {\n",
       "    text-align: left;\n",
       "  }\n",
       "</style><div class='table-result-container'><table class='table-result'><thead style='background-color: white'><tr><th>Member_id</th><th>first_name</th><th>last_name</th><th>date_of_birth</th><th>gender</th><th>email</th><th>phone_number</th><th>address</th><th>city</th><th>Company</th><th>medical_condition</th><th>allergies</th><th>medications</th><th>blood_type</th><th>height</th><th>weight</th><th>blood_pressure</th><th>heart_rate</th><th>emergency_contact_name</th><th>emergency_contact_phone</th><th>insurance_provider</th><th>insurance_policy_number</th><th>insurance_expiration_date</th><th>Diagnosis_code</th><th>Procedure_code</th><th>primary_care_physician</th><th>last_visit_date</th><th>Procedure_description</th><th>Diagnosis_description</th></tr></thead><tbody><tr><td>ApAb315922251</td><td>Abelard</td><td>Yegorkin</td><td>7/31/1939</td><td>Non-binary</td><td>ayegorkin44@redcross.org</td><td>909-489-4526</td><td>37 Delaware Center</td><td>Menongue</td><td>Apple</td><td>Managed intermediate product</td><td>Monitored non-volatile framework</td><td>Team-oriented 24/7 capacity</td><td>A</td><td>22.31</td><td>315.11</td><td>89</td><td>118</td><td>Abelard Yegorkin</td><td>354-913-8111</td><td>Kuvalis, Gerlach and Mills</td><td>644738</td><td>6/24/2033</td><td>A378</td><td>0F150Z9</td><td>Abelard Yegorkin</td><td>11/30/2006</td><td>Bypass Right Hepatic Duct to Common Bile Duct, Open Approach</td><td>Whooping cough due to other Bordetella species</td></tr><tr><td>ApAb504391274</td><td>Abigale</td><td>Popland</td><td>6/25/1977</td><td>Female</td><td>apoplandat@google.cn</td><td>490-236-7183</td><td>2 Oakridge Park</td><td>Stęszew</td><td>Apple</td><td>Virtual explicit encoding</td><td>User-centric tertiary contingency</td><td>Virtual reciprocal matrix</td><td>O</td><td>91.5</td><td>325.13</td><td>53</td><td>138</td><td>Abigale Popland</td><td>141-136-0623</td><td>Lesch, Greenfelder and Lakin</td><td>435017</td><td>7/22/2046</td><td>S2591XD</td><td>0MQ64ZZ</td><td>Abigale Popland</td><td>3/31/2005</td><td>Repair Left Wrist Bursa and Ligament, Percutaneous Endoscopic Approach</td><td>Laceration of unspecified blood vessel of thorax, subsequent encounter</td></tr><tr><td>ApAd639216428</td><td>Adolf</td><td>Gyver</td><td>10/28/1980</td><td>Male</td><td>agyver91@sourceforge.net</td><td>635-328-9277</td><td>57082 South Circle</td><td>Chavão</td><td>Apple</td><td>Quality-focused dynamic implementation</td><td>Open-architected discrete knowledge user</td><td>Intuitive neutral superstructure</td><td>A</td><td>5.58</td><td>46.09</td><td>162</td><td>105</td><td>Adolf Gyver</td><td>529-707-4967</td><td>Osinski LLC</td><td>726995</td><td>6/30/2035</td><td>Q7240</td><td>0Q9L0ZZ</td><td>Adolf Gyver</td><td>10/28/2015</td><td>Drainage of Right Tarsal, Open Approach</td><td>Longitudinal reduction defect of unspecified femur</td></tr><tr><td>ApAg300549833</td><td>Aggi</td><td>Shoebotham</td><td>11/29/1966</td><td>Female</td><td>ashoebothamfp@etsy.com</td><td>566-658-7860</td><td>4671 Hintze Terrace</td><td>Norrköping</td><td>Apple</td><td>Advanced content-based productivity</td><td>Organic static success</td><td>Function-based local application</td><td>AB</td><td>29.34</td><td>156.47</td><td>94</td><td>199</td><td>Aggi Shoebotham</td><td>400-237-8367</td><td>Schmidt-Kuphal</td><td>870897</td><td>6/19/2029</td><td>I70703</td><td>0SWL38Z</td><td>Aggi Shoebotham</td><td>4/8/2005</td><td>Revision of Spacer in Left Metatarsal-Tarsal Joint, Percutaneous Approach</td><td>Unspecified atherosclerosis of other type of bypass graft(s) of the extremities, bilateral legs</td></tr><tr><td>ApAj677713792</td><td>Ajay</td><td>Feares</td><td>1/30/1905</td><td>Female</td><td>afearesqw@bloglines.com</td><td>555-516-4418</td><td>16019 Rigney Way</td><td>Yong’an</td><td>Apple</td><td>Distributed coherent software</td><td>Reactive next generation product</td><td>Focused encompassing array</td><td>A</td><td>46.43</td><td>211.27</td><td>122</td><td>175</td><td>Ajay Feares</td><td>602-196-2839</td><td>Corwin Inc</td><td>255481</td><td>1/11/2031</td><td>S52692A</td><td>03V30ZZ</td><td>Ajay Feares</td><td>4/18/2000</td><td>Restriction of Right Subclavian Artery, Open Approach</td><td>Other fracture of lower end of left ulna, initial encounter for closed fracture</td></tr><tr><td>ApAl211380839</td><td>Alon</td><td>Thornally</td><td>1/26/1977</td><td>Male</td><td>athornallyh2@boston.com</td><td>295-927-2710</td><td>5683 Corry Circle</td><td>Abelheira</td><td>Apple</td><td>User-centric empowering forecast</td><td>Networked responsive core</td><td>Managed non-volatile matrix</td><td>A</td><td>26.85</td><td>245.72</td><td>182</td><td>144</td><td>Alon Thornally</td><td>605-664-0522</td><td>Lynch-Rice</td><td>194338</td><td>11/13/2029</td><td>T63482D</td><td>0Q9R30Z</td><td>Alon Thornally</td><td>10/18/2014</td><td>Drainage of Left Toe Phalanx with Drainage Device, Percutaneous Approach</td><td>Toxic effect of venom of other arthropod, intentional self-harm, subsequent encounter</td></tr><tr><td>ApAl379415659</td><td>Alena</td><td>Brason</td><td>1/7/1911</td><td>Female</td><td>abrasongy@amazon.co.uk</td><td>508-832-9106</td><td>25 Hayes Way</td><td>Gesikan</td><td>Apple</td><td>Function-based systemic website</td><td>Synchronised executive support</td><td>Digitized optimal website</td><td>B</td><td>85.04</td><td>76.97</td><td>146</td><td>140</td><td>Alena Brason</td><td>332-389-1962</td><td>Ritchie and Sons</td><td>164682</td><td>11/16/2024</td><td>Y0702</td><td>021649P</td><td>Alena Brason</td><td>3/18/2020</td><td>Bypass Right Atrium to Pulmonary Trunk with Autologous Venous Tissue, Percutaneous Endoscopic Approach</td><td>Wife, perpetrator of maltreatment and neglect</td></tr><tr><td>ApAl426267215</td><td>Alfreda</td><td>Rolf</td><td>12/17/1928</td><td>Female</td><td>arolf1s@parallels.com</td><td>355-242-6585</td><td>385 Di Loreto Alley</td><td>Dolní Cerekev</td><td>Apple</td><td>Persistent optimal benchmark</td><td>De-engineered stable infrastructure</td><td>Re-contextualized upward-trending workforce</td><td>O</td><td>42.81</td><td>63.68</td><td>74</td><td>181</td><td>Alfreda Rolf</td><td>792-183-8502</td><td>Kovacek-McLaughlin</td><td>901932</td><td>4/7/2038</td><td>A5481</td><td>00P003Z</td><td>Alfreda Rolf</td><td>8/5/2022</td><td>Removal of Infusion Device from Brain, Open Approach</td><td>Gonococcal meningitis</td></tr><tr><td>ApAl548028460</td><td>Allys</td><td>Dri</td><td>2/15/1981</td><td>Female</td><td>adril9@webs.com</td><td>557-232-1602</td><td>3988 Caliangt Court</td><td>Djohong</td><td>Apple</td><td>Sharable client-driven encoding</td><td>Function-based intangible frame</td><td>Organized bandwidth-monitored Graphic Interface</td><td>B</td><td>22.47</td><td>285.35</td><td>142</td><td>55</td><td>Allys Dri</td><td>177-841-6467</td><td>Friesen Inc</td><td>748725</td><td>12/30/2035</td><td>H21553</td><td>B039ZZZ</td><td>Allys Dri</td><td>4/23/2007</td><td>Magnetic Resonance Imaging (MRI) of Sella Turcica/Pituitary Gland</td><td>Recession of chamber angle, bilateral</td></tr><tr><td>ApAl893411558</td><td>Alistair</td><td>Plampeyn</td><td>5/19/1930</td><td>Male</td><td>aplampeynai@arizona.edu</td><td>597-195-1810</td><td>1786 Northfield Place</td><td>Végueta</td><td>Apple</td><td>Organic asynchronous challenge</td><td>Adaptive fault-tolerant local area network</td><td>Self-enabling methodical portal</td><td>O</td><td>44.53</td><td>213.04</td><td>56</td><td>188</td><td>Alistair Plampeyn</td><td>402-701-8253</td><td>Skiles-Sanford</td><td>297096</td><td>5/18/2046</td><td>C84A5</td><td>06SQ0ZZ</td><td>Alistair Plampeyn</td><td>11/23/2013</td><td>Reposition Left Greater Saphenous Vein, Open Approach</td><td>Cutaneous T-cell lymphoma, unspecified, lymph nodes of inguinal region and lower limb</td></tr></tbody></table></div>"
      ]
     },
     "metadata": {
      "application/vnd.databricks.v1+output": {
       "addedWidgets": {},
       "aggData": [],
       "aggError": "",
       "aggOverflow": false,
       "aggSchema": [],
       "aggSeriesLimitReached": false,
       "aggType": "",
       "arguments": {},
       "columnCustomDisplayInfos": {},
       "data": [
        [
         "ApAb315922251",
         "Abelard",
         "Yegorkin",
         "7/31/1939",
         "Non-binary",
         "ayegorkin44@redcross.org",
         "909-489-4526",
         "37 Delaware Center",
         "Menongue",
         "Apple",
         "Managed intermediate product",
         "Monitored non-volatile framework",
         "Team-oriented 24/7 capacity",
         "A",
         "22.31",
         "315.11",
         "89",
         "118",
         "Abelard Yegorkin",
         "354-913-8111",
         "Kuvalis, Gerlach and Mills",
         "644738",
         "6/24/2033",
         "A378",
         "0F150Z9",
         "Abelard Yegorkin",
         "11/30/2006",
         "Bypass Right Hepatic Duct to Common Bile Duct, Open Approach",
         "Whooping cough due to other Bordetella species"
        ],
        [
         "ApAb504391274",
         "Abigale",
         "Popland",
         "6/25/1977",
         "Female",
         "apoplandat@google.cn",
         "490-236-7183",
         "2 Oakridge Park",
         "Stęszew",
         "Apple",
         "Virtual explicit encoding",
         "User-centric tertiary contingency",
         "Virtual reciprocal matrix",
         "O",
         "91.5",
         "325.13",
         "53",
         "138",
         "Abigale Popland",
         "141-136-0623",
         "Lesch, Greenfelder and Lakin",
         "435017",
         "7/22/2046",
         "S2591XD",
         "0MQ64ZZ",
         "Abigale Popland",
         "3/31/2005",
         "Repair Left Wrist Bursa and Ligament, Percutaneous Endoscopic Approach",
         "Laceration of unspecified blood vessel of thorax, subsequent encounter"
        ],
        [
         "ApAd639216428",
         "Adolf",
         "Gyver",
         "10/28/1980",
         "Male",
         "agyver91@sourceforge.net",
         "635-328-9277",
         "57082 South Circle",
         "Chavão",
         "Apple",
         "Quality-focused dynamic implementation",
         "Open-architected discrete knowledge user",
         "Intuitive neutral superstructure",
         "A",
         "5.58",
         "46.09",
         "162",
         "105",
         "Adolf Gyver",
         "529-707-4967",
         "Osinski LLC",
         "726995",
         "6/30/2035",
         "Q7240",
         "0Q9L0ZZ",
         "Adolf Gyver",
         "10/28/2015",
         "Drainage of Right Tarsal, Open Approach",
         "Longitudinal reduction defect of unspecified femur"
        ],
        [
         "ApAg300549833",
         "Aggi",
         "Shoebotham",
         "11/29/1966",
         "Female",
         "ashoebothamfp@etsy.com",
         "566-658-7860",
         "4671 Hintze Terrace",
         "Norrköping",
         "Apple",
         "Advanced content-based productivity",
         "Organic static success",
         "Function-based local application",
         "AB",
         "29.34",
         "156.47",
         "94",
         "199",
         "Aggi Shoebotham",
         "400-237-8367",
         "Schmidt-Kuphal",
         "870897",
         "6/19/2029",
         "I70703",
         "0SWL38Z",
         "Aggi Shoebotham",
         "4/8/2005",
         "Revision of Spacer in Left Metatarsal-Tarsal Joint, Percutaneous Approach",
         "Unspecified atherosclerosis of other type of bypass graft(s) of the extremities, bilateral legs"
        ],
        [
         "ApAj677713792",
         "Ajay",
         "Feares",
         "1/30/1905",
         "Female",
         "afearesqw@bloglines.com",
         "555-516-4418",
         "16019 Rigney Way",
         "Yong’an",
         "Apple",
         "Distributed coherent software",
         "Reactive next generation product",
         "Focused encompassing array",
         "A",
         "46.43",
         "211.27",
         "122",
         "175",
         "Ajay Feares",
         "602-196-2839",
         "Corwin Inc",
         "255481",
         "1/11/2031",
         "S52692A",
         "03V30ZZ",
         "Ajay Feares",
         "4/18/2000",
         "Restriction of Right Subclavian Artery, Open Approach",
         "Other fracture of lower end of left ulna, initial encounter for closed fracture"
        ],
        [
         "ApAl211380839",
         "Alon",
         "Thornally",
         "1/26/1977",
         "Male",
         "athornallyh2@boston.com",
         "295-927-2710",
         "5683 Corry Circle",
         "Abelheira",
         "Apple",
         "User-centric empowering forecast",
         "Networked responsive core",
         "Managed non-volatile matrix",
         "A",
         "26.85",
         "245.72",
         "182",
         "144",
         "Alon Thornally",
         "605-664-0522",
         "Lynch-Rice",
         "194338",
         "11/13/2029",
         "T63482D",
         "0Q9R30Z",
         "Alon Thornally",
         "10/18/2014",
         "Drainage of Left Toe Phalanx with Drainage Device, Percutaneous Approach",
         "Toxic effect of venom of other arthropod, intentional self-harm, subsequent encounter"
        ],
        [
         "ApAl379415659",
         "Alena",
         "Brason",
         "1/7/1911",
         "Female",
         "abrasongy@amazon.co.uk",
         "508-832-9106",
         "25 Hayes Way",
         "Gesikan",
         "Apple",
         "Function-based systemic website",
         "Synchronised executive support",
         "Digitized optimal website",
         "B",
         "85.04",
         "76.97",
         "146",
         "140",
         "Alena Brason",
         "332-389-1962",
         "Ritchie and Sons",
         "164682",
         "11/16/2024",
         "Y0702",
         "021649P",
         "Alena Brason",
         "3/18/2020",
         "Bypass Right Atrium to Pulmonary Trunk with Autologous Venous Tissue, Percutaneous Endoscopic Approach",
         "Wife, perpetrator of maltreatment and neglect"
        ],
        [
         "ApAl426267215",
         "Alfreda",
         "Rolf",
         "12/17/1928",
         "Female",
         "arolf1s@parallels.com",
         "355-242-6585",
         "385 Di Loreto Alley",
         "Dolní Cerekev",
         "Apple",
         "Persistent optimal benchmark",
         "De-engineered stable infrastructure",
         "Re-contextualized upward-trending workforce",
         "O",
         "42.81",
         "63.68",
         "74",
         "181",
         "Alfreda Rolf",
         "792-183-8502",
         "Kovacek-McLaughlin",
         "901932",
         "4/7/2038",
         "A5481",
         "00P003Z",
         "Alfreda Rolf",
         "8/5/2022",
         "Removal of Infusion Device from Brain, Open Approach",
         "Gonococcal meningitis"
        ],
        [
         "ApAl548028460",
         "Allys",
         "Dri",
         "2/15/1981",
         "Female",
         "adril9@webs.com",
         "557-232-1602",
         "3988 Caliangt Court",
         "Djohong",
         "Apple",
         "Sharable client-driven encoding",
         "Function-based intangible frame",
         "Organized bandwidth-monitored Graphic Interface",
         "B",
         "22.47",
         "285.35",
         "142",
         "55",
         "Allys Dri",
         "177-841-6467",
         "Friesen Inc",
         "748725",
         "12/30/2035",
         "H21553",
         "B039ZZZ",
         "Allys Dri",
         "4/23/2007",
         "Magnetic Resonance Imaging (MRI) of Sella Turcica/Pituitary Gland",
         "Recession of chamber angle, bilateral"
        ],
        [
         "ApAl893411558",
         "Alistair",
         "Plampeyn",
         "5/19/1930",
         "Male",
         "aplampeynai@arizona.edu",
         "597-195-1810",
         "1786 Northfield Place",
         "Végueta",
         "Apple",
         "Organic asynchronous challenge",
         "Adaptive fault-tolerant local area network",
         "Self-enabling methodical portal",
         "O",
         "44.53",
         "213.04",
         "56",
         "188",
         "Alistair Plampeyn",
         "402-701-8253",
         "Skiles-Sanford",
         "297096",
         "5/18/2046",
         "C84A5",
         "06SQ0ZZ",
         "Alistair Plampeyn",
         "11/23/2013",
         "Reposition Left Greater Saphenous Vein, Open Approach",
         "Cutaneous T-cell lymphoma, unspecified, lymph nodes of inguinal region and lower limb"
        ]
       ],
       "datasetInfos": [],
       "dbfsResultPath": null,
       "isJsonSchema": true,
       "metadata": {},
       "overflow": false,
       "plotOptions": {
        "customPlotOptions": {},
        "displayType": "table",
        "pivotAggregation": null,
        "pivotColumns": null,
        "xColumns": null,
        "yColumns": null
       },
       "removedWidgets": [],
       "schema": [
        {
         "metadata": "{}",
         "name": "Member_id",
         "type": "\"string\""
        },
        {
         "metadata": "{}",
         "name": "first_name",
         "type": "\"string\""
        },
        {
         "metadata": "{}",
         "name": "last_name",
         "type": "\"string\""
        },
        {
         "metadata": "{}",
         "name": "date_of_birth",
         "type": "\"string\""
        },
        {
         "metadata": "{}",
         "name": "gender",
         "type": "\"string\""
        },
        {
         "metadata": "{}",
         "name": "email",
         "type": "\"string\""
        },
        {
         "metadata": "{}",
         "name": "phone_number",
         "type": "\"string\""
        },
        {
         "metadata": "{}",
         "name": "address",
         "type": "\"string\""
        },
        {
         "metadata": "{}",
         "name": "city",
         "type": "\"string\""
        },
        {
         "metadata": "{}",
         "name": "Company",
         "type": "\"string\""
        },
        {
         "metadata": "{}",
         "name": "medical_condition",
         "type": "\"string\""
        },
        {
         "metadata": "{}",
         "name": "allergies",
         "type": "\"string\""
        },
        {
         "metadata": "{}",
         "name": "medications",
         "type": "\"string\""
        },
        {
         "metadata": "{}",
         "name": "blood_type",
         "type": "\"string\""
        },
        {
         "metadata": "{}",
         "name": "height",
         "type": "\"string\""
        },
        {
         "metadata": "{}",
         "name": "weight",
         "type": "\"string\""
        },
        {
         "metadata": "{}",
         "name": "blood_pressure",
         "type": "\"string\""
        },
        {
         "metadata": "{}",
         "name": "heart_rate",
         "type": "\"string\""
        },
        {
         "metadata": "{}",
         "name": "emergency_contact_name",
         "type": "\"string\""
        },
        {
         "metadata": "{}",
         "name": "emergency_contact_phone",
         "type": "\"string\""
        },
        {
         "metadata": "{}",
         "name": "insurance_provider",
         "type": "\"string\""
        },
        {
         "metadata": "{}",
         "name": "insurance_policy_number",
         "type": "\"string\""
        },
        {
         "metadata": "{}",
         "name": "insurance_expiration_date",
         "type": "\"string\""
        },
        {
         "metadata": "{}",
         "name": "Diagnosis_code",
         "type": "\"string\""
        },
        {
         "metadata": "{}",
         "name": "Procedure_code",
         "type": "\"string\""
        },
        {
         "metadata": "{}",
         "name": "primary_care_physician",
         "type": "\"string\""
        },
        {
         "metadata": "{}",
         "name": "last_visit_date",
         "type": "\"string\""
        },
        {
         "metadata": "{}",
         "name": "Procedure_description",
         "type": "\"string\""
        },
        {
         "metadata": "{}",
         "name": "Diagnosis_description",
         "type": "\"string\""
        }
       ],
       "type": "table"
      }
     },
     "output_type": "display_data"
    }
   ],
   "source": [
    "%sql\n",
    "Select * from health_details\n",
    "limit 10;"
   ]
  },
  {
   "cell_type": "code",
   "execution_count": 0,
   "metadata": {
    "application/vnd.databricks.v1+cell": {
     "cellMetadata": {
      "byteLimit": 2048000,
      "implicitDf": true,
      "rowLimit": 10000
     },
     "inputWidgets": {},
     "nuid": "faaf1ce9-39bd-44ee-a78f-264b25b131a7",
     "showTitle": false,
     "tableResultSettingsMap": {},
     "title": ""
    }
   },
   "outputs": [
    {
     "output_type": "display_data",
     "data": {
      "text/html": [
       "<style scoped>\n",
       "  .table-result-container {\n",
       "    max-height: 300px;\n",
       "    overflow: auto;\n",
       "  }\n",
       "  table, th, td {\n",
       "    border: 1px solid black;\n",
       "    border-collapse: collapse;\n",
       "  }\n",
       "  th, td {\n",
       "    padding: 5px;\n",
       "  }\n",
       "  th {\n",
       "    text-align: left;\n",
       "  }\n",
       "</style><div class='table-result-container'><table class='table-result'><thead style='background-color: white'><tr><th>first_name</th><th>last_name</th><th>date_of_birth</th><th>gender</th><th>phone_number</th><th>address</th><th>height</th><th>weight</th><th>blood_pressure</th><th>blood_type</th><th>emergency_contact_name</th><th>emergency_contact_phone</th><th>last_visit_date</th><th>Diagnosis_description</th><th>primary_care_physician</th><th>Procedure_description</th></tr></thead><tbody><tr><td>Gisella</td><td>Laydon</td><td>12/5/1926</td><td>Polygender</td><td>523-508-7703</td><td>41847 Corben Crossing</td><td>81.27</td><td>278.66</td><td>150</td><td>O</td><td>Gisella Laydon</td><td>177-401-9013</td><td>10/31/2021</td><td>Acute myelomonocytic leukemia</td><td>Gisella Laydon</td><td>Replacement of Left Eye with Synthetic Substitute, Percutaneous Approach</td></tr><tr><td>Lea</td><td>Triggol</td><td>3/30/1989</td><td>Female</td><td>287-305-0131</td><td>13 Comanche Street</td><td>80.84</td><td>76.01</td><td>200</td><td>O</td><td>Lea Triggol</td><td>605-219-9680</td><td>10/1/2008</td><td>Chronic myelomonocytic leukemia, in remission</td><td>Lea Triggol</td><td>Insertion of Intramedullary Internal Fixation Device into Left Femoral Shaft, Open Approach</td></tr></tbody></table></div>"
      ]
     },
     "metadata": {
      "application/vnd.databricks.v1+output": {
       "addedWidgets": {},
       "aggData": [],
       "aggError": "",
       "aggOverflow": false,
       "aggSchema": [],
       "aggSeriesLimitReached": false,
       "aggType": "",
       "arguments": {},
       "columnCustomDisplayInfos": {},
       "data": [
        [
         "Gisella",
         "Laydon",
         "12/5/1926",
         "Polygender",
         "523-508-7703",
         "41847 Corben Crossing",
         "81.27",
         "278.66",
         "150",
         "O",
         "Gisella Laydon",
         "177-401-9013",
         "10/31/2021",
         "Acute myelomonocytic leukemia",
         "Gisella Laydon",
         "Replacement of Left Eye with Synthetic Substitute, Percutaneous Approach"
        ],
        [
         "Lea",
         "Triggol",
         "3/30/1989",
         "Female",
         "287-305-0131",
         "13 Comanche Street",
         "80.84",
         "76.01",
         "200",
         "O",
         "Lea Triggol",
         "605-219-9680",
         "10/1/2008",
         "Chronic myelomonocytic leukemia, in remission",
         "Lea Triggol",
         "Insertion of Intramedullary Internal Fixation Device into Left Femoral Shaft, Open Approach"
        ]
       ],
       "datasetInfos": [],
       "dbfsResultPath": null,
       "isJsonSchema": true,
       "metadata": {},
       "overflow": false,
       "plotOptions": {
        "customPlotOptions": {},
        "displayType": "table",
        "pivotAggregation": null,
        "pivotColumns": null,
        "xColumns": null,
        "yColumns": null
       },
       "removedWidgets": [],
       "schema": [
        {
         "metadata": "{}",
         "name": "first_name",
         "type": "\"string\""
        },
        {
         "metadata": "{}",
         "name": "last_name",
         "type": "\"string\""
        },
        {
         "metadata": "{}",
         "name": "date_of_birth",
         "type": "\"string\""
        },
        {
         "metadata": "{}",
         "name": "gender",
         "type": "\"string\""
        },
        {
         "metadata": "{}",
         "name": "phone_number",
         "type": "\"string\""
        },
        {
         "metadata": "{}",
         "name": "address",
         "type": "\"string\""
        },
        {
         "metadata": "{}",
         "name": "height",
         "type": "\"string\""
        },
        {
         "metadata": "{}",
         "name": "weight",
         "type": "\"string\""
        },
        {
         "metadata": "{}",
         "name": "blood_pressure",
         "type": "\"string\""
        },
        {
         "metadata": "{}",
         "name": "blood_type",
         "type": "\"string\""
        },
        {
         "metadata": "{}",
         "name": "emergency_contact_name",
         "type": "\"string\""
        },
        {
         "metadata": "{}",
         "name": "emergency_contact_phone",
         "type": "\"string\""
        },
        {
         "metadata": "{}",
         "name": "last_visit_date",
         "type": "\"string\""
        },
        {
         "metadata": "{}",
         "name": "Diagnosis_description",
         "type": "\"string\""
        },
        {
         "metadata": "{}",
         "name": "primary_care_physician",
         "type": "\"string\""
        },
        {
         "metadata": "{}",
         "name": "Procedure_description",
         "type": "\"string\""
        }
       ],
       "type": "table"
      }
     },
     "output_type": "display_data"
    }
   ],
   "source": [
    " # getting a patient data which have leukemia in diagnosis description\n",
    " reporting_table = spark.sql(\"\"\" \n",
    "SELECT\n",
    "        first_name,\n",
    "      last_name, \n",
    "      date_of_birth,\n",
    "      gender,\n",
    "      phone_number,\n",
    "      address,\n",
    "      height,\n",
    "      weight,\n",
    "      blood_pressure,\n",
    "      blood_type,\n",
    "      emergency_contact_name,\n",
    "      emergency_contact_phone,\n",
    "      last_visit_date,\n",
    "      Diagnosis_description,\n",
    "      primary_care_physician,\n",
    "      Procedure_description\n",
    "From health_details\n",
    "Where Diagnosis_description LIKE \"%leukemia%\"\n",
    "\"\"\")\n",
    "reporting_table.display()"
   ]
  },
  {
   "cell_type": "code",
   "execution_count": 0,
   "metadata": {
    "application/vnd.databricks.v1+cell": {
     "cellMetadata": {
      "byteLimit": 2048000,
      "implicitDf": true,
      "rowLimit": 10000
     },
     "inputWidgets": {},
     "nuid": "5a35c7d1-4388-4fb6-88a6-7b223c96549f",
     "showTitle": false,
     "tableResultSettingsMap": {},
     "title": ""
    }
   },
   "outputs": [
    {
     "output_type": "display_data",
     "data": {
      "text/html": [
       "<style scoped>\n",
       "  .table-result-container {\n",
       "    max-height: 300px;\n",
       "    overflow: auto;\n",
       "  }\n",
       "  table, th, td {\n",
       "    border: 1px solid black;\n",
       "    border-collapse: collapse;\n",
       "  }\n",
       "  th, td {\n",
       "    padding: 5px;\n",
       "  }\n",
       "  th {\n",
       "    text-align: left;\n",
       "  }\n",
       "</style><div class='table-result-container'><table class='table-result'><thead style='background-color: white'><tr></tr></thead><tbody></tbody></table></div>"
      ]
     },
     "metadata": {
      "application/vnd.databricks.v1+output": {
       "addedWidgets": {},
       "aggData": [],
       "aggError": "",
       "aggOverflow": false,
       "aggSchema": [],
       "aggSeriesLimitReached": false,
       "aggType": "",
       "arguments": {},
       "columnCustomDisplayInfos": {},
       "data": [],
       "datasetInfos": [],
       "dbfsResultPath": null,
       "isJsonSchema": true,
       "metadata": {},
       "overflow": false,
       "plotOptions": {
        "customPlotOptions": {},
        "displayType": "table",
        "pivotAggregation": null,
        "pivotColumns": null,
        "xColumns": null,
        "yColumns": null
       },
       "removedWidgets": [],
       "schema": [],
       "type": "table"
      }
     },
     "output_type": "display_data"
    }
   ],
   "source": [
    "%sql\n",
    "use database health_db"
   ]
  },
  {
   "cell_type": "code",
   "execution_count": 0,
   "metadata": {
    "application/vnd.databricks.v1+cell": {
     "cellMetadata": {
      "byteLimit": 2048000,
      "rowLimit": 10000
     },
     "inputWidgets": {},
     "nuid": "f5391f17-2280-4620-bdf9-15f5488cfebd",
     "showTitle": false,
     "tableResultSettingsMap": {},
     "title": ""
    }
   },
   "outputs": [],
   "source": [
    "reporting_table.write\\\n",
    "    .option('mergeSchema',True)\\\n",
    "    .mode('overwrite')\\\n",
    "    .saveAsTable('reporting_details')"
   ]
  },
  {
   "cell_type": "code",
   "execution_count": 0,
   "metadata": {
    "application/vnd.databricks.v1+cell": {
     "cellMetadata": {
      "byteLimit": 2048000,
      "implicitDf": true,
      "rowLimit": 10000
     },
     "inputWidgets": {},
     "nuid": "45a747bb-e5bf-46b2-9cda-1b3d0f00dc75",
     "showTitle": false,
     "tableResultSettingsMap": {},
     "title": ""
    }
   },
   "outputs": [
    {
     "output_type": "display_data",
     "data": {
      "text/html": [
       "<style scoped>\n",
       "  .table-result-container {\n",
       "    max-height: 300px;\n",
       "    overflow: auto;\n",
       "  }\n",
       "  table, th, td {\n",
       "    border: 1px solid black;\n",
       "    border-collapse: collapse;\n",
       "  }\n",
       "  th, td {\n",
       "    padding: 5px;\n",
       "  }\n",
       "  th {\n",
       "    text-align: left;\n",
       "  }\n",
       "</style><div class='table-result-container'><table class='table-result'><thead style='background-color: white'><tr><th>first_name</th><th>last_name</th><th>date_of_birth</th><th>gender</th><th>phone_number</th><th>address</th><th>height</th><th>weight</th><th>blood_pressure</th><th>blood_type</th><th>emergency_contact_name</th><th>emergency_contact_phone</th><th>last_visit_date</th><th>Diagnosis_description</th><th>primary_care_physician</th><th>Procedure_description</th></tr></thead><tbody><tr><td>Gisella</td><td>Laydon</td><td>12/5/1926</td><td>Polygender</td><td>523-508-7703</td><td>41847 Corben Crossing</td><td>81.27</td><td>278.66</td><td>150</td><td>O</td><td>Gisella Laydon</td><td>177-401-9013</td><td>10/31/2021</td><td>Acute myelomonocytic leukemia</td><td>Gisella Laydon</td><td>Replacement of Left Eye with Synthetic Substitute, Percutaneous Approach</td></tr><tr><td>Lea</td><td>Triggol</td><td>3/30/1989</td><td>Female</td><td>287-305-0131</td><td>13 Comanche Street</td><td>80.84</td><td>76.01</td><td>200</td><td>O</td><td>Lea Triggol</td><td>605-219-9680</td><td>10/1/2008</td><td>Chronic myelomonocytic leukemia, in remission</td><td>Lea Triggol</td><td>Insertion of Intramedullary Internal Fixation Device into Left Femoral Shaft, Open Approach</td></tr></tbody></table></div>"
      ]
     },
     "metadata": {
      "application/vnd.databricks.v1+output": {
       "addedWidgets": {},
       "aggData": [],
       "aggError": "",
       "aggOverflow": false,
       "aggSchema": [],
       "aggSeriesLimitReached": false,
       "aggType": "",
       "arguments": {},
       "columnCustomDisplayInfos": {},
       "data": [
        [
         "Gisella",
         "Laydon",
         "12/5/1926",
         "Polygender",
         "523-508-7703",
         "41847 Corben Crossing",
         "81.27",
         "278.66",
         "150",
         "O",
         "Gisella Laydon",
         "177-401-9013",
         "10/31/2021",
         "Acute myelomonocytic leukemia",
         "Gisella Laydon",
         "Replacement of Left Eye with Synthetic Substitute, Percutaneous Approach"
        ],
        [
         "Lea",
         "Triggol",
         "3/30/1989",
         "Female",
         "287-305-0131",
         "13 Comanche Street",
         "80.84",
         "76.01",
         "200",
         "O",
         "Lea Triggol",
         "605-219-9680",
         "10/1/2008",
         "Chronic myelomonocytic leukemia, in remission",
         "Lea Triggol",
         "Insertion of Intramedullary Internal Fixation Device into Left Femoral Shaft, Open Approach"
        ]
       ],
       "datasetInfos": [],
       "dbfsResultPath": null,
       "isJsonSchema": true,
       "metadata": {},
       "overflow": false,
       "plotOptions": {
        "customPlotOptions": {},
        "displayType": "table",
        "pivotAggregation": null,
        "pivotColumns": null,
        "xColumns": null,
        "yColumns": null
       },
       "removedWidgets": [],
       "schema": [
        {
         "metadata": "{}",
         "name": "first_name",
         "type": "\"string\""
        },
        {
         "metadata": "{}",
         "name": "last_name",
         "type": "\"string\""
        },
        {
         "metadata": "{}",
         "name": "date_of_birth",
         "type": "\"string\""
        },
        {
         "metadata": "{}",
         "name": "gender",
         "type": "\"string\""
        },
        {
         "metadata": "{}",
         "name": "phone_number",
         "type": "\"string\""
        },
        {
         "metadata": "{}",
         "name": "address",
         "type": "\"string\""
        },
        {
         "metadata": "{}",
         "name": "height",
         "type": "\"string\""
        },
        {
         "metadata": "{}",
         "name": "weight",
         "type": "\"string\""
        },
        {
         "metadata": "{}",
         "name": "blood_pressure",
         "type": "\"string\""
        },
        {
         "metadata": "{}",
         "name": "blood_type",
         "type": "\"string\""
        },
        {
         "metadata": "{}",
         "name": "emergency_contact_name",
         "type": "\"string\""
        },
        {
         "metadata": "{}",
         "name": "emergency_contact_phone",
         "type": "\"string\""
        },
        {
         "metadata": "{}",
         "name": "last_visit_date",
         "type": "\"string\""
        },
        {
         "metadata": "{}",
         "name": "Diagnosis_description",
         "type": "\"string\""
        },
        {
         "metadata": "{}",
         "name": "primary_care_physician",
         "type": "\"string\""
        },
        {
         "metadata": "{}",
         "name": "Procedure_description",
         "type": "\"string\""
        }
       ],
       "type": "table"
      }
     },
     "output_type": "display_data"
    }
   ],
   "source": [
    "%sql\n",
    "select * from reporting_details"
   ]
  },
  {
   "cell_type": "code",
   "execution_count": 0,
   "metadata": {
    "application/vnd.databricks.v1+cell": {
     "cellMetadata": {
      "byteLimit": 2048000,
      "rowLimit": 10000
     },
     "inputWidgets": {},
     "nuid": "f7e1678a-8297-46a0-b5b1-875262ebeeb6",
     "showTitle": false,
     "tableResultSettingsMap": {},
     "title": ""
    }
   },
   "outputs": [],
   "source": []
  }
 ],
 "metadata": {
  "application/vnd.databricks.v1+notebook": {
   "computePreferences": null,
   "dashboards": [],
   "environmentMetadata": {
    "base_environment": "",
    "environment_version": "1"
   },
   "inputWidgetPreferences": null,
   "language": "python",
   "notebookMetadata": {
    "mostRecentlyExecutedCommandWithImplicitDF": {
     "commandId": 1712362014182317,
     "dataframes": [
      "_sqldf"
     ]
    },
    "pythonIndentUnit": 4
   },
   "notebookName": "PysparkDataCleaning",
   "widgets": {}
  }
 },
 "nbformat": 4,
 "nbformat_minor": 0
}